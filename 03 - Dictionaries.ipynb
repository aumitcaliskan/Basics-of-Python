{
 "cells": [
  {
   "cell_type": "markdown",
   "metadata": {},
   "source": [
    "# Dictionaries\n",
    "\n",
    "Python dictionaries are unoredered collections of items.  \n",
    "They hold key-value pairs."
   ]
  },
  {
   "cell_type": "markdown",
   "metadata": {},
   "source": [
    "Dictionaries are created as follows:  \n",
    "`sample_dict = {'key1':'value1', 'key2':'value2'}`  \n",
    "\n",
    "Keys must be unique, and of hashable data types (int, float, str, tuple, etc.)  \n",
    "Values can be of any data type.\n",
    "\n",
    "- See the example below to create a dictionary:"
   ]
  },
  {
   "cell_type": "code",
   "execution_count": 1,
   "metadata": {},
   "outputs": [
    {
     "name": "stdout",
     "output_type": "stream",
     "text": [
      "Adınız : Ahmet\n",
      "Soyadınız : Çalışkan\n",
      "Doğum Yılınız : 1990\n"
     ]
    }
   ],
   "source": [
    "name = input('Adınız : ')\n",
    "surname = input('Soyadınız : ')\n",
    "date = int(input('Doğum Yılınız : '))"
   ]
  },
  {
   "cell_type": "code",
   "execution_count": 2,
   "metadata": {},
   "outputs": [
    {
     "name": "stdout",
     "output_type": "stream",
     "text": [
      "Merhaba. Benim adım Ahmet ÇALIŞKAN. 31 yaşındayım.\n"
     ]
    }
   ],
   "source": [
    "print(f'Merhaba. Benim adım {name.title()} {surname.upper()}. {2021-date} yaşındayım.')"
   ]
  },
  {
   "cell_type": "markdown",
   "metadata": {},
   "source": [
    "4 e bölünme\n",
    "100 e bölünürse 400 e de bölünücek"
   ]
  },
  {
   "cell_type": "code",
   "execution_count": 28,
   "metadata": {
    "scrolled": true
   },
   "outputs": [
    {
     "data": {
      "text/plain": [
       "True"
      ]
     },
     "execution_count": 28,
     "metadata": {},
     "output_type": "execute_result"
    }
   ],
   "source": [
    "True or False"
   ]
  },
  {
   "cell_type": "code",
   "execution_count": 29,
   "metadata": {
    "scrolled": true
   },
   "outputs": [
    {
     "data": {
      "text/plain": [
       "False"
      ]
     },
     "execution_count": 29,
     "metadata": {},
     "output_type": "execute_result"
    }
   ],
   "source": [
    "True and False"
   ]
  },
  {
   "cell_type": "markdown",
   "metadata": {},
   "source": [
    "#### False\n",
    "* 0\n",
    "* []\n",
    "* ()\n",
    "* {}\n",
    "* ''\n",
    "* None"
   ]
  },
  {
   "cell_type": "code",
   "execution_count": 42,
   "metadata": {},
   "outputs": [
    {
     "data": {
      "text/plain": [
       "3"
      ]
     },
     "execution_count": 42,
     "metadata": {},
     "output_type": "execute_result"
    }
   ],
   "source": [
    "2 and 3"
   ]
  },
  {
   "cell_type": "code",
   "execution_count": 43,
   "metadata": {},
   "outputs": [
    {
     "data": {
      "text/plain": [
       "2"
      ]
     },
     "execution_count": 43,
     "metadata": {},
     "output_type": "execute_result"
    }
   ],
   "source": [
    "3 and 2"
   ]
  },
  {
   "cell_type": "code",
   "execution_count": 44,
   "metadata": {},
   "outputs": [
    {
     "data": {
      "text/plain": [
       "0"
      ]
     },
     "execution_count": 44,
     "metadata": {},
     "output_type": "execute_result"
    }
   ],
   "source": [
    "0 and 3"
   ]
  },
  {
   "cell_type": "code",
   "execution_count": 51,
   "metadata": {},
   "outputs": [
    {
     "data": {
      "text/plain": [
       "0"
      ]
     },
     "execution_count": 51,
     "metadata": {},
     "output_type": "execute_result"
    }
   ],
   "source": [
    "3 and 0"
   ]
  },
  {
   "cell_type": "code",
   "execution_count": 46,
   "metadata": {},
   "outputs": [
    {
     "data": {
      "text/plain": [
       "3"
      ]
     },
     "execution_count": 46,
     "metadata": {},
     "output_type": "execute_result"
    }
   ],
   "source": [
    "3 or 2"
   ]
  },
  {
   "cell_type": "code",
   "execution_count": 47,
   "metadata": {},
   "outputs": [
    {
     "data": {
      "text/plain": [
       "2"
      ]
     },
     "execution_count": 47,
     "metadata": {},
     "output_type": "execute_result"
    }
   ],
   "source": [
    "2 or 3"
   ]
  },
  {
   "cell_type": "code",
   "execution_count": 48,
   "metadata": {},
   "outputs": [
    {
     "data": {
      "text/plain": [
       "3"
      ]
     },
     "execution_count": 48,
     "metadata": {},
     "output_type": "execute_result"
    }
   ],
   "source": [
    "0 or 3"
   ]
  },
  {
   "cell_type": "code",
   "execution_count": 49,
   "metadata": {},
   "outputs": [
    {
     "data": {
      "text/plain": [
       "3"
      ]
     },
     "execution_count": 49,
     "metadata": {},
     "output_type": "execute_result"
    }
   ],
   "source": [
    "3 or 0"
   ]
  },
  {
   "cell_type": "code",
   "execution_count": 52,
   "metadata": {},
   "outputs": [
    {
     "data": {
      "text/plain": [
       "False"
      ]
     },
     "execution_count": 52,
     "metadata": {},
     "output_type": "execute_result"
    }
   ],
   "source": [
    "not True"
   ]
  },
  {
   "cell_type": "code",
   "execution_count": 53,
   "metadata": {},
   "outputs": [
    {
     "data": {
      "text/plain": [
       "False"
      ]
     },
     "execution_count": 53,
     "metadata": {},
     "output_type": "execute_result"
    }
   ],
   "source": [
    "not 3"
   ]
  },
  {
   "cell_type": "code",
   "execution_count": 54,
   "metadata": {},
   "outputs": [
    {
     "data": {
      "text/plain": [
       "True"
      ]
     },
     "execution_count": 54,
     "metadata": {},
     "output_type": "execute_result"
    }
   ],
   "source": [
    "not 0"
   ]
  },
  {
   "cell_type": "code",
   "execution_count": 55,
   "metadata": {},
   "outputs": [
    {
     "data": {
      "text/plain": [
       "False"
      ]
     },
     "execution_count": 55,
     "metadata": {},
     "output_type": "execute_result"
    }
   ],
   "source": [
    "not True"
   ]
  },
  {
   "cell_type": "code",
   "execution_count": 56,
   "metadata": {},
   "outputs": [
    {
     "data": {
      "text/plain": [
       "True"
      ]
     },
     "execution_count": 56,
     "metadata": {},
     "output_type": "execute_result"
    }
   ],
   "source": [
    "not ()"
   ]
  },
  {
   "cell_type": "code",
   "execution_count": 57,
   "metadata": {},
   "outputs": [
    {
     "data": {
      "text/plain": [
       "True"
      ]
     },
     "execution_count": 57,
     "metadata": {},
     "output_type": "execute_result"
    }
   ],
   "source": [
    "# 1. not, 2. and, 3. or\n",
    "True or not False and False\n",
    "True or True and False"
   ]
  },
  {
   "cell_type": "code",
   "execution_count": 58,
   "metadata": {},
   "outputs": [
    {
     "data": {
      "text/plain": [
       "True"
      ]
     },
     "execution_count": 58,
     "metadata": {},
     "output_type": "execute_result"
    }
   ],
   "source": [
    "False or not False and True or not False and True or False and True or not False"
   ]
  },
  {
   "cell_type": "code",
   "execution_count": 59,
   "metadata": {},
   "outputs": [
    {
     "data": {
      "text/plain": [
       "True"
      ]
     },
     "execution_count": 59,
     "metadata": {},
     "output_type": "execute_result"
    }
   ],
   "source": [
    "False or True and True or True and True or False and True or True"
   ]
  },
  {
   "cell_type": "code",
   "execution_count": 60,
   "metadata": {},
   "outputs": [
    {
     "data": {
      "text/plain": [
       "True"
      ]
     },
     "execution_count": 60,
     "metadata": {},
     "output_type": "execute_result"
    }
   ],
   "source": [
    "False or True or True or False or True"
   ]
  },
  {
   "cell_type": "markdown",
   "metadata": {},
   "source": [
    "4 e bölünme\n",
    "100 e bölünürse 400 e de bölünücek"
   ]
  },
  {
   "cell_type": "code",
   "execution_count": 95,
   "metadata": {
    "scrolled": true
   },
   "outputs": [
    {
     "name": "stdout",
     "output_type": "stream",
     "text": [
      "Give me a year : 2100\n"
     ]
    }
   ],
   "source": [
    "year = int(input('Give me a year : '))"
   ]
  },
  {
   "cell_type": "code",
   "execution_count": 102,
   "metadata": {},
   "outputs": [
    {
     "data": {
      "text/plain": [
       "False"
      ]
     },
     "execution_count": 102,
     "metadata": {},
     "output_type": "execute_result"
    }
   ],
   "source": [
    "1 != 1"
   ]
  },
  {
   "cell_type": "code",
   "execution_count": 103,
   "metadata": {},
   "outputs": [
    {
     "data": {
      "text/plain": [
       "True"
      ]
     },
     "execution_count": 103,
     "metadata": {},
     "output_type": "execute_result"
    }
   ],
   "source": [
    "1 == 1"
   ]
  },
  {
   "cell_type": "code",
   "execution_count": 105,
   "metadata": {
    "scrolled": true
   },
   "outputs": [
    {
     "data": {
      "text/plain": [
       "False"
      ]
     },
     "execution_count": 105,
     "metadata": {},
     "output_type": "execute_result"
    }
   ],
   "source": [
    "2 <= 1"
   ]
  },
  {
   "cell_type": "markdown",
   "metadata": {},
   "source": [
    "## Dictionary"
   ]
  },
  {
   "cell_type": "code",
   "execution_count": null,
   "metadata": {},
   "outputs": [],
   "source": [
    "dict = {'key' : 'value'} # str, int, float, tuple"
   ]
  },
  {
   "cell_type": "code",
   "execution_count": 106,
   "metadata": {},
   "outputs": [],
   "source": [
    "sample_dict = {'a': 1,\n",
    "               'b': 2.2,\n",
    "               'c': [1,2,3],\n",
    "               2: 4,\n",
    "               (5,5): \"sample\",\n",
    "               ('keys','can','be','tuples'):(6,6)}"
   ]
  },
  {
   "cell_type": "code",
   "execution_count": 107,
   "metadata": {
    "scrolled": true
   },
   "outputs": [
    {
     "ename": "TypeError",
     "evalue": "unhashable type: 'list'",
     "output_type": "error",
     "traceback": [
      "\u001b[0;31m---------------------------------------------------------------------------\u001b[0m",
      "\u001b[0;31mTypeError\u001b[0m                                 Traceback (most recent call last)",
      "\u001b[0;32m<ipython-input-107-96dadba751c2>\u001b[0m in \u001b[0;36m<module>\u001b[0;34m\u001b[0m\n\u001b[0;32m----> 1\u001b[0;31m \u001b[0munsuccesful_dict\u001b[0m \u001b[0;34m=\u001b[0m \u001b[0;34m{\u001b[0m\u001b[0;34m[\u001b[0m\u001b[0;34m'keys'\u001b[0m\u001b[0;34m,\u001b[0m\u001b[0;34m'cant'\u001b[0m\u001b[0;34m,\u001b[0m\u001b[0;34m'be'\u001b[0m\u001b[0;34m,\u001b[0m\u001b[0;34m'lists'\u001b[0m\u001b[0;34m]\u001b[0m\u001b[0;34m:\u001b[0m \u001b[0;34m'sample'\u001b[0m\u001b[0;34m}\u001b[0m\u001b[0;34m\u001b[0m\u001b[0;34m\u001b[0m\u001b[0m\n\u001b[0m",
      "\u001b[0;31mTypeError\u001b[0m: unhashable type: 'list'"
     ]
    }
   ],
   "source": [
    "unsuccesful_dict = {['keys','cant','be','lists']: 'sample'}"
   ]
  },
  {
   "cell_type": "code",
   "execution_count": 109,
   "metadata": {},
   "outputs": [],
   "source": [
    "değişken = 'a'"
   ]
  },
  {
   "cell_type": "code",
   "execution_count": 110,
   "metadata": {
    "scrolled": true
   },
   "outputs": [
    {
     "data": {
      "text/plain": [
       "'A'"
      ]
     },
     "execution_count": 110,
     "metadata": {},
     "output_type": "execute_result"
    }
   ],
   "source": [
    "değişken.upper()"
   ]
  },
  {
   "cell_type": "code",
   "execution_count": 112,
   "metadata": {
    "scrolled": true
   },
   "outputs": [
    {
     "data": {
      "text/plain": [
       "'a'"
      ]
     },
     "execution_count": 112,
     "metadata": {},
     "output_type": "execute_result"
    }
   ],
   "source": [
    "değişken"
   ]
  },
  {
   "cell_type": "markdown",
   "metadata": {},
   "source": [
    "Values of dictionaries can be accessed using the key.  \n",
    "```\n",
    "d = {\"a\":1, \"b\":2, \"c\":3}\n",
    "# We want to retrieve value of c\n",
    "print(d[\"c\"])\n",
    "```  \n",
    "Output:  \n",
    "`3`\n",
    "- Using the dictionary below, retrieve the value of Gokturk Khaganate"
   ]
  },
  {
   "cell_type": "code",
   "execution_count": 114,
   "metadata": {},
   "outputs": [],
   "source": [
    "empires = {'Ghaznavid Dynasty': 963, 'Delhi Sultanate': 1206, 'Hunnic Empire': 370,\n",
    "           'Hittite Empire': -1463, 'Gokturk Khaganate': 552, 'Ottoman Empire': 1299}\n",
    "\n",
    "# Write your code here:\n"
   ]
  },
  {
   "cell_type": "code",
   "execution_count": 116,
   "metadata": {
    "scrolled": true
   },
   "outputs": [
    {
     "data": {
      "text/plain": [
       "552"
      ]
     },
     "execution_count": 116,
     "metadata": {},
     "output_type": "execute_result"
    }
   ],
   "source": [
    "empires['Gokturk Khaganate']"
   ]
  },
  {
   "cell_type": "markdown",
   "metadata": {},
   "source": [
    "Dictionaries can be nested to create a more useful data\n",
    "structure.\n",
    "- Find the following using the structure below:\n",
    "    1. Retrieve the foundation date (\"From\") of \"Hunnic Empire\".\n",
    "    2. Retrieve the \"Origin\" of \"Han Dynasty\".\n",
    "    3. Retrieve the fall (\"To\") of \"Hittite Empire\"."
   ]
  },
  {
   "cell_type": "code",
   "execution_count": 117,
   "metadata": {},
   "outputs": [],
   "source": [
    "empires_extended = {'Han Dynasty':        {'Origin': 'China', 'From': '206 BC', 'To': '220'},\n",
    "                    'Empire of Harsha':   {'Origin': 'Northern India', 'From': '606', 'To': '647'},\n",
    "                    'Hephthalite Empire': {'Origin': 'Afghanistan', 'From': '420', 'To': '567'},\n",
    "                    'Hittite Empire':     {'Origin': 'Anatolia', 'From': '1460 BC', 'To': '1180 BC'},\n",
    "                    'Holy Roman Empire':  {'Origin': 'Central Europe', 'From': '962', 'To': '1806'},\n",
    "                    'Hotaki Dynasty':     {'Origin': 'Persia', 'From': '1709', 'To': '1738'},\n",
    "                    'Hoysala Empire':     {'Origin': 'India', 'From': '1026', 'To': '1343'},\n",
    "                    'Hunnic Empire':      {'Origin': 'Eurasia', 'From': '370', 'To': '469'},\n",
    "                    'Idrisid dynasty':    {'Origin': 'Morocco', 'From': '788', 'To': '974'},\n",
    "                    'Ilkhanate':          {'Origin': 'Persia', 'From': '1256', 'To': '1335'}}\n",
    "\n",
    "# Write your code here"
   ]
  },
  {
   "cell_type": "code",
   "execution_count": 128,
   "metadata": {},
   "outputs": [
    {
     "data": {
      "text/plain": [
       "'370'"
      ]
     },
     "execution_count": 128,
     "metadata": {},
     "output_type": "execute_result"
    }
   ],
   "source": [
    "empires_extended['Hunnic Empire']['From']"
   ]
  },
  {
   "cell_type": "code",
   "execution_count": 129,
   "metadata": {},
   "outputs": [
    {
     "data": {
      "text/plain": [
       "'China'"
      ]
     },
     "execution_count": 129,
     "metadata": {},
     "output_type": "execute_result"
    }
   ],
   "source": [
    "empires_extended['Han Dynasty']['Origin'] "
   ]
  },
  {
   "cell_type": "code",
   "execution_count": 130,
   "metadata": {},
   "outputs": [
    {
     "data": {
      "text/plain": [
       "'1180 BC'"
      ]
     },
     "execution_count": 130,
     "metadata": {},
     "output_type": "execute_result"
    }
   ],
   "source": [
    "empires_extended['Hittite Empire']['To'] "
   ]
  },
  {
   "cell_type": "markdown",
   "metadata": {},
   "source": [
    "All keys of a dictionary can be retrieved using `your_dict.keys()` method.  \n",
    "Similarly, all values can be displayed using `your_dict.values()`.  \n",
    "- Print the keys of `empires_extended`."
   ]
  },
  {
   "cell_type": "code",
   "execution_count": 132,
   "metadata": {},
   "outputs": [
    {
     "data": {
      "text/plain": [
       "['Han Dynasty',\n",
       " 'Empire of Harsha',\n",
       " 'Hephthalite Empire',\n",
       " 'Hittite Empire',\n",
       " 'Holy Roman Empire',\n",
       " 'Hotaki Dynasty',\n",
       " 'Hoysala Empire',\n",
       " 'Hunnic Empire',\n",
       " 'Idrisid dynasty',\n",
       " 'Ilkhanate']"
      ]
     },
     "execution_count": 132,
     "metadata": {},
     "output_type": "execute_result"
    }
   ],
   "source": [
    "list(empires_extended.keys())\n",
    "# print(empires_extended.____())"
   ]
  },
  {
   "cell_type": "markdown",
   "metadata": {},
   "source": [
    "- Print the values of `empires_extended`."
   ]
  },
  {
   "cell_type": "code",
   "execution_count": 133,
   "metadata": {},
   "outputs": [
    {
     "data": {
      "text/plain": [
       "[{'Origin': 'China', 'From': '206 BC', 'To': '220'},\n",
       " {'Origin': 'Northern India', 'From': '606', 'To': '647'},\n",
       " {'Origin': 'Afghanistan', 'From': '420', 'To': '567'},\n",
       " {'Origin': 'Anatolia', 'From': '1460 BC', 'To': '1180 BC'},\n",
       " {'Origin': 'Central Europe', 'From': '962', 'To': '1806'},\n",
       " {'Origin': 'Persia', 'From': '1709', 'To': '1738'},\n",
       " {'Origin': 'India', 'From': '1026', 'To': '1343'},\n",
       " {'Origin': 'Eurasia', 'From': '370', 'To': '469'},\n",
       " {'Origin': 'Morocco', 'From': '788', 'To': '974'},\n",
       " {'Origin': 'Persia', 'From': '1256', 'To': '1335'}]"
      ]
     },
     "execution_count": 133,
     "metadata": {},
     "output_type": "execute_result"
    }
   ],
   "source": [
    "list(empires_extended.values())"
   ]
  },
  {
   "cell_type": "markdown",
   "metadata": {},
   "source": [
    "- Check if \"Holy Roman Empire\" exists in keys of `empires_extended`."
   ]
  },
  {
   "cell_type": "code",
   "execution_count": 134,
   "metadata": {
    "scrolled": true
   },
   "outputs": [
    {
     "data": {
      "text/plain": [
       "True"
      ]
     },
     "execution_count": 134,
     "metadata": {},
     "output_type": "execute_result"
    }
   ],
   "source": [
    "'Holy Roman Empire' in empires_extended"
   ]
  },
  {
   "cell_type": "code",
   "execution_count": 137,
   "metadata": {},
   "outputs": [
    {
     "data": {
      "text/plain": [
       "True"
      ]
     },
     "execution_count": 137,
     "metadata": {},
     "output_type": "execute_result"
    }
   ],
   "source": [
    "'Ottoman Empire' not in empires_extended"
   ]
  },
  {
   "cell_type": "code",
   "execution_count": 138,
   "metadata": {},
   "outputs": [],
   "source": [
    "empires_extended['Ottoman Empires'] = {'Origin': 'Turk', 'From': '1299', 'To': '1923'}"
   ]
  },
  {
   "cell_type": "code",
   "execution_count": 139,
   "metadata": {},
   "outputs": [
    {
     "data": {
      "text/plain": [
       "{'Han Dynasty': {'Origin': 'China', 'From': '206 BC', 'To': '220'},\n",
       " 'Empire of Harsha': {'Origin': 'Northern India', 'From': '606', 'To': '647'},\n",
       " 'Hephthalite Empire': {'Origin': 'Afghanistan', 'From': '420', 'To': '567'},\n",
       " 'Hittite Empire': {'Origin': 'Anatolia', 'From': '1460 BC', 'To': '1180 BC'},\n",
       " 'Holy Roman Empire': {'Origin': 'Central Europe',\n",
       "  'From': '962',\n",
       "  'To': '1806'},\n",
       " 'Hotaki Dynasty': {'Origin': 'Persia', 'From': '1709', 'To': '1738'},\n",
       " 'Hoysala Empire': {'Origin': 'India', 'From': '1026', 'To': '1343'},\n",
       " 'Hunnic Empire': {'Origin': 'Eurasia', 'From': '370', 'To': '469'},\n",
       " 'Idrisid dynasty': {'Origin': 'Morocco', 'From': '788', 'To': '974'},\n",
       " 'Ilkhanate': {'Origin': 'Persia', 'From': '1256', 'To': '1335'},\n",
       " 'Ottoman Empires': {'Origin': 'Turk', 'From': '1299', 'To': '1923'}}"
      ]
     },
     "execution_count": 139,
     "metadata": {},
     "output_type": "execute_result"
    }
   ],
   "source": [
    "empires_extended"
   ]
  },
  {
   "cell_type": "markdown",
   "metadata": {},
   "source": [
    "- Check if \"Ottoman Empire\" exists in keys of `empires_extended`."
   ]
  },
  {
   "cell_type": "code",
   "execution_count": null,
   "metadata": {},
   "outputs": [],
   "source": []
  },
  {
   "cell_type": "markdown",
   "metadata": {},
   "source": [
    "Membership test for the keys can also be done as follows:\n",
    "```\n",
    "d = {'a':1, 'b':2}\n",
    "print('a' in d)\n",
    "print('c' in d)\n",
    "```\n",
    "Output:  \n",
    "```\n",
    "True\n",
    "False\n",
    "```"
   ]
  },
  {
   "cell_type": "code",
   "execution_count": null,
   "metadata": {},
   "outputs": [],
   "source": []
  },
  {
   "cell_type": "markdown",
   "metadata": {},
   "source": [
    "New values can be inserted into dictionaries as in `your_dict['new key'] = new_value`.\n",
    "- Insert \"Great Seljuq Empire\" and its foundation date as 1037 into `empires` dictionary.."
   ]
  },
  {
   "cell_type": "code",
   "execution_count": null,
   "metadata": {},
   "outputs": [],
   "source": []
  },
  {
   "cell_type": "markdown",
   "metadata": {},
   "source": [
    "- Insert \"Great Seljuq Empire\"'s detailed information into `empires_extended` dictionary.  \n",
    "*Great Seljuq Empire, Origin: Asia Minor, From: 1037, To: 1194*"
   ]
  },
  {
   "cell_type": "code",
   "execution_count": null,
   "metadata": {},
   "outputs": [],
   "source": []
  },
  {
   "cell_type": "markdown",
   "metadata": {},
   "source": [
    "- Calculate the duration of Great Seljuq Empire and add as a new key into `empires_extended['Great Seljuq Empire']['Duration']`"
   ]
  },
  {
   "cell_type": "code",
   "execution_count": 140,
   "metadata": {},
   "outputs": [],
   "source": [
    "empires_extended['Ottoman Empires'] = {'Origin': 'Turk', 'From': '1299', 'To': '1923', 'Duration' : 600}"
   ]
  },
  {
   "cell_type": "code",
   "execution_count": 142,
   "metadata": {},
   "outputs": [
    {
     "data": {
      "text/plain": [
       "{'Han Dynasty': {'Origin': 'China', 'From': '206 BC', 'To': '220'},\n",
       " 'Empire of Harsha': {'Origin': 'Northern India', 'From': '606', 'To': '647'},\n",
       " 'Hephthalite Empire': {'Origin': 'Afghanistan', 'From': '420', 'To': '567'},\n",
       " 'Hittite Empire': {'Origin': 'Anatolia', 'From': '1460 BC', 'To': '1180 BC'},\n",
       " 'Holy Roman Empire': {'Origin': 'Central Europe',\n",
       "  'From': '962',\n",
       "  'To': '1806'},\n",
       " 'Hotaki Dynasty': {'Origin': 'Persia', 'From': '1709', 'To': '1738'},\n",
       " 'Hoysala Empire': {'Origin': 'India', 'From': '1026', 'To': '1343'},\n",
       " 'Hunnic Empire': {'Origin': 'Eurasia', 'From': '370', 'To': '469'},\n",
       " 'Idrisid dynasty': {'Origin': 'Morocco', 'From': '788', 'To': '974'},\n",
       " 'Ilkhanate': {'Origin': 'Persia', 'From': '1256', 'To': '1335'},\n",
       " 'Ottoman Empires': {'Origin': 'Turk',\n",
       "  'From': '1299',\n",
       "  'To': '1923',\n",
       "  'Duration': 600}}"
      ]
     },
     "execution_count": 142,
     "metadata": {},
     "output_type": "execute_result"
    }
   ],
   "source": [
    "empires_extended"
   ]
  },
  {
   "cell_type": "code",
   "execution_count": 143,
   "metadata": {},
   "outputs": [],
   "source": [
    "empires_extended['Ottoman Empires']['Capital'] = 'Sögüt' "
   ]
  },
  {
   "cell_type": "code",
   "execution_count": 144,
   "metadata": {},
   "outputs": [
    {
     "data": {
      "text/plain": [
       "{'Han Dynasty': {'Origin': 'China', 'From': '206 BC', 'To': '220'},\n",
       " 'Empire of Harsha': {'Origin': 'Northern India', 'From': '606', 'To': '647'},\n",
       " 'Hephthalite Empire': {'Origin': 'Afghanistan', 'From': '420', 'To': '567'},\n",
       " 'Hittite Empire': {'Origin': 'Anatolia', 'From': '1460 BC', 'To': '1180 BC'},\n",
       " 'Holy Roman Empire': {'Origin': 'Central Europe',\n",
       "  'From': '962',\n",
       "  'To': '1806'},\n",
       " 'Hotaki Dynasty': {'Origin': 'Persia', 'From': '1709', 'To': '1738'},\n",
       " 'Hoysala Empire': {'Origin': 'India', 'From': '1026', 'To': '1343'},\n",
       " 'Hunnic Empire': {'Origin': 'Eurasia', 'From': '370', 'To': '469'},\n",
       " 'Idrisid dynasty': {'Origin': 'Morocco', 'From': '788', 'To': '974'},\n",
       " 'Ilkhanate': {'Origin': 'Persia', 'From': '1256', 'To': '1335'},\n",
       " 'Ottoman Empires': {'Origin': 'Turk',\n",
       "  'From': '1299',\n",
       "  'To': '1923',\n",
       "  'Duration': 600,\n",
       "  'Capital': 'Sögüt'}}"
      ]
     },
     "execution_count": 144,
     "metadata": {},
     "output_type": "execute_result"
    }
   ],
   "source": [
    "empires_extended"
   ]
  },
  {
   "cell_type": "markdown",
   "metadata": {},
   "source": [
    "Existing values can be overridden by simply reassigning a value.\n",
    "```\n",
    "d = {'a':1, 'b':2}\n",
    "d['a'] = 3\n",
    "print(d)\n",
    "```\n",
    "Output: `{'a':3, 'b':2}`\n",
    "\n",
    "- Change the Origin of Hittite Empire to \"Corum\"."
   ]
  },
  {
   "cell_type": "code",
   "execution_count": 148,
   "metadata": {},
   "outputs": [
    {
     "data": {
      "text/plain": [
       "{'Han Dynasty': {'Origin': 'China', 'From': '206 BC', 'To': '220'},\n",
       " 'Empire of Harsha': {'Origin': 'Northern India', 'From': '606', 'To': '647'},\n",
       " 'Hephthalite Empire': {'Origin': 'Afghanistan', 'From': '420', 'To': '567'},\n",
       " 'Hittite Empire': {'Origin': 'Anatolia', 'From': '1460 BC', 'To': '1180 BC'},\n",
       " 'Holy Roman Empire': {'Origin': 'Central Europe',\n",
       "  'From': '962',\n",
       "  'To': '1806'},\n",
       " 'Hotaki Dynasty': {'Origin': 'Persia', 'From': '1709', 'To': '1738'},\n",
       " 'Hoysala Empire': {'Origin': 'India', 'From': '1026', 'To': '1343'},\n",
       " 'Hunnic Empire': {'Origin': 'Eurasia', 'From': '370', 'To': '469'},\n",
       " 'Idrisid dynasty': {'Origin': 'Morocco', 'From': '788', 'To': '974'},\n",
       " 'Ilkhanate': {'Origin': 'Persia', 'From': '1256', 'To': '1335'},\n",
       " 'Ottoman Empires': {'Origin': 'Turk',\n",
       "  'From': '1299',\n",
       "  'To': '1923',\n",
       "  'Duration': 600,\n",
       "  'Capital': 'Sögüt'}}"
      ]
     },
     "execution_count": 148,
     "metadata": {},
     "output_type": "execute_result"
    }
   ],
   "source": [
    "empires_extended"
   ]
  },
  {
   "cell_type": "markdown",
   "metadata": {},
   "source": [
    "Existing keys can be deleted using `del`.\n",
    "```\n",
    "d = {'a':1, 'b':2}\n",
    "del d['a']\n",
    "print(d)\n",
    "```\n",
    "Output: `{'b':2}`\n",
    "\n",
    "- Delete \"Hoysala Empire\" from `empires_extended` dictionary."
   ]
  },
  {
   "cell_type": "code",
   "execution_count": 150,
   "metadata": {},
   "outputs": [],
   "source": [
    "del empires_extended['Hoysala Empire']"
   ]
  },
  {
   "cell_type": "code",
   "execution_count": 152,
   "metadata": {
    "scrolled": true
   },
   "outputs": [
    {
     "data": {
      "text/plain": [
       "('Ottoman Empires',\n",
       " {'Origin': 'Turk',\n",
       "  'From': '1299',\n",
       "  'To': '1923',\n",
       "  'Duration': 600,\n",
       "  'Capital': 'Sögüt'})"
      ]
     },
     "execution_count": 152,
     "metadata": {},
     "output_type": "execute_result"
    }
   ],
   "source": [
    "empires_extended.popitem()           # sondakini siliyor."
   ]
  },
  {
   "cell_type": "code",
   "execution_count": null,
   "metadata": {},
   "outputs": [],
   "source": [
    "# empires_extended.pop('Hephthalite Empire') = del empires_extended['Hephthalite Empire']"
   ]
  },
  {
   "cell_type": "code",
   "execution_count": 157,
   "metadata": {},
   "outputs": [
    {
     "data": {
      "text/plain": [
       "{'Han Dynasty': {'Origin': 'China', 'From': '206 BC', 'To': '220'},\n",
       " 'Empire of Harsha': {'Origin': 'Northern India', 'From': '606', 'To': '647'},\n",
       " 'Hittite Empire': {'Origin': 'Anatolia', 'From': '1460 BC', 'To': '1180 BC'},\n",
       " 'Holy Roman Empire': {'Origin': 'Central Europe',\n",
       "  'From': '962',\n",
       "  'To': '1806'},\n",
       " 'Hotaki Dynasty': {'Origin': 'Persia', 'From': '1709', 'To': '1738'},\n",
       " 'Hunnic Empire': {'Origin': 'Eurasia', 'From': '370', 'To': '469'},\n",
       " 'Idrisid dynasty': {'Origin': 'Morocco', 'From': '788', 'To': '974'},\n",
       " 'Ilkhanate': {'Origin': 'Persia', 'From': '1256', 'To': '1335'}}"
      ]
     },
     "execution_count": 157,
     "metadata": {},
     "output_type": "execute_result"
    }
   ],
   "source": [
    "empires_extended"
   ]
  },
  {
   "cell_type": "markdown",
   "metadata": {},
   "source": [
    "- How many empires are there in `empires_extended` dictionary?  \n",
    "(Hint: use `len(empires_extended)`)"
   ]
  },
  {
   "cell_type": "code",
   "execution_count": 160,
   "metadata": {},
   "outputs": [
    {
     "data": {
      "text/plain": [
       "{'Han Dynasty': {'Origin': 'China', 'From': '206 BC', 'To': '220'},\n",
       " 'Empire of Harsha': {'Origin': 'Northern India', 'From': '606', 'To': '647'},\n",
       " 'Hittite Empire': {'Origin': 'Anatolia', 'From': '1460 BC', 'To': '1180 BC'},\n",
       " 'Holy Roman Empire': {'Origin': 'Central Europe',\n",
       "  'From': '962',\n",
       "  'To': '1806'},\n",
       " 'Hotaki Dynasty': {'Origin': 'Persia', 'From': '1709', 'To': '1738'},\n",
       " 'Hunnic Empire': {'Origin': 'Eurasia', 'From': '370', 'To': '469'},\n",
       " 'Idrisid dynasty': {'Origin': 'Morocco', 'From': '788', 'To': '974'},\n",
       " 'Ilkhanate': {'Origin': 'Persia', 'From': '1256', 'To': '1335'}}"
      ]
     },
     "execution_count": 160,
     "metadata": {},
     "output_type": "execute_result"
    }
   ],
   "source": [
    "empires_extended"
   ]
  },
  {
   "cell_type": "code",
   "execution_count": 159,
   "metadata": {},
   "outputs": [
    {
     "data": {
      "text/plain": [
       "8"
      ]
     },
     "execution_count": 159,
     "metadata": {},
     "output_type": "execute_result"
    }
   ],
   "source": [
    "len(empires_extended)"
   ]
  },
  {
   "cell_type": "code",
   "execution_count": 161,
   "metadata": {},
   "outputs": [
    {
     "data": {
      "text/plain": [
       "3"
      ]
     },
     "execution_count": 161,
     "metadata": {},
     "output_type": "execute_result"
    }
   ],
   "source": [
    "len(empires_extended['Holy Roman Empire'])"
   ]
  },
  {
   "cell_type": "markdown",
   "metadata": {},
   "source": [
    "- Get empire names in alphabetical order."
   ]
  },
  {
   "cell_type": "code",
   "execution_count": 170,
   "metadata": {},
   "outputs": [],
   "source": [
    "a = list(empires_extended.keys())"
   ]
  },
  {
   "cell_type": "code",
   "execution_count": 173,
   "metadata": {
    "scrolled": true
   },
   "outputs": [],
   "source": [
    "a.sort()"
   ]
  },
  {
   "cell_type": "code",
   "execution_count": 175,
   "metadata": {},
   "outputs": [
    {
     "data": {
      "text/plain": [
       "['Empire of Harsha',\n",
       " 'Han Dynasty',\n",
       " 'Hittite Empire',\n",
       " 'Holy Roman Empire',\n",
       " 'Hotaki Dynasty',\n",
       " 'Hunnic Empire',\n",
       " 'Idrisid dynasty',\n",
       " 'Ilkhanate']"
      ]
     },
     "execution_count": 175,
     "metadata": {},
     "output_type": "execute_result"
    }
   ],
   "source": [
    "a"
   ]
  },
  {
   "cell_type": "code",
   "execution_count": 176,
   "metadata": {
    "scrolled": true
   },
   "outputs": [
    {
     "data": {
      "text/plain": [
       "['Empire of Harsha',\n",
       " 'Han Dynasty',\n",
       " 'Hittite Empire',\n",
       " 'Holy Roman Empire',\n",
       " 'Hotaki Dynasty',\n",
       " 'Hunnic Empire',\n",
       " 'Idrisid dynasty',\n",
       " 'Ilkhanate']"
      ]
     },
     "execution_count": 176,
     "metadata": {},
     "output_type": "execute_result"
    }
   ],
   "source": [
    "sorted(empires_extended.keys())"
   ]
  },
  {
   "cell_type": "code",
   "execution_count": 177,
   "metadata": {},
   "outputs": [
    {
     "data": {
      "text/plain": [
       "{'Han Dynasty': {'Origin': 'China', 'From': '206 BC', 'To': '220'},\n",
       " 'Empire of Harsha': {'Origin': 'Northern India', 'From': '606', 'To': '647'},\n",
       " 'Hittite Empire': {'Origin': 'Anatolia', 'From': '1460 BC', 'To': '1180 BC'},\n",
       " 'Holy Roman Empire': {'Origin': 'Central Europe',\n",
       "  'From': '962',\n",
       "  'To': '1806'},\n",
       " 'Hotaki Dynasty': {'Origin': 'Persia', 'From': '1709', 'To': '1738'},\n",
       " 'Hunnic Empire': {'Origin': 'Eurasia', 'From': '370', 'To': '469'},\n",
       " 'Idrisid dynasty': {'Origin': 'Morocco', 'From': '788', 'To': '974'},\n",
       " 'Ilkhanate': {'Origin': 'Persia', 'From': '1256', 'To': '1335'}}"
      ]
     },
     "execution_count": 177,
     "metadata": {},
     "output_type": "execute_result"
    }
   ],
   "source": [
    "empires_extended"
   ]
  },
  {
   "cell_type": "markdown",
   "metadata": {},
   "source": [
    "`.items()` method returns key-value pairs in tuples.\n",
    "- Retrieve key-value pairs of `empires` dictionary."
   ]
  },
  {
   "cell_type": "code",
   "execution_count": null,
   "metadata": {},
   "outputs": [],
   "source": []
  },
  {
   "cell_type": "markdown",
   "metadata": {},
   "source": [
    "- Sort key-value pairs of `empires` dictionary alphabetically.  \n",
    "(Hint: Use `sorted()` function on `empires.items()`.)"
   ]
  },
  {
   "cell_type": "code",
   "execution_count": null,
   "metadata": {},
   "outputs": [],
   "source": []
  },
  {
   "cell_type": "markdown",
   "metadata": {},
   "source": [
    "Just like lists, dictionaries are also called by reference.\n",
    "- Execute the code below to see this issue.  \n",
    "This code also shows another way of creating dictionaries and inserting items."
   ]
  },
  {
   "cell_type": "code",
   "execution_count": null,
   "metadata": {},
   "outputs": [],
   "source": [
    "dict_a = dict(a=1, b=2, c=3)\n",
    "dict_b = dict_a\n",
    "\n",
    "dict_a.update(e=3)\n",
    "print(dict_b)\n"
   ]
  },
  {
   "cell_type": "markdown",
   "metadata": {},
   "source": [
    "- Find a useful method to copy a dictionary using the table below, without creating a reference."
   ]
  },
  {
   "cell_type": "code",
   "execution_count": 179,
   "metadata": {},
   "outputs": [],
   "source": [
    "empires_extended.update(Turkey = {'Origin' : 'Turk'})"
   ]
  },
  {
   "cell_type": "code",
   "execution_count": 180,
   "metadata": {
    "scrolled": true
   },
   "outputs": [
    {
     "data": {
      "text/plain": [
       "{'Han Dynasty': {'Origin': 'China', 'From': '206 BC', 'To': '220'},\n",
       " 'Empire of Harsha': {'Origin': 'Northern India', 'From': '606', 'To': '647'},\n",
       " 'Hittite Empire': {'Origin': 'Anatolia', 'From': '1460 BC', 'To': '1180 BC'},\n",
       " 'Holy Roman Empire': {'Origin': 'Central Europe',\n",
       "  'From': '962',\n",
       "  'To': '1806'},\n",
       " 'Hotaki Dynasty': {'Origin': 'Persia', 'From': '1709', 'To': '1738'},\n",
       " 'Hunnic Empire': {'Origin': 'Eurasia', 'From': '370', 'To': '469'},\n",
       " 'Idrisid dynasty': {'Origin': 'Morocco', 'From': '788', 'To': '974'},\n",
       " 'Ilkhanate': {'Origin': 'Persia', 'From': '1256', 'To': '1335'},\n",
       " 'Turkey': {'Origin': 'Turk'}}"
      ]
     },
     "execution_count": 180,
     "metadata": {},
     "output_type": "execute_result"
    }
   ],
   "source": [
    "empires_extended"
   ]
  },
  {
   "cell_type": "code",
   "execution_count": 181,
   "metadata": {},
   "outputs": [],
   "source": [
    "empires_extended.update(Turkey = {'Origin' : 'Afghan'})"
   ]
  },
  {
   "cell_type": "code",
   "execution_count": 182,
   "metadata": {
    "scrolled": false
   },
   "outputs": [
    {
     "data": {
      "text/plain": [
       "{'Han Dynasty': {'Origin': 'China', 'From': '206 BC', 'To': '220'},\n",
       " 'Empire of Harsha': {'Origin': 'Northern India', 'From': '606', 'To': '647'},\n",
       " 'Hittite Empire': {'Origin': 'Anatolia', 'From': '1460 BC', 'To': '1180 BC'},\n",
       " 'Holy Roman Empire': {'Origin': 'Central Europe',\n",
       "  'From': '962',\n",
       "  'To': '1806'},\n",
       " 'Hotaki Dynasty': {'Origin': 'Persia', 'From': '1709', 'To': '1738'},\n",
       " 'Hunnic Empire': {'Origin': 'Eurasia', 'From': '370', 'To': '469'},\n",
       " 'Idrisid dynasty': {'Origin': 'Morocco', 'From': '788', 'To': '974'},\n",
       " 'Ilkhanate': {'Origin': 'Persia', 'From': '1256', 'To': '1335'},\n",
       " 'Turkey': {'Origin': 'Afghan'}}"
      ]
     },
     "execution_count": 182,
     "metadata": {},
     "output_type": "execute_result"
    }
   ],
   "source": [
    "empires_extended"
   ]
  },
  {
   "cell_type": "code",
   "execution_count": null,
   "metadata": {},
   "outputs": [],
   "source": [
    "empires_extended['Turkey'] = {'asdasdasd' : 'asdasd'}"
   ]
  },
  {
   "cell_type": "markdown",
   "metadata": {},
   "source": [
    "## Other dictionary methods\n",
    "\n",
    "|Method|Description|\n",
    "|---|----|\n",
    "|clear()|Remove all items form the dictionary.|\n",
    "|copy()|Return a shallow copy of the dictionary.|\n",
    "|fromkeys(seq[, v])|Return a new dictionary with keys from seq and value equal to v (defaults to None).|\n",
    "|get(key[,d])|Return the value of key. If key doesnot exit, return d (defaults to None).|\n",
    "|items()|Return a new view of the dictionary's items (key, value).|\n",
    "|keys()|Return a new view of the dictionary's keys.|\n",
    "|pop(key[,d])|Remove the item with key and return its value or d if key is not found. If d is not provided and key is not found, raises KeyError.\n",
    "|popitem()|Remove and return an arbitary item (key, value). Raises KeyError if the dictionary is empty.\n",
    "|setdefault(key[,d])|If key is in the dictionary, return its value. If not, insert key with a value of d and return d (defaults to None).\n",
    "|update([other])|Update the dictionary with the key/value pairs from other, overwriting existing keys.\n",
    "|values()|Return a new view of the dictionary's values"
   ]
  },
  {
   "cell_type": "code",
   "execution_count": null,
   "metadata": {},
   "outputs": [],
   "source": []
  }
 ],
 "metadata": {
  "kernelspec": {
   "display_name": "Python 3",
   "language": "python",
   "name": "python3"
  },
  "language_info": {
   "codemirror_mode": {
    "name": "ipython",
    "version": 3
   },
   "file_extension": ".py",
   "mimetype": "text/x-python",
   "name": "python",
   "nbconvert_exporter": "python",
   "pygments_lexer": "ipython3",
   "version": "3.8.5"
  }
 },
 "nbformat": 4,
 "nbformat_minor": 2
}
