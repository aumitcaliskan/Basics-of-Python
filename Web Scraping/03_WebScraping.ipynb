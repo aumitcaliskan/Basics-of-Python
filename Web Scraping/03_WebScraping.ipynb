{
 "cells": [
  {
   "cell_type": "code",
   "execution_count": 65,
   "id": "e3bd9357",
   "metadata": {},
   "outputs": [],
   "source": [
    "import requests\n",
    "import bs4\n",
    "import re\n",
    "import numpy as np\n",
    "import pandas as pd"
   ]
  },
  {
   "cell_type": "code",
   "execution_count": 2,
   "id": "54c015de",
   "metadata": {},
   "outputs": [],
   "source": [
    "# Trial"
   ]
  },
  {
   "cell_type": "code",
   "execution_count": 3,
   "id": "7074a830",
   "metadata": {},
   "outputs": [],
   "source": [
    "base_url = 'https://www.n11.com/televizyon-ve-ses-sistemleri/televizyon/led-tv?pg={}'"
   ]
  },
  {
   "cell_type": "code",
   "execution_count": 4,
   "id": "82948e82",
   "metadata": {},
   "outputs": [
    {
     "data": {
      "text/plain": [
       "'https://www.n11.com/televizyon-ve-ses-sistemleri/televizyon/led-tv?pg=50'"
      ]
     },
     "execution_count": 4,
     "metadata": {},
     "output_type": "execute_result"
    }
   ],
   "source": [
    "base_url.format('50')"
   ]
  },
  {
   "cell_type": "code",
   "execution_count": 5,
   "id": "fce23da2",
   "metadata": {},
   "outputs": [],
   "source": [
    "# There are 50 pages."
   ]
  },
  {
   "cell_type": "code",
   "execution_count": 6,
   "id": "3799e510",
   "metadata": {},
   "outputs": [],
   "source": [
    "res = requests.get(base_url.format(2))"
   ]
  },
  {
   "cell_type": "code",
   "execution_count": 7,
   "id": "6aa347c7",
   "metadata": {},
   "outputs": [],
   "source": [
    "soup = bs4.BeautifulSoup(res.text, 'lxml')"
   ]
  },
  {
   "cell_type": "code",
   "execution_count": 8,
   "id": "dfc5087f",
   "metadata": {
    "scrolled": true
   },
   "outputs": [],
   "source": [
    "tv = soup.select(\".column\")"
   ]
  },
  {
   "cell_type": "code",
   "execution_count": 9,
   "id": "5896bc64",
   "metadata": {},
   "outputs": [],
   "source": [
    "example = tv[1]"
   ]
  },
  {
   "cell_type": "code",
   "execution_count": 10,
   "id": "49098650",
   "metadata": {
    "scrolled": false
   },
   "outputs": [
    {
     "data": {
      "text/plain": [
       "<li class=\"column\">\n",
       "<script type=\"text/javascript\">\n",
       "var customTextOptionMap = {};\n",
       "</script>\n",
       "<!-- product_light_cache_view -->\n",
       "<div class=\"columnContent\" data-ctgid=\"12\" data-position=\"30\" data-searchcount=\"2185\" id=\"p-409750698\">\n",
       "<div class=\"pro\">\n",
       "<a class=\"plink\" data-id=\"409750698\" href=\"https://www.n11.com/urun/navigold-ng-1930-19-hd-led-tv-monitor-2297438?magaza=naviprime\" title='Navigold NG-1930 19\" HD Led TV &amp; Monitör'>\n",
       "<img alt='Navigold NG-1930 19\" HD Led TV &amp; Monitör' class=\"lazy\" data-original=\"https://n11scdn.akamaized.net/a1/140/elektronik/led-tv/navigold-ng-1930-19-hd-led-tv-monitor__0658884723468465.jpg\" height=\"140\" src=\"https://n11scdn.akamaized.net/static/css/jquery/img/blank.gif\" width=\"140\"/>\n",
       "<h3 class=\"productName\">\n",
       "                                Navigold NG-1930 19\" HD Led TV &amp; Monitör\n",
       "            </h3>\n",
       "<span class=\"loading\"></span>\n",
       "</a>\n",
       "<div class=\"ratingCont\">\n",
       "<span class=\"rating r90\"></span>\n",
       "<span class=\"ratingText\">(52)</span>\n",
       "</div>\n",
       "<span class=\"textImg followBtn\" data-controlformid=\"addToWatchlistForm409750698\" data-productid=\"409750698\" data-returnurl=\"/izle/urun/yonlendir/409750698?referrerPageForWatchList=%2Ftelevizyon-ve-ses-sistemleri%2Ftelevizyon%2Fled-tv%3Fpg%3D2%23p-409750698\" title=\"Favorilere ekle\"></span>\n",
       "<p class=\"agt-view\"></p>\n",
       "</div>\n",
       "<div class=\"proDetail\">\n",
       "<span class=\"oldPrice cPoint priceEventClick\" data-href=\"https://www.n11.com/urun/navigold-ng-1930-19-hd-led-tv-monitor-2297438?magaza=naviprime\" data-id=\"409750698\" title='Navigold NG-1930 19\" HD Led TV &amp; Monitör'><del>1.450,00 TL</del></span> <span class=\"newPrice cPoint priceEventClick\" data-href=\"https://www.n11.com/urun/navigold-ng-1930-19-hd-led-tv-monitor-2297438?magaza=naviprime\" data-id=\"409750698\" title='Navigold NG-1930 19\" HD Led TV &amp; Monitör'>\n",
       "<ins>1.377,50\n",
       "                <span content=\"TRY\">TL</span>\n",
       "</ins>\n",
       "</span>\n",
       "<div class=\"discount discountS\">\n",
       "<div>\n",
       "<span class=\"percent\">%</span>\n",
       "<span class=\"ratio\">5</span>\n",
       "</div>\n",
       "</div>\n",
       "<span class=\"textImg freeShipping\"></span>\n",
       "</div>\n",
       "<div class=\"sallerInfo cPoint\" onclick=\"location.href='https://www.n11.com/magaza/naviprime'\" title=\"naviprime\">\n",
       "<span class=\"textImg sellerText\"></span>\n",
       "<span class=\"sallerName\">\n",
       "        naviprime\n",
       "            </span>\n",
       "<span class=\"textImg sellerPointText shopPointLabel\" title=\"Mağaza Puanı\"></span>\n",
       "<div class=\"shopPoint\">\n",
       "<div class=\"pointBar\">\n",
       "<span class=\"bar yellow\" style=\"width:88%\"></span>\n",
       "<span class=\"point\">%88</span>\n",
       "</div>\n",
       "</div>\n",
       "<div class=\"badgeSaller\">\n",
       "<ul>\n",
       "<li>\n",
       "<span class=\"badge badgeFast\"></span>\n",
       "<div class=\"tooltipHolder\" data-content=\"Bu mağaza, siparişleri &lt;br/&gt;en fazla 2 iş günü &lt;br/&gt;içinde gönderdi.\"><div class=\"tooltip\"><i></i></div></div>\n",
       "</li>\n",
       "</ul>\n",
       "</div>\n",
       "<span class=\"textImg btnAllShopPro\" title=\"naviprime\"></span>\n",
       "</div>\n",
       "</div>\n",
       "<input class=\"productDisplayPrice\" type=\"hidden\" value=\"1,377.5\"/>\n",
       "<input class=\"isAdvantageDelivery\" type=\"hidden\" value=\"false\"/>\n",
       "<input class=\"isAdvantageSameDayDelivery\" type=\"hidden\" value=\"false\"/>\n",
       "<input class=\"isCourierSameDayDelivery\" type=\"hidden\" value=\"false\"/>\n",
       "<input class=\"advantageDeliveryDiscount\" type=\"hidden\" value=\"0\"/>\n",
       "<input class=\"advantageDeliveryDiscountedPrice\" type=\"hidden\" value=\"1.377,50\"/>\n",
       "<input class=\"advantageDeliveryPlaces\" data-place=\"false\" type=\"hidden\" value=\"\"/>\n",
       "</li>"
      ]
     },
     "execution_count": 10,
     "metadata": {},
     "output_type": "execute_result"
    }
   ],
   "source": [
    "example"
   ]
  },
  {
   "cell_type": "code",
   "execution_count": null,
   "id": "b5712ba8",
   "metadata": {},
   "outputs": [],
   "source": [
    "# How to find name, seller and price information"
   ]
  },
  {
   "cell_type": "code",
   "execution_count": 11,
   "id": "b38b5e19",
   "metadata": {},
   "outputs": [
    {
     "data": {
      "text/plain": [
       "'Navigold NG-1930 19\" HD Led TV & Monitör'"
      ]
     },
     "execution_count": 11,
     "metadata": {},
     "output_type": "execute_result"
    }
   ],
   "source": [
    "example.select(\".plink\")[0]['title']"
   ]
  },
  {
   "cell_type": "code",
   "execution_count": 12,
   "id": "d35abaad",
   "metadata": {
    "scrolled": false
   },
   "outputs": [
    {
     "data": {
      "text/plain": [
       "'naviprime'"
      ]
     },
     "execution_count": 12,
     "metadata": {},
     "output_type": "execute_result"
    }
   ],
   "source": [
    "example.select(\".sallerInfo.cPoint\")[0]['title']"
   ]
  },
  {
   "cell_type": "code",
   "execution_count": 13,
   "id": "fec7ebbb",
   "metadata": {},
   "outputs": [
    {
     "data": {
      "text/plain": [
       "'1,377.5'"
      ]
     },
     "execution_count": 13,
     "metadata": {},
     "output_type": "execute_result"
    }
   ],
   "source": [
    "example.select(\".productDisplayPrice\")[0]['value']"
   ]
  },
  {
   "cell_type": "code",
   "execution_count": 14,
   "id": "9d130908",
   "metadata": {},
   "outputs": [],
   "source": [
    "# Build a List for all Tv's"
   ]
  },
  {
   "cell_type": "code",
   "execution_count": 15,
   "id": "0dd3aa9c",
   "metadata": {},
   "outputs": [],
   "source": [
    "tvs = []\n",
    "\n",
    "for n in range(2,51):\n",
    "    \n",
    "    scrape_url = base_url.format(n)\n",
    "    res = requests.get(scrape_url)\n",
    "    soup = bs4.BeautifulSoup(res.text, 'lxml')\n",
    "    \n",
    "    tv = soup.select(\".column\")\n",
    "    tvs.append(tv)"
   ]
  },
  {
   "cell_type": "code",
   "execution_count": 16,
   "id": "04ed6fe5",
   "metadata": {},
   "outputs": [],
   "source": [
    "# Get the name, seller and price information from tvs"
   ]
  },
  {
   "cell_type": "code",
   "execution_count": 17,
   "id": "42c34320",
   "metadata": {},
   "outputs": [],
   "source": [
    "Name = []\n",
    "Seller = []\n",
    "Price = []\n",
    "\n",
    "for i in range(0,49):\n",
    "    for j in range(0,25):\n",
    "        tv_name = tvs[i][j].select(\".plink\")[0]['title']\n",
    "        Name.append(tv_name)\n",
    "        tv_seller = tvs[i][j].select(\".sallerInfo.cPoint\")[0]['title']\n",
    "        Seller.append(tv_seller)\n",
    "        tv_price = tvs[i][j].select(\".productDisplayPrice\")[0]['value']\n",
    "        Price.append(tv_price)"
   ]
  },
  {
   "cell_type": "code",
   "execution_count": 18,
   "id": "a80f47bc",
   "metadata": {},
   "outputs": [
    {
     "data": {
      "text/plain": [
       "1225"
      ]
     },
     "execution_count": 18,
     "metadata": {},
     "output_type": "execute_result"
    }
   ],
   "source": [
    "len(Price)"
   ]
  },
  {
   "cell_type": "code",
   "execution_count": 19,
   "id": "96831681",
   "metadata": {},
   "outputs": [],
   "source": [
    "# we have 1225 tv."
   ]
  },
  {
   "cell_type": "code",
   "execution_count": 20,
   "id": "9e218ccf",
   "metadata": {},
   "outputs": [],
   "source": [
    "# Converting List to DataFrame"
   ]
  },
  {
   "cell_type": "code",
   "execution_count": 21,
   "id": "fb76123f",
   "metadata": {
    "scrolled": false
   },
   "outputs": [],
   "source": [
    "df = pd.DataFrame({'Name': Name, 'Seller': Seller, 'Price': Price})"
   ]
  },
  {
   "cell_type": "code",
   "execution_count": 22,
   "id": "b1a28803",
   "metadata": {},
   "outputs": [],
   "source": [
    "# Converting price type from object to float"
   ]
  },
  {
   "cell_type": "code",
   "execution_count": 23,
   "id": "26704b34",
   "metadata": {},
   "outputs": [],
   "source": [
    "for i in range(len(df)):\n",
    "    df['Price'][i] = re.sub(r\",\", \"\", df['Price'][i], flags=re.I)"
   ]
  },
  {
   "cell_type": "code",
   "execution_count": 24,
   "id": "2ab6b97b",
   "metadata": {},
   "outputs": [],
   "source": [
    "df['Price'] = df['Price'].astype(float)"
   ]
  },
  {
   "cell_type": "code",
   "execution_count": 25,
   "id": "d1e7c120",
   "metadata": {},
   "outputs": [],
   "source": [
    "# Extract name, size and smartness information from Name column."
   ]
  },
  {
   "cell_type": "code",
   "execution_count": 26,
   "id": "602f7a2c",
   "metadata": {},
   "outputs": [],
   "source": [
    "Brand = []\n",
    "\n",
    "for i in range(len(df)):\n",
    "    Brand.append(df['Name'][i].split(' ')[0])"
   ]
  },
  {
   "cell_type": "code",
   "execution_count": 27,
   "id": "24d5bfa2",
   "metadata": {},
   "outputs": [],
   "source": [
    "df['Brand'] = Brand"
   ]
  },
  {
   "cell_type": "code",
   "execution_count": 28,
   "id": "00edf774",
   "metadata": {},
   "outputs": [],
   "source": [
    "Model = []\n",
    "\n",
    "for i in range(len(df)):\n",
    "    Model.append(df['Name'][i].split(' ')[1])"
   ]
  },
  {
   "cell_type": "code",
   "execution_count": 29,
   "id": "e4a30209",
   "metadata": {},
   "outputs": [],
   "source": [
    "df['Model'] = Model"
   ]
  },
  {
   "cell_type": "code",
   "execution_count": 68,
   "id": "5256ca17",
   "metadata": {},
   "outputs": [],
   "source": [
    "# There are not any model name below 3 characters."
   ]
  },
  {
   "cell_type": "code",
   "execution_count": 30,
   "id": "0e9f0f38",
   "metadata": {},
   "outputs": [
    {
     "name": "stderr",
     "output_type": "stream",
     "text": [
      "C:\\Users\\ahmet\\AppData\\Local\\Temp/ipykernel_19092/1808185688.py:3: SettingWithCopyWarning: \n",
      "A value is trying to be set on a copy of a slice from a DataFrame\n",
      "\n",
      "See the caveats in the documentation: https://pandas.pydata.org/pandas-docs/stable/user_guide/indexing.html#returning-a-view-versus-a-copy\n",
      "  df['Model'][i] = np.NaN\n"
     ]
    }
   ],
   "source": [
    "for i in range(len(df)):\n",
    "    if len(df['Model'][i]) < 3:\n",
    "        df['Model'][i] = np.NaN"
   ]
  },
  {
   "cell_type": "code",
   "execution_count": 31,
   "id": "670f99e5",
   "metadata": {},
   "outputs": [],
   "source": [
    "Size = []\n",
    "\n",
    "for i in range(len(df)):\n",
    "    Size.append(re.findall(r\"\\d+\\\"\", df['Name'][i]))"
   ]
  },
  {
   "cell_type": "code",
   "execution_count": 32,
   "id": "1fd3e349",
   "metadata": {},
   "outputs": [],
   "source": [
    "df['Size'] = Size"
   ]
  },
  {
   "cell_type": "code",
   "execution_count": 33,
   "id": "b89f60c2",
   "metadata": {},
   "outputs": [],
   "source": [
    "df['Size'] = df['Size'].str[0]"
   ]
  },
  {
   "cell_type": "code",
   "execution_count": 34,
   "id": "4fee4128",
   "metadata": {},
   "outputs": [],
   "source": [
    "df['Size'] = df['Size'].replace(regex=r'\\\"', value='')"
   ]
  },
  {
   "cell_type": "code",
   "execution_count": 35,
   "id": "df09305e",
   "metadata": {},
   "outputs": [],
   "source": [
    "Smart = []\n",
    "\n",
    "for i in range(len(df)):\n",
    "    Smart.append(re.findall(r\"Smart\", df['Name'][i]))"
   ]
  },
  {
   "cell_type": "code",
   "execution_count": 36,
   "id": "d94f6d6f",
   "metadata": {},
   "outputs": [],
   "source": [
    "df['Smart'] = Smart"
   ]
  },
  {
   "cell_type": "code",
   "execution_count": 37,
   "id": "c3fdac9d",
   "metadata": {},
   "outputs": [],
   "source": [
    "df['Smart'] = df['Smart'].str[0]"
   ]
  },
  {
   "cell_type": "code",
   "execution_count": 38,
   "id": "fd61f52b",
   "metadata": {},
   "outputs": [],
   "source": [
    "df.drop('Name',axis=1, inplace=True)"
   ]
  },
  {
   "cell_type": "code",
   "execution_count": 39,
   "id": "c0b97b90",
   "metadata": {},
   "outputs": [],
   "source": [
    "# Setting column's order"
   ]
  },
  {
   "cell_type": "code",
   "execution_count": 40,
   "id": "b01c0d98",
   "metadata": {},
   "outputs": [],
   "source": [
    "order = ['Brand', 'Model', 'Size', 'Smart', 'Seller', 'Price']"
   ]
  },
  {
   "cell_type": "code",
   "execution_count": 41,
   "id": "3e023c5e",
   "metadata": {},
   "outputs": [],
   "source": [
    "df = df.reindex(order, axis=1)"
   ]
  },
  {
   "cell_type": "code",
   "execution_count": 63,
   "id": "e4099bcd",
   "metadata": {},
   "outputs": [
    {
     "data": {
      "text/html": [
       "<div>\n",
       "<style scoped>\n",
       "    .dataframe tbody tr th:only-of-type {\n",
       "        vertical-align: middle;\n",
       "    }\n",
       "\n",
       "    .dataframe tbody tr th {\n",
       "        vertical-align: top;\n",
       "    }\n",
       "\n",
       "    .dataframe thead th {\n",
       "        text-align: right;\n",
       "    }\n",
       "</style>\n",
       "<table border=\"1\" class=\"dataframe\">\n",
       "  <thead>\n",
       "    <tr style=\"text-align: right;\">\n",
       "      <th></th>\n",
       "      <th>Brand</th>\n",
       "      <th>Model</th>\n",
       "      <th>Size</th>\n",
       "      <th>Smart</th>\n",
       "      <th>Seller</th>\n",
       "      <th>Price</th>\n",
       "    </tr>\n",
       "  </thead>\n",
       "  <tbody>\n",
       "    <tr>\n",
       "      <th>0</th>\n",
       "      <td>Next</td>\n",
       "      <td>YE-40020D2</td>\n",
       "      <td>40</td>\n",
       "      <td>0</td>\n",
       "      <td>DALOGLUDİGİTAL</td>\n",
       "      <td>2702.00</td>\n",
       "    </tr>\n",
       "    <tr>\n",
       "      <th>1</th>\n",
       "      <td>Navigold</td>\n",
       "      <td>NG-1930</td>\n",
       "      <td>19</td>\n",
       "      <td>0</td>\n",
       "      <td>naviprime</td>\n",
       "      <td>1377.50</td>\n",
       "    </tr>\n",
       "    <tr>\n",
       "      <th>3</th>\n",
       "      <td>TCL</td>\n",
       "      <td>55C728</td>\n",
       "      <td>55</td>\n",
       "      <td>1</td>\n",
       "      <td>Comfor</td>\n",
       "      <td>14399.04</td>\n",
       "    </tr>\n",
       "    <tr>\n",
       "      <th>4</th>\n",
       "      <td>Vestel</td>\n",
       "      <td>32FA9500</td>\n",
       "      <td>32</td>\n",
       "      <td>1</td>\n",
       "      <td>OrhanMob-Vestel-YOB</td>\n",
       "      <td>3087.04</td>\n",
       "    </tr>\n",
       "    <tr>\n",
       "      <th>5</th>\n",
       "      <td>Woon</td>\n",
       "      <td>WN49DAL08/0202</td>\n",
       "      <td>49</td>\n",
       "      <td>0</td>\n",
       "      <td>DijiSepet</td>\n",
       "      <td>4052.04</td>\n",
       "    </tr>\n",
       "    <tr>\n",
       "      <th>...</th>\n",
       "      <td>...</td>\n",
       "      <td>...</td>\n",
       "      <td>...</td>\n",
       "      <td>...</td>\n",
       "      <td>...</td>\n",
       "      <td>...</td>\n",
       "    </tr>\n",
       "    <tr>\n",
       "      <th>1220</th>\n",
       "      <td>Regal</td>\n",
       "      <td>55R753U</td>\n",
       "      <td>55</td>\n",
       "      <td>1</td>\n",
       "      <td>RegalKurumsalMağaza</td>\n",
       "      <td>7839.02</td>\n",
       "    </tr>\n",
       "    <tr>\n",
       "      <th>1221</th>\n",
       "      <td>Vestel</td>\n",
       "      <td>43Q9900</td>\n",
       "      <td>43</td>\n",
       "      <td>1</td>\n",
       "      <td>VestelKurumsalMağaza</td>\n",
       "      <td>8973.54</td>\n",
       "    </tr>\n",
       "    <tr>\n",
       "      <th>1222</th>\n",
       "      <td>Vestel</td>\n",
       "      <td>43F9510</td>\n",
       "      <td>43</td>\n",
       "      <td>1</td>\n",
       "      <td>VestelKurumsalMağaza</td>\n",
       "      <td>6049.00</td>\n",
       "    </tr>\n",
       "    <tr>\n",
       "      <th>1223</th>\n",
       "      <td>Vestel</td>\n",
       "      <td>55UA9600</td>\n",
       "      <td>55</td>\n",
       "      <td>1</td>\n",
       "      <td>VestelKurumsalMağaza</td>\n",
       "      <td>8329.02</td>\n",
       "    </tr>\n",
       "    <tr>\n",
       "      <th>1224</th>\n",
       "      <td>Vestel</td>\n",
       "      <td>24H8510</td>\n",
       "      <td>24</td>\n",
       "      <td>0</td>\n",
       "      <td>VestelKurumsalMağaza</td>\n",
       "      <td>2743.02</td>\n",
       "    </tr>\n",
       "  </tbody>\n",
       "</table>\n",
       "<p>1115 rows × 6 columns</p>\n",
       "</div>"
      ],
      "text/plain": [
       "         Brand           Model  Size  Smart                Seller     Price\n",
       "0         Next      YE-40020D2    40      0        DALOGLUDİGİTAL   2702.00\n",
       "1     Navigold         NG-1930    19      0             naviprime   1377.50\n",
       "3          TCL          55C728    55      1                Comfor  14399.04\n",
       "4       Vestel        32FA9500    32      1   OrhanMob-Vestel-YOB   3087.04\n",
       "5         Woon  WN49DAL08/0202    49      0             DijiSepet   4052.04\n",
       "...        ...             ...   ...    ...                   ...       ...\n",
       "1220     Regal         55R753U    55      1   RegalKurumsalMağaza   7839.02\n",
       "1221    Vestel         43Q9900    43      1  VestelKurumsalMağaza   8973.54\n",
       "1222    Vestel         43F9510    43      1  VestelKurumsalMağaza   6049.00\n",
       "1223    Vestel        55UA9600    55      1  VestelKurumsalMağaza   8329.02\n",
       "1224    Vestel         24H8510    24      0  VestelKurumsalMağaza   2743.02\n",
       "\n",
       "[1115 rows x 6 columns]"
      ]
     },
     "execution_count": 63,
     "metadata": {},
     "output_type": "execute_result"
    }
   ],
   "source": [
    "df"
   ]
  },
  {
   "cell_type": "code",
   "execution_count": 62,
   "id": "d8e2a52a",
   "metadata": {},
   "outputs": [
    {
     "name": "stdout",
     "output_type": "stream",
     "text": [
      "<class 'pandas.core.frame.DataFrame'>\n",
      "Int64Index: 1115 entries, 0 to 1224\n",
      "Data columns (total 6 columns):\n",
      " #   Column  Non-Null Count  Dtype  \n",
      "---  ------  --------------  -----  \n",
      " 0   Brand   1115 non-null   object \n",
      " 1   Model   1115 non-null   object \n",
      " 2   Size    1115 non-null   int32  \n",
      " 3   Smart   1115 non-null   int64  \n",
      " 4   Seller  1115 non-null   object \n",
      " 5   Price   1115 non-null   float64\n",
      "dtypes: float64(1), int32(1), int64(1), object(3)\n",
      "memory usage: 56.6+ KB\n"
     ]
    }
   ],
   "source": [
    "df.info()"
   ]
  },
  {
   "cell_type": "code",
   "execution_count": null,
   "id": "1eff8ea1",
   "metadata": {},
   "outputs": [],
   "source": [
    "# If Smart is NaN this means tv is not smart TV. Smart tv = 1, Not Smart tv = 0."
   ]
  },
  {
   "cell_type": "code",
   "execution_count": 49,
   "id": "3ca418da",
   "metadata": {},
   "outputs": [],
   "source": [
    "df['Smart'] = df['Smart'].fillna(0)"
   ]
  },
  {
   "cell_type": "code",
   "execution_count": 50,
   "id": "1c97a405",
   "metadata": {},
   "outputs": [],
   "source": [
    "df['Smart'] = df['Smart'].replace('Smart',1)"
   ]
  },
  {
   "cell_type": "code",
   "execution_count": null,
   "id": "dd66ca3d",
   "metadata": {},
   "outputs": [],
   "source": [
    "# Droping missing values"
   ]
  },
  {
   "cell_type": "code",
   "execution_count": 54,
   "id": "96cb9092",
   "metadata": {},
   "outputs": [],
   "source": [
    "df.dropna(inplace=True)"
   ]
  },
  {
   "cell_type": "code",
   "execution_count": null,
   "id": "8c0ee15e",
   "metadata": {},
   "outputs": [],
   "source": [
    "# Changing type of 'Size'"
   ]
  },
  {
   "cell_type": "code",
   "execution_count": 61,
   "id": "6ab12006",
   "metadata": {},
   "outputs": [],
   "source": [
    "df['Size'] = df['Size'].astype(int)"
   ]
  },
  {
   "cell_type": "code",
   "execution_count": 66,
   "id": "8a66f67f",
   "metadata": {},
   "outputs": [],
   "source": [
    "df.to_csv('n11_tv.csv',index=False)"
   ]
  },
  {
   "cell_type": "code",
   "execution_count": null,
   "id": "4b71ff0d",
   "metadata": {},
   "outputs": [],
   "source": []
  }
 ],
 "metadata": {
  "kernelspec": {
   "display_name": "Python 3 (ipykernel)",
   "language": "python",
   "name": "python3"
  },
  "language_info": {
   "codemirror_mode": {
    "name": "ipython",
    "version": 3
   },
   "file_extension": ".py",
   "mimetype": "text/x-python",
   "name": "python",
   "nbconvert_exporter": "python",
   "pygments_lexer": "ipython3",
   "version": "3.9.5"
  }
 },
 "nbformat": 4,
 "nbformat_minor": 5
}
