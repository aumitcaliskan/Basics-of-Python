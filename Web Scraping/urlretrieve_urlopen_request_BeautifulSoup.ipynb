{
 "cells": [
  {
   "cell_type": "markdown",
   "id": "e1581507-63f7-4600-8154-2e4cc766f651",
   "metadata": {},
   "source": [
    "## Webden İçerik Okumak\n",
    "\n",
    "* `urllib.request`\n",
    "    * `urlretrieve` ile dosya indirebiliriz.\n",
    "    * `urlopen` ile içeriği direkt okuyabiliriz. Content-Type ne ise o gelir. HTML, json, binary vs.\n",
    "* `request` ile `get` ve `post` gibi web talepleri gönderebiliriz. \n",
    "    * get ile webden içerik talep ederiz.\n",
    "    * post ile webdeki kaynağa bilgi gönderip içerik talep ederiz.\n",
    "        * mesela bir web service bizden bir resim isteyebilir. Resmi analiz edip çıktıları json olarak iletebilirz. \n",
    "        * Resmi body kısmında post yöntemi ile iletiriz.\n",
    "* `BeautifulSoup`  HTML, XML vs. metinleri python nesnelerine çevirmemizi sağlar."
   ]
  },
  {
   "cell_type": "markdown",
   "id": "3ebdd280",
   "metadata": {},
   "source": [
    "### urlretrieve"
   ]
  },
  {
   "cell_type": "code",
   "execution_count": 1,
   "id": "90b465c0",
   "metadata": {},
   "outputs": [],
   "source": [
    "from urllib.request import urlretrieve, urlopen"
   ]
  },
  {
   "cell_type": "code",
   "execution_count": 2,
   "id": "3e60f0eb",
   "metadata": {},
   "outputs": [
    {
     "data": {
      "text/plain": [
       "('databases/pylogo.png', <http.client.HTTPMessage at 0x2d3ac73c280>)"
      ]
     },
     "execution_count": 2,
     "metadata": {},
     "output_type": "execute_result"
    }
   ],
   "source": [
    "#webden dosya indirmek için\n",
    "urlretrieve(\"https://www.python.org/static/img/python-logo@2x.png\", filename=\"databases/pylogo.png\")"
   ]
  },
  {
   "cell_type": "markdown",
   "id": "b482d4be",
   "metadata": {},
   "source": [
    "### urlopen"
   ]
  },
  {
   "cell_type": "code",
   "execution_count": 3,
   "id": "27426758",
   "metadata": {},
   "outputs": [],
   "source": [
    "#webden direkt içerik okumak için\n",
    "sayfa = urlopen(\"https://www.python.org/jobs/\")"
   ]
  },
  {
   "cell_type": "code",
   "execution_count": 4,
   "id": "5c33b34c",
   "metadata": {},
   "outputs": [
    {
     "data": {
      "text/plain": [
       "http.client.HTTPResponse"
      ]
     },
     "execution_count": 4,
     "metadata": {},
     "output_type": "execute_result"
    }
   ],
   "source": [
    "type(sayfa)"
   ]
  },
  {
   "cell_type": "code",
   "execution_count": 5,
   "id": "b9305203",
   "metadata": {},
   "outputs": [
    {
     "name": "stdout",
     "output_type": "stream",
     "text": [
      "Connection: close\n",
      "Content-Length: 90011\n",
      "Server: nginx\n",
      "Content-Type: text/html; charset=utf-8\n",
      "X-Frame-Options: DENY\n",
      "Via: 1.1 vegur, 1.1 varnish, 1.1 varnish\n",
      "Accept-Ranges: bytes\n",
      "Date: Mon, 28 Feb 2022 11:18:45 GMT\n",
      "Age: 2182\n",
      "X-Served-By: cache-iad-kjyo7100106-IAD, cache-fra19182-FRA\n",
      "X-Cache: HIT, HIT\n",
      "X-Cache-Hits: 1, 1\n",
      "X-Timer: S1646047125.478685,VS0,VE1\n",
      "Vary: Cookie\n",
      "Strict-Transport-Security: max-age=63072000; includeSubDomains\n",
      "\n",
      "\n"
     ]
    }
   ],
   "source": [
    "print(sayfa.info())"
   ]
  },
  {
   "cell_type": "code",
   "execution_count": 6,
   "id": "82f16e9e",
   "metadata": {},
   "outputs": [
    {
     "name": "stdout",
     "output_type": "stream",
     "text": [
      "\n",
      "\n",
      "<!doctype html>\n",
      "<!--[if lt IE 7]>   <html class=\"no-js ie6 lt-ie7 lt-ie8 lt-ie9\">   <![endif]-->\n",
      "<!--[if IE 7]>      <html class=\"no-js ie7 lt-ie8 lt-ie9\">          <![endif]-->\n",
      "<!--[if IE 8]>      <html class=\"no-js ie8 lt-ie9\">                 <![endif]-->\n",
      "<!--[if gt IE 8]><!--><html class=\"no-js\" lang=\"en\" dir=\"ltr\">  <!--<![endif]-->\n",
      "\n",
      "<head>\n",
      "    <meta charset=\"utf-8\">\n",
      "    <meta http-equiv=\"X-UA-Compatible\" content=\"IE=edge\">\n",
      "\n",
      "    <link rel=\"prefetch\" href=\"//ajax.googleapis.com/ajax/libs/jquery/1.8.2/jquery.min.js\">\n",
      "    <link rel=\"prefetch\" href=\"//ajax.googleapis.com/ajax/libs/jqueryui/1.12.1/jquery-ui.min.js\">\n",
      "\n",
      "    <meta name=\"application-name\" content=\"Python.org\">\n",
      "    <meta name=\"msapplication-tooltip\" content=\"The official home of the Python Programming Language\">\n",
      "    <meta name=\"apple-mobile-web-app-title\" content=\"Python.org\">\n",
      "    <meta name=\"apple-mobile-web-app-capable\" content=\"yes\">\n",
      "    <meta name=\"apple-mobile-web-app-status-bar-style\" content=\"black\">\n",
      "\n",
      "    <meta name\n"
     ]
    }
   ],
   "source": [
    "print(sayfa.read(1000).decode(\"utf-8\")) # read ile imlec sona kadar okur."
   ]
  },
  {
   "cell_type": "markdown",
   "id": "0da21383-ba79-4478-9105-5f5a687b1223",
   "metadata": {},
   "source": [
    "#### Resim içeriğini okuyalım ve Dosyaya kaydedelim"
   ]
  },
  {
   "cell_type": "code",
   "execution_count": 9,
   "id": "583f3601",
   "metadata": {},
   "outputs": [
    {
     "name": "stdout",
     "output_type": "stream",
     "text": [
      "Connection: close\n",
      "Content-Length: 15770\n",
      "Server: nginx\n",
      "Content-Type: image/png\n",
      "Last-Modified: Mon, 14 Feb 2022 13:52:11 GMT\n",
      "Etag: \"620a5e8b-3d9a\"\n",
      "Cache-Control: max-age=604800, public\n",
      "Via: 1.1 vegur, 1.1 varnish, 1.1 varnish\n",
      "Accept-Ranges: bytes\n",
      "Date: Mon, 28 Feb 2022 11:20:11 GMT\n",
      "Age: 349741\n",
      "X-Served-By: cache-iad-kjyo7100162-IAD, cache-ams21083-AMS\n",
      "X-Cache: HIT, HIT\n",
      "X-Cache-Hits: 1, 31\n",
      "X-Timer: S1646047211.330834,VS0,VE0\n",
      "Strict-Transport-Security: max-age=63072000; includeSubDomains\n",
      "\n",
      "\n"
     ]
    }
   ],
   "source": [
    "icerik = urlopen(\"https://www.python.org/static/img/python-logo@2x.png\")\n",
    "print(icerik.info()) #Content-Type: image/png\n",
    "\n",
    "#resim içeriğini bir değişken üzerine atalım.\n",
    "resimBinary = icerik.read()"
   ]
  },
  {
   "cell_type": "code",
   "execution_count": 10,
   "id": "f0159d19",
   "metadata": {},
   "outputs": [],
   "source": [
    "#binary olarak dosyaya yazalım.\n",
    "with open(\"databases/pylogo2.png\", mode='wb') as fw:\n",
    "    fw.write(resimBinary)"
   ]
  },
  {
   "cell_type": "code",
   "execution_count": 11,
   "id": "a879b3ac",
   "metadata": {},
   "outputs": [
    {
     "data": {
      "text/plain": [
       "True"
      ]
     },
     "execution_count": 11,
     "metadata": {},
     "output_type": "execute_result"
    }
   ],
   "source": [
    "import os\n",
    "os.path.exists(\"databases/pylogo2.png\")"
   ]
  },
  {
   "cell_type": "code",
   "execution_count": 12,
   "id": "9ae3cf60",
   "metadata": {},
   "outputs": [],
   "source": [
    "# Soru:\n",
    "# BilgisayarAdı, KullanıcıAdı, Tarih şeklinde csv formatında log tutalım.\n",
    "\n",
    "import os, datetime\n",
    "\n",
    "metin = \"{},{},{}\".format(os.getenv(\"COMPUTERNAME\"),\n",
    "                         os.getenv(\"USERNAME\"),\n",
    "                         datetime.datetime.now()#.strftime(\"%A\")\n",
    "                         )\n",
    "\n",
    "with open(\"databases/loglarim.csv\", mode='a', encoding= 'UTF-8') as fw:\n",
    "    fw.write(metin+\"\\n\")"
   ]
  },
  {
   "cell_type": "code",
   "execution_count": 13,
   "id": "22ccf308",
   "metadata": {},
   "outputs": [],
   "source": [
    "import csv\n",
    "\n",
    "with open(\"databases/loglarim.csv\", mode='a', encoding= 'UTF-8') as fw:\n",
    "    log = [os.getenv(\"COMPUTERNAME\"), os.getenv(\"USERNAME\"), datetime.datetime.now()]\n",
    "    csv.writer(fw, delimiter=\";\").writerow(log)\n",
    "    \n",
    "    # csv.reader(fh, delimiter=\";\") iterasyon yapılabilecek bir liste verir."
   ]
  },
  {
   "cell_type": "markdown",
   "id": "faf4101b",
   "metadata": {},
   "source": [
    "### re kütüphanesi ile çalışmak\n",
    "* `import re` kütüphanesi ile bir patern (regular expression) vererek metinsel verileri aratabiliriz.\n",
    "* https://www.regular-expressions.info/\n",
    "* https://regexr.com/"
   ]
  },
  {
   "cell_type": "code",
   "execution_count": 14,
   "id": "7c656684",
   "metadata": {},
   "outputs": [],
   "source": [
    "import re"
   ]
  },
  {
   "cell_type": "code",
   "execution_count": 16,
   "id": "d28562a6",
   "metadata": {},
   "outputs": [],
   "source": [
    "metin = \"\"\"\n",
    "Merhaba,\n",
    "\n",
    "Herhangi bir sorunuz olursa ahmetumitcaliskan@hotmail.com adresine mail atabilirsiniz. \n",
    "Bazen ahmetumitcaliskan@gmail.com adresinede atmanız faydalı olabilir.\n",
    "\n",
    "Sağlıklı günler,\n",
    "\n",
    "Ahmet Umit CALISKAN\n",
    "\"\"\"\n",
    "\n",
    "mail_paterni_ifadesi = r'[\\w\\.-]+@[\\w\\.-]+'"
   ]
  },
  {
   "cell_type": "markdown",
   "id": "ea8bcc5e-1dce-4a7d-8993-3fee51fbd639",
   "metadata": {},
   "source": [
    "#### search, findall, split\n",
    "* `re.search` geriye Match nesnesi döndürür. Yoksa None döner.\n",
    "    * `re.match` ile Match nesnesi oluşturur.\n",
    "* `re.findall` bulduğu metinlerin liste halinde getirir.\n",
    "* `re.split` belirtilen ifadeyi ayraç olarak kullanma imkanı verir."
   ]
  },
  {
   "cell_type": "markdown",
   "id": "ae3703fa-a6b8-40fd-9929-b9ad877a5af7",
   "metadata": {
    "tags": []
   },
   "source": [
    "##### search"
   ]
  },
  {
   "cell_type": "code",
   "execution_count": 22,
   "id": "eabd4028-3944-4053-a789-21bae66ec8c9",
   "metadata": {
    "tags": []
   },
   "outputs": [
    {
     "data": {
      "text/plain": [
       "'ahmetumitcaliskan@hotmail.com'"
      ]
     },
     "execution_count": 22,
     "metadata": {},
     "output_type": "execute_result"
    }
   ],
   "source": [
    "search_match = re.search(mail_paterni_ifadesi, metin) #ilk bulduğunu Match olarak getirdi.\n",
    "\n",
    "search_match\n",
    "\n",
    "#-\n",
    "search_match.start()\n",
    "search_match.end()\n",
    "\n",
    "#-\n",
    "\n",
    "#search_match.string\n",
    "search_match.group(0) #regexteki () ile oluşturulan gurplardır."
   ]
  },
  {
   "cell_type": "markdown",
   "id": "95ff7885",
   "metadata": {},
   "source": [
    "#### findall"
   ]
  },
  {
   "cell_type": "code",
   "execution_count": 23,
   "id": "a28440e9-8924-4df9-a5e0-174c3f314d3b",
   "metadata": {},
   "outputs": [
    {
     "data": {
      "text/plain": [
       "['ahmetumitcaliskan@hotmail.com', 'ahmetumitcaliskan@gmail.com']"
      ]
     },
     "execution_count": 23,
     "metadata": {},
     "output_type": "execute_result"
    }
   ],
   "source": [
    "re.findall(mail_paterni_ifadesi,metin)"
   ]
  },
  {
   "cell_type": "markdown",
   "id": "f791873c",
   "metadata": {},
   "source": [
    "##### match"
   ]
  },
  {
   "cell_type": "code",
   "execution_count": 25,
   "id": "083c36ae-b86a-4d84-a912-5acd1e63c6aa",
   "metadata": {},
   "outputs": [
    {
     "data": {
      "text/plain": [
       "'1586'"
      ]
     },
     "execution_count": 25,
     "metadata": {},
     "output_type": "execute_result"
    }
   ],
   "source": [
    "#örnek\n",
    "\n",
    "metin = \"24.1586\"\n",
    "regex_ifadesi = r\"(\\d+).(\\d+)\" #raw string (r) ile metni göründüğü gibi değerlendiriyor.\n",
    "#() grup oluşturur.\n",
    "\n",
    "sonuc = re.match(regex_ifadesi,metin)\n",
    "\n",
    "sonuc.groups() #('24', '1586')\n",
    "sonuc.group(0)\n",
    "sonuc.group(1) #24\n",
    "sonuc.group(2) #1586"
   ]
  },
  {
   "cell_type": "code",
   "execution_count": 26,
   "id": "bcf48b3f",
   "metadata": {
    "tags": []
   },
   "outputs": [
    {
     "data": {
      "text/plain": [
       "'python'"
      ]
     },
     "execution_count": 26,
     "metadata": {},
     "output_type": "execute_result"
    }
   ],
   "source": [
    "# örnek\n",
    "\n",
    "metin = 'www.python.org'\n",
    "regex_ifadesi = r\"www\\.(.*)\\..{3}\"\n",
    "\n",
    "sonuc = re.match(regex_ifadesi, metin)\n",
    "sonuc.group(0)\n",
    "sonuc.group(1)"
   ]
  },
  {
   "cell_type": "markdown",
   "id": "1ede33c1",
   "metadata": {},
   "source": [
    "#### split"
   ]
  },
  {
   "cell_type": "code",
   "execution_count": 59,
   "id": "0a1858a3",
   "metadata": {},
   "outputs": [
    {
     "data": {
      "text/plain": [
       "['Merhaba', 'dünyalı', 'nasılsın?']"
      ]
     },
     "execution_count": 59,
     "metadata": {},
     "output_type": "execute_result"
    }
   ],
   "source": [
    "degisenBoslukluMetin = \"Merhaba   dünyalı            nasılsın?\"\n",
    "\n",
    "str.split(degisenBoslukluMetin)\n",
    "re.split(\"\\s+\", degisenBoslukluMetin)"
   ]
  },
  {
   "cell_type": "code",
   "execution_count": 27,
   "id": "7d99195a",
   "metadata": {},
   "outputs": [
    {
     "data": {
      "text/plain": [
       "['Merhaba', 'benim', 'adım', 'python!']"
      ]
     },
     "execution_count": 27,
     "metadata": {},
     "output_type": "execute_result"
    }
   ],
   "source": [
    "#örnek\n",
    "metin = \"Merhaba,,,..,,.,.,.,.benim....,,,,,,adım....,.,.,.,.,python!\"\n",
    "\n",
    "regex_harf = \"[a-zA-Z]+\"\n",
    "re.findall(regex_harf, metin)\n",
    "\n",
    "regex_isaret = '[.?\\-\",]+'\n",
    "re.findall(regex_isaret, metin)\n",
    "\n",
    "regex_ayrac = \"[,.]+\"\n",
    "re.split(regex_ayrac, metin)"
   ]
  },
  {
   "cell_type": "markdown",
   "id": "b8b78293",
   "metadata": {},
   "source": [
    "#### compile ile paterni hazır etme\n",
    "* `re.compile` ile paterni oluşturuyoruz farklı yerlerde kullanabiliyoruz."
   ]
  },
  {
   "cell_type": "code",
   "execution_count": 28,
   "id": "bd11a784",
   "metadata": {},
   "outputs": [
    {
     "data": {
      "text/plain": [
       "False"
      ]
     },
     "execution_count": 28,
     "metadata": {},
     "output_type": "execute_result"
    }
   ],
   "source": [
    "# sadece izin verilen karakterler mi kullanılıyor?\n",
    "\n",
    "metin = \"merhaba!\"\n",
    "\n",
    "patern = re.compile(r\"[^a-zA-Z0-9]\") # bunlar dışındakileri gördüğünde sonuc ver\n",
    "bool(patern.search(metin)) # izin verilen dışında karakter var\n",
    "\n",
    "not bool(patern.search(metin)) # sadece izin verilen karakterler kullanılıyor."
   ]
  },
  {
   "cell_type": "code",
   "execution_count": 29,
   "id": "dec35649",
   "metadata": {},
   "outputs": [
    {
     "name": "stdout",
     "output_type": "stream",
     "text": [
      "/jobs/6234/ ---> Senior Application Developer\n",
      "/jobs/6233/ ---> Remote Back-end Developer (Golang, Python, SQL, and NoSQL)\n",
      "/jobs/6232/ ---> Remote DevOps Engineer (Python, Bash, AWS, and AWS Lambda)\n",
      "/jobs/6231/ ---> Senior Python Engineer - Remote\n",
      "/jobs/6230/ ---> Backend Software Engineer\n",
      "/jobs/6224/ ---> Database Analyst/Programmer\n",
      "/jobs/6223/ ---> Remote Data Engineer (AWS, SQL, PostgreSQL, Python, and APIs)\n",
      "/jobs/6222/ ---> Remote Software Developer (Cloud and Linux)\n",
      "/jobs/6221/ ---> Remote AWS DevOps Engineer (Java, Python, React, and GitLab CI/CD)\n",
      "/jobs/6220/ ---> Senior Software Engineer\n",
      "/jobs/6218/ ---> Sr Python Developer\n",
      "/jobs/6216/ ---> Remote Full Stack/Machine Learning Engineer (Ruby, JavaScript/TypeScript, and Python)\n",
      "/jobs/6214/ ---> Backend Python Programmer (Fully Remote)\n",
      "/jobs/6213/ ---> Staff Python Backend Engineer\n",
      "/jobs/6212/ ---> Remote Senior Full-Stack Web Developer\n",
      "/jobs/6211/ ---> Data Acquisition Engineer / Developer\n",
      "/jobs/6210/ ---> Senior Software Developer - Python\n",
      "/jobs/6209/ ---> Python/Django Developer\n",
      "/jobs/6208/ ---> Senior Software Engineer\n",
      "/jobs/6207/ ---> Senior Python Engineer - Remote\n",
      "/jobs/6206/ ---> Senior Software Engineer, Backend\n",
      "/jobs/6205/ ---> Engineering Data Scientist\n",
      "/jobs/6204/ ---> Senior Software Engineer\n",
      "/jobs/6203/ ---> Python Engineer\n",
      "/jobs/6202/ ---> Frontend/backend developer\n"
     ]
    }
   ],
   "source": [
    "#örn:\n",
    "html_metin = urlopen(\"https://www.python.org/jobs/\").read().decode(\"UTF-8\")  #decode - encode\n",
    "\n",
    "#<a href=\"/jobs/6234/\">Senior Application Developer</a>\n",
    "ptrn = re.compile(r'<a href=\"(/jobs/\\d+/)\">(.*?)</a>')\n",
    "\n",
    "for j in ptrn.findall(html_metin):\n",
    "    print(\"{} ---> {}\".format(*j))"
   ]
  },
  {
   "cell_type": "markdown",
   "id": "cc485456-a0e8-4845-ab75-2bff5a7bc92b",
   "metadata": {},
   "source": [
    "### request ile get ve post\n",
    "* Özellikle web serviceler çalışırken get ve post taleplerini gönderiririz. Json kütüphanesi ile birlikte bu kütüphane kullanılır.\n",
    "* web kaynaklarına get ve post yöntemi ile talep göndermemizi sağlar.\n",
    "* `import json`\n",
    "    * json metinlerini `json.loads(metin)` ile python nesnelerine çevirebiliriz.\n",
    "    * python nesnelerini de `json.dumps(pyNesnesi)` ile json metinlerine çevirebiliriz."
   ]
  },
  {
   "cell_type": "code",
   "execution_count": 30,
   "id": "0d653460",
   "metadata": {},
   "outputs": [],
   "source": [
    "import requests"
   ]
  },
  {
   "cell_type": "markdown",
   "id": "fbf373c4",
   "metadata": {},
   "source": [
    "#### Get Yöntemi"
   ]
  },
  {
   "cell_type": "code",
   "execution_count": 31,
   "id": "7435c66f",
   "metadata": {},
   "outputs": [],
   "source": [
    "istek = requests.get(\"https://www.python.org/static/img/python-logo@2x.png\")"
   ]
  },
  {
   "cell_type": "code",
   "execution_count": 32,
   "id": "e6f99641",
   "metadata": {},
   "outputs": [
    {
     "data": {
      "text/plain": [
       "200"
      ]
     },
     "execution_count": 32,
     "metadata": {},
     "output_type": "execute_result"
    }
   ],
   "source": [
    "istek.status_code # http status "
   ]
  },
  {
   "cell_type": "code",
   "execution_count": 33,
   "id": "345b19b3",
   "metadata": {},
   "outputs": [
    {
     "data": {
      "text/plain": [
       "0.186851"
      ]
     },
     "execution_count": 33,
     "metadata": {},
     "output_type": "execute_result"
    }
   ],
   "source": [
    "istek.elapsed.total_seconds()"
   ]
  },
  {
   "cell_type": "code",
   "execution_count": 82,
   "id": "c32e2451",
   "metadata": {},
   "outputs": [],
   "source": [
    "# istek.content # içeriğin kendisini görebiliriz"
   ]
  },
  {
   "cell_type": "markdown",
   "id": "92918ba1",
   "metadata": {},
   "source": [
    "#### Post Yöntemi"
   ]
  },
  {
   "cell_type": "code",
   "execution_count": 92,
   "id": "788cbe6f-8964-4500-b508-07cbafa57e19",
   "metadata": {},
   "outputs": [],
   "source": [
    "import requests"
   ]
  },
  {
   "cell_type": "code",
   "execution_count": 93,
   "id": "fba6d155-ae69-46f6-af9a-d51396936d6c",
   "metadata": {},
   "outputs": [],
   "source": [
    "service_url=\"https://northeurope.api.cognitive.microsoft.com/text/analytics/v3.0/languages\"\n",
    "\n",
    "header = {\n",
    "            \"Content-Type\":\"application/json\",\n",
    "             \"Ocp-Apim-Subscription-Key\":\"********\"\n",
    "        }"
   ]
  },
  {
   "cell_type": "code",
   "execution_count": 99,
   "id": "ffcfde63-1dfb-4af4-bbc2-33fba45889d7",
   "metadata": {},
   "outputs": [
    {
     "data": {
      "text/plain": [
       "'Turkish'"
      ]
     },
     "execution_count": 99,
     "metadata": {},
     "output_type": "execute_result"
    }
   ],
   "source": [
    "metin = \"how are you?\" \n",
    "\n",
    "#\"{'documents': [{'id': 0, 'text': 'How are u?'}]}\"\n",
    "body_dict = {'documents': [{'id': 0, 'text': metin}]}\n",
    "body_dict\n",
    "\n",
    "#---\n",
    "#post talebini oluşturalım\n",
    "istek = requests.post(service_url, headers = header, data=str(body_dict).encode(\"UTF-8\"))\n",
    "\n",
    "istek.status_code #200 OK\n",
    "#iste.raise_for_status() #anormal bir durum varsa try ile yakalanacak hata fırlayıyor.\n",
    "\n",
    "dict_istek = istek.json()\n",
    "\n",
    "dict_istek.get(\"documents\")[0][\"detectedLanguage\"][\"name\"]"
   ]
  },
  {
   "cell_type": "code",
   "execution_count": null,
   "id": "d8eaaa45",
   "metadata": {},
   "outputs": [],
   "source": []
  }
 ],
 "metadata": {
  "kernelspec": {
   "display_name": "Python 3 (ipykernel)",
   "language": "python",
   "name": "python3"
  },
  "language_info": {
   "codemirror_mode": {
    "name": "ipython",
    "version": 3
   },
   "file_extension": ".py",
   "mimetype": "text/x-python",
   "name": "python",
   "nbconvert_exporter": "python",
   "pygments_lexer": "ipython3",
   "version": "3.9.5"
  }
 },
 "nbformat": 4,
 "nbformat_minor": 5
}
