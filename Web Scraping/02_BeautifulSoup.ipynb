{
 "cells": [
  {
   "cell_type": "markdown",
   "id": "c5c61a98-adde-4d10-aa0d-d619893e3017",
   "metadata": {},
   "source": [
    "### BeautifulSoup ile HTML Parse Etmek\n",
    "\n",
    "* HTML etiketlerini tanıyıp python nesneleri olarak kullanabilmemizi sağlar.\n",
    "* `pip install beautifulsoup4`\n",
    "* `from bs4 import BeautifulSoup`\n",
    "* Kaynaklar:\n",
    "    * http://crummy.com/software/BeautifulSoup\n",
    "    * https://www.crummy.com/software/BeautifulSoup/bs4/doc/"
   ]
  },
  {
   "cell_type": "code",
   "execution_count": 1,
   "id": "e3d83968-8fa7-4c53-a93e-2943d3499d79",
   "metadata": {},
   "outputs": [],
   "source": [
    "from bs4 import BeautifulSoup\n",
    "from urllib.request import urlopen"
   ]
  },
  {
   "cell_type": "code",
   "execution_count": 2,
   "id": "812b1221-f24c-46a0-9d1e-9079e9784efe",
   "metadata": {},
   "outputs": [
    {
     "name": "stdout",
     "output_type": "stream",
     "text": [
      "Connection: close\n",
      "Content-Length: 92988\n",
      "Server: nginx\n",
      "Content-Type: text/html; charset=utf-8\n",
      "X-Frame-Options: DENY\n",
      "Via: 1.1 vegur, 1.1 varnish, 1.1 varnish\n",
      "Accept-Ranges: bytes\n",
      "Date: Sat, 12 Mar 2022 21:33:22 GMT\n",
      "Age: 2890\n",
      "X-Served-By: cache-iad-kcgs7200063-IAD, cache-fra19127-FRA\n",
      "X-Cache: HIT, HIT\n",
      "X-Cache-Hits: 1, 3\n",
      "X-Timer: S1647120802.269995,VS0,VE0\n",
      "Vary: Cookie\n",
      "Strict-Transport-Security: max-age=63072000; includeSubDomains\n",
      "\n",
      "\n"
     ]
    }
   ],
   "source": [
    "sayfa = urlopen(\"https://www.python.org/jobs/\")\n",
    "print(sayfa.info())"
   ]
  },
  {
   "cell_type": "code",
   "execution_count": 3,
   "id": "527c1c8a-f20e-4e33-8b50-582a87ec6cba",
   "metadata": {},
   "outputs": [],
   "source": [
    "html_metin = sayfa.read().decode(\"utf-8\")"
   ]
  },
  {
   "cell_type": "code",
   "execution_count": 4,
   "id": "4531b9da-f3c4-4e8f-83a0-637470b65689",
   "metadata": {},
   "outputs": [
    {
     "data": {
      "text/plain": [
       "bs4.BeautifulSoup"
      ]
     },
     "execution_count": 4,
     "metadata": {},
     "output_type": "execute_result"
    }
   ],
   "source": [
    "soup = BeautifulSoup(html_metin, \"html.parser\") # bir  çok parser mevcut\n",
    "\n",
    "type(soup)\n",
    "# dir(soup)\n",
    "# help(soup)"
   ]
  },
  {
   "cell_type": "markdown",
   "id": "c5353889-e48b-40c5-acd7-3514aad6404f",
   "metadata": {
    "tags": []
   },
   "source": [
    "#### ilk etikete ulaşmak\n",
    "* `nesne.altnesne.enaltnesne` ile ilk bulduğunumuz nesne elde edilir.\n",
    "* `nesne.altnesne(\"enaltnesne\")` ile bütün enaltnesneler elde edilir."
   ]
  },
  {
   "cell_type": "code",
   "execution_count": 5,
   "id": "45217e4a-b77a-4042-8fb0-f13d7087da52",
   "metadata": {},
   "outputs": [
    {
     "data": {
      "text/plain": [
       "<title>Python Job Board | Python.org</title>"
      ]
     },
     "execution_count": 5,
     "metadata": {},
     "output_type": "execute_result"
    }
   ],
   "source": [
    "soup.title"
   ]
  },
  {
   "cell_type": "code",
   "execution_count": 6,
   "id": "07319df2-a493-4646-81ca-abbc73182167",
   "metadata": {},
   "outputs": [
    {
     "data": {
      "text/plain": [
       "<h2 class=\"welcome-message\">Get exploring!</h2>"
      ]
     },
     "execution_count": 6,
     "metadata": {},
     "output_type": "execute_result"
    }
   ],
   "source": [
    "soup.h2 # ilk bulduğu h2"
   ]
  },
  {
   "cell_type": "code",
   "execution_count": 7,
   "id": "f02053a8-3c28-4614-87ee-a3f41aeaf46a",
   "metadata": {},
   "outputs": [
    {
     "data": {
      "text/plain": [
       "'Get exploring!'"
      ]
     },
     "execution_count": 7,
     "metadata": {},
     "output_type": "execute_result"
    }
   ],
   "source": [
    "soup.h2.string # h2 etiketi içerisindeki metin"
   ]
  },
  {
   "cell_type": "code",
   "execution_count": 9,
   "id": "f992c2b1-34e2-4c1a-b80e-84a1c7eccc05",
   "metadata": {},
   "outputs": [
    {
     "data": {
      "text/plain": [
       "'Python'"
      ]
     },
     "execution_count": 9,
     "metadata": {},
     "output_type": "execute_result"
    }
   ],
   "source": [
    "soup.li.a.string # sadece a etiketi içerisindeki metni getirir.\n",
    "soup.li.a.text # a ve onun altındaki tüm etiketlerin metnini getirir."
   ]
  },
  {
   "cell_type": "code",
   "execution_count": 13,
   "id": "02967bf0-efca-472e-bd3b-d694b40d8a51",
   "metadata": {},
   "outputs": [
    {
     "data": {
      "text/plain": [
       "'Senior backend engineer'"
      ]
     },
     "execution_count": 13,
     "metadata": {},
     "output_type": "execute_result"
    }
   ],
   "source": [
    "soup.body.section.h2 #ilk h2 etiketi\n",
    "soup.body.section(\"h2\") # section altındaki tüm h2 etiketleri\n",
    "soup.body.section(\"h2\")[0].a.string # ilk 2 h2 elementi"
   ]
  },
  {
   "cell_type": "code",
   "execution_count": 10,
   "id": "a09ee4f1-10ec-4105-a854-ead019fbceac",
   "metadata": {},
   "outputs": [
    {
     "name": "stdout",
     "output_type": "stream",
     "text": [
      "Senior backend engineer --> /jobs/6295/\n",
      "UX/UI Visualization Designer --> /jobs/6294/\n",
      "Senior Python Developer --> /jobs/6293/\n",
      "Senior Django/Python Back End Developer - Virtual --> /jobs/6292/\n",
      "Junior Python Back-End Developer --> /jobs/6291/\n",
      "Senior Engineer - Back-end (Python) --> /jobs/6290/\n",
      "Senior Python Full Stack Developer --> /jobs/6289/\n",
      "Python Backend Developer --> /jobs/6288/\n",
      "Remote Back-end Engineer (PHP and Python) --> /jobs/6287/\n",
      "Remote Senior Data Engineer (Python, Go, HTTP, RESTful Design, HTML, and JavaScript) --> /jobs/6286/\n",
      "Python Consultant --> /jobs/6285/\n",
      "Remote Senior Software/Staff Engineer (Swift, Objective-C, Java, Python, Go, Rust, and C++) --> /jobs/6284/\n",
      "Python engineer --> /jobs/6283/\n",
      "Python Test Engineer --> /jobs/6282/\n",
      "Senior Django/Python Back End Developer - Virtual --> /jobs/6279/\n",
      "Python Developer --> /jobs/6278/\n",
      "SENIOR PYTHON BACK-END DEVELOPER --> /jobs/6277/\n",
      "Sr Python Developer --> /jobs/6276/\n",
      "[Remote] Senior Software Engineer (Full Stack/Python) --> /jobs/6275/\n",
      "Python Founding Back-End engineer & Architect --> /jobs/6274/\n",
      "Junior Python Developer --> /jobs/6273/\n",
      "Open-source Python Engineer --> /jobs/6272/\n",
      "Remote Senior Python Back-end Engineer (React, AWS, Python 3.x, FastAPI, and relational databases) --> /jobs/6271/\n",
      "Senior Software Engineer (Django) --> /jobs/6270/\n",
      "Senior Python Engineer --> /jobs/6269/\n"
     ]
    }
   ],
   "source": [
    "#örn:\n",
    "#iş ilanlarını çekelim\n",
    "#<a href=\"/jobs/6292/\">Senior Django/Python Back End Developer - Virtual</a>\n",
    "\n",
    "for h in soup.body.section(\"h2\"):\n",
    "    # print(h.a)\n",
    "    # print(f\"{h.a.string} --> {h.a['href']}\") #h.a['href'] ile elementlerini attributelerini okuyabiliyoruz\n",
    "    print(f\"{h.a.string} --> {h.a.get('href')}\")"
   ]
  },
  {
   "cell_type": "markdown",
   "id": "3c14876f-ef06-4adf-9ab6-1506720b0ae9",
   "metadata": {},
   "source": [
    "#### Birden fazla etikete ulaşmak\n",
    "* `[f for f in dir(soup) if \"find\" in f] #starwith`\n",
    "    * Doğrudan bulur\n",
    "        * `find_all` ve `find`\n",
    "    * önceki ve sonrak elementlere ulaşmamızı sağlayanlar\n",
    "        * `find_all_next()` ve `find_next()`\n",
    "        * `find_all_previous()` ve `find_previous()`\n",
    "        * `find_next_sibling()` ve `find_previous_sibling()`\n",
    "    * Parametreler (name, attrs, string, limit, kwarg)\n",
    "        * `name=etiket` ---> a, h2 vs\n",
    "        * `attrs={\"class\":\"classDegeri\"}` --> key:value şeklinde attributeler id, href, class\n",
    "            * `class_:cssClass` şeklinde açık olarak da gönderilebilir kwargs \n",
    "        "
   ]
  },
  {
   "cell_type": "markdown",
   "id": "6feb36ff-6763-4ff9-98cd-f5b0221d2472",
   "metadata": {
    "tags": []
   },
   "source": [
    "#### find\n",
    "* sayfanın tamamında bir şey aramızı sağlar. İlkini getirir.\n",
    "* `find(name=None, attrs={}, recursive=True, text=None, **kwargs)`"
   ]
  },
  {
   "cell_type": "code",
   "execution_count": 25,
   "id": "364ca304-d3f4-418c-b50b-8fde5b146db4",
   "metadata": {},
   "outputs": [
    {
     "data": {
      "text/plain": [
       "['_find_all',\n",
       " '_find_one',\n",
       " 'find',\n",
       " 'findAll',\n",
       " 'findAllNext',\n",
       " 'findAllPrevious',\n",
       " 'findChild',\n",
       " 'findChildren',\n",
       " 'findNext',\n",
       " 'findNextSibling',\n",
       " 'findNextSiblings',\n",
       " 'findParent',\n",
       " 'findParents',\n",
       " 'findPrevious',\n",
       " 'findPreviousSibling',\n",
       " 'findPreviousSiblings',\n",
       " 'find_all',\n",
       " 'find_all_next',\n",
       " 'find_all_previous',\n",
       " 'find_next',\n",
       " 'find_next_sibling',\n",
       " 'find_next_siblings',\n",
       " 'find_parent',\n",
       " 'find_parents',\n",
       " 'find_previous',\n",
       " 'find_previous_sibling',\n",
       " 'find_previous_siblings']"
      ]
     },
     "execution_count": 25,
     "metadata": {},
     "output_type": "execute_result"
    }
   ],
   "source": [
    "[f for f in dir(soup) if \"find\" in f] #startwith"
   ]
  },
  {
   "cell_type": "code",
   "execution_count": 14,
   "id": "e433b1e2-c540-41b8-aca3-5436693711a2",
   "metadata": {},
   "outputs": [
    {
     "data": {
      "text/plain": [
       "['welcome-message']"
      ]
     },
     "execution_count": 14,
     "metadata": {},
     "output_type": "execute_result"
    }
   ],
   "source": [
    "nesne = soup.find(name=\"h2\") #ilk h2 etiketi\n",
    "\n",
    "nesne #<h2 class=\"welcome-message\">Get exploring!</h2>\n",
    "nesne.text\n",
    "\n",
    "#attributeleri \n",
    "nesne[\"class\"]\n",
    "nesne.get(\"class\")"
   ]
  },
  {
   "cell_type": "markdown",
   "id": "65e97f22-d985-45d8-9c3a-e123fc03ce4f",
   "metadata": {},
   "source": [
    "#### find_all\n",
    "* sayfanın tamamın bir şey arayıp tüm bulunanları getirir."
   ]
  },
  {
   "cell_type": "code",
   "execution_count": 15,
   "id": "aa4de891-1efd-4f70-993c-0bef7e41526e",
   "metadata": {},
   "outputs": [
    {
     "name": "stdout",
     "output_type": "stream",
     "text": [
      "#content\n",
      "#python-network\n",
      "/\n",
      "/psf-landing/\n",
      "https://docs.python.org\n"
     ]
    }
   ],
   "source": [
    "#örn:\n",
    "#tüm a etiketlerinin linklerini çekelim.\n",
    "for link in soup.find_all(name=\"a\", limit=5): #tüm a etiketlerinden ilk 5 tanesi\n",
    "    print(link.get(\"href\"))"
   ]
  },
  {
   "cell_type": "code",
   "execution_count": 16,
   "id": "cf400334-f874-4bdb-a7b9-0cf72705d6bc",
   "metadata": {},
   "outputs": [
    {
     "name": "stdout",
     "output_type": "stream",
     "text": [
      "Make Text Smaller\n",
      "Make Text Larger\n",
      "Reset any font size changes I have made\n",
      "None\n",
      "None\n"
     ]
    }
   ],
   "source": [
    "#örn:\n",
    "arananListeler = soup.find_all(name=\"li\", class_=\"tier-2\", limit=5)\n",
    "arananListeler = soup.find_all(name=\"li\", attrs={\"class\":\"tier-2\"}, limit=5)\n",
    "\n",
    "#\n",
    "for l in arananListeler:\n",
    "    print(l.a.get(\"title\"))"
   ]
  },
  {
   "cell_type": "code",
   "execution_count": 17,
   "id": "48cf6cde-9a77-4222-9e7c-07a78b95f235",
   "metadata": {},
   "outputs": [],
   "source": [
    "#soru:\n",
    "#linkteki html tablodaki verileri okuyalım.\n",
    "#table, tr, th, td etiketleri mevcut.\n",
    "#https://www.w3schools.com/html/html_tables.asp"
   ]
  },
  {
   "cell_type": "code",
   "execution_count": 18,
   "id": "47f24919-1590-4a79-b91c-e370f0081f8c",
   "metadata": {},
   "outputs": [],
   "source": [
    "#soru2:\n",
    "#son depremleri çekelim.\n",
    "#http://www.koeri.boun.edu.tr/scripts/lst6.asp"
   ]
  },
  {
   "cell_type": "code",
   "execution_count": 57,
   "id": "c8e72038-769e-4c1d-ad0b-1a4446dc5b08",
   "metadata": {},
   "outputs": [],
   "source": [
    "koeri_html = urlopen(\"http://www.koeri.boun.edu.tr/scripts/lst6.asp\").read().decode(\"windows-1254\")\n",
    "#print(koeri.info())\n",
    "koeri_soup = BeautifulSoup(koeri_html, \"html.parser\")"
   ]
  },
  {
   "cell_type": "code",
   "execution_count": 71,
   "id": "0ea425f2-f43f-47bf-936d-70acf15e04b1",
   "metadata": {},
   "outputs": [],
   "source": [
    "depremler_metin = koeri_soup.pre.string[koeri_soup.pre.string.find('Tarih'):]\n",
    "#print(depremler_metin)"
   ]
  },
  {
   "cell_type": "code",
   "execution_count": 72,
   "id": "b1282751-7f78-4244-ba09-7a75af169324",
   "metadata": {},
   "outputs": [],
   "source": [
    "import re\n",
    "import pandas as pd\n",
    "\n",
    "lst_depremler = [re.split(\"\\s+\",satir) for satir in depremler_metin.splitlines() if \"--\" not in satir]\n",
    "#lst_depremler"
   ]
  },
  {
   "cell_type": "code",
   "execution_count": 73,
   "id": "0eebc2e1-d7a7-44f6-960b-2d0d60ed0f8d",
   "metadata": {},
   "outputs": [
    {
     "data": {
      "text/html": [
       "<div>\n",
       "<style scoped>\n",
       "    .dataframe tbody tr th:only-of-type {\n",
       "        vertical-align: middle;\n",
       "    }\n",
       "\n",
       "    .dataframe tbody tr th {\n",
       "        vertical-align: top;\n",
       "    }\n",
       "\n",
       "    .dataframe thead th {\n",
       "        text-align: right;\n",
       "    }\n",
       "</style>\n",
       "<table border=\"1\" class=\"dataframe\">\n",
       "  <thead>\n",
       "    <tr style=\"text-align: right;\">\n",
       "      <th></th>\n",
       "      <th>Tarih</th>\n",
       "      <th>Saat</th>\n",
       "      <th>Enlem(N)</th>\n",
       "      <th>Boylam(E)</th>\n",
       "      <th>Derinlik(km)</th>\n",
       "      <th>MD</th>\n",
       "      <th>ML</th>\n",
       "      <th>Mw</th>\n",
       "      <th>Yer</th>\n",
       "      <th>Çözüm</th>\n",
       "      <th>Niteliği</th>\n",
       "      <th>col_0</th>\n",
       "      <th>col_1</th>\n",
       "      <th>col_2</th>\n",
       "      <th>col_3</th>\n",
       "    </tr>\n",
       "  </thead>\n",
       "  <tbody>\n",
       "    <tr>\n",
       "      <th>0</th>\n",
       "      <td>2022.03.13</td>\n",
       "      <td>00:34:44</td>\n",
       "      <td>35.0780</td>\n",
       "      <td>33.8832</td>\n",
       "      <td>5.5</td>\n",
       "      <td>-.-</td>\n",
       "      <td>2.1</td>\n",
       "      <td>-.-</td>\n",
       "      <td>KIBRIS-GAZIMAGUSA</td>\n",
       "      <td>İlksel</td>\n",
       "      <td>None</td>\n",
       "      <td>None</td>\n",
       "      <td>None</td>\n",
       "      <td>None</td>\n",
       "      <td>None</td>\n",
       "    </tr>\n",
       "    <tr>\n",
       "      <th>1</th>\n",
       "      <td>2022.03.13</td>\n",
       "      <td>00:11:50</td>\n",
       "      <td>37.0583</td>\n",
       "      <td>28.3627</td>\n",
       "      <td>4.2</td>\n",
       "      <td>-.-</td>\n",
       "      <td>1.5</td>\n",
       "      <td>-.-</td>\n",
       "      <td>GOKOVA-ULA</td>\n",
       "      <td>(MUGLA)</td>\n",
       "      <td>İlksel</td>\n",
       "      <td>None</td>\n",
       "      <td>None</td>\n",
       "      <td>None</td>\n",
       "      <td>None</td>\n",
       "    </tr>\n",
       "  </tbody>\n",
       "</table>\n",
       "</div>"
      ],
      "text/plain": [
       "        Tarih      Saat Enlem(N) Boylam(E) Derinlik(km)   MD   ML   Mw  \\\n",
       "0  2022.03.13  00:34:44  35.0780   33.8832          5.5  -.-  2.1  -.-   \n",
       "1  2022.03.13  00:11:50  37.0583   28.3627          4.2  -.-  1.5  -.-   \n",
       "\n",
       "                 Yer    Çözüm Niteliği col_0 col_1 col_2 col_3  \n",
       "0  KIBRIS-GAZIMAGUSA   İlksel     None  None  None  None  None  \n",
       "1         GOKOVA-ULA  (MUGLA)   İlksel  None  None  None  None  "
      ]
     },
     "execution_count": 73,
     "metadata": {},
     "output_type": "execute_result"
    }
   ],
   "source": [
    "df_depremler = pd.DataFrame(data=lst_depremler[1:], columns=[*lst_depremler[0],*[f\"col_{i}\" for i in range(4)]])\n",
    "df_depremler.head(2)"
   ]
  },
  {
   "cell_type": "code",
   "execution_count": 74,
   "id": "32dc0e9e-ad89-41dc-aa08-a6a062280a76",
   "metadata": {},
   "outputs": [
    {
     "data": {
      "text/html": [
       "<div>\n",
       "<style scoped>\n",
       "    .dataframe tbody tr th:only-of-type {\n",
       "        vertical-align: middle;\n",
       "    }\n",
       "\n",
       "    .dataframe tbody tr th {\n",
       "        vertical-align: top;\n",
       "    }\n",
       "\n",
       "    .dataframe thead th {\n",
       "        text-align: right;\n",
       "    }\n",
       "</style>\n",
       "<table border=\"1\" class=\"dataframe\">\n",
       "  <thead>\n",
       "    <tr style=\"text-align: right;\">\n",
       "      <th></th>\n",
       "      <th>Tarih</th>\n",
       "      <th>Saat</th>\n",
       "      <th>Enlem(N)</th>\n",
       "      <th>Boylam(E)</th>\n",
       "      <th>Derinlik(km)</th>\n",
       "      <th>MD</th>\n",
       "      <th>ML</th>\n",
       "      <th>Mw</th>\n",
       "      <th>Yer</th>\n",
       "      <th>Çözüm</th>\n",
       "      <th>Niteliği</th>\n",
       "      <th>col_0</th>\n",
       "      <th>col_1</th>\n",
       "      <th>col_2</th>\n",
       "      <th>col_3</th>\n",
       "    </tr>\n",
       "  </thead>\n",
       "  <tbody>\n",
       "    <tr>\n",
       "      <th>239</th>\n",
       "      <td>2022.03.07</td>\n",
       "      <td>06:53:16</td>\n",
       "      <td>40.6025</td>\n",
       "      <td>27.5015</td>\n",
       "      <td>17.8</td>\n",
       "      <td>-.-</td>\n",
       "      <td>2.0</td>\n",
       "      <td>-.-</td>\n",
       "      <td>MARMARA</td>\n",
       "      <td>(BALIKESIR)</td>\n",
       "      <td>İlksel</td>\n",
       "      <td>None</td>\n",
       "      <td>None</td>\n",
       "      <td>None</td>\n",
       "      <td>None</td>\n",
       "    </tr>\n",
       "  </tbody>\n",
       "</table>\n",
       "</div>"
      ],
      "text/plain": [
       "          Tarih      Saat Enlem(N) Boylam(E) Derinlik(km)   MD   ML   Mw  \\\n",
       "239  2022.03.07  06:53:16  40.6025   27.5015         17.8  -.-  2.0  -.-   \n",
       "\n",
       "         Yer        Çözüm Niteliği col_0 col_1 col_2 col_3  \n",
       "239  MARMARA  (BALIKESIR)   İlksel  None  None  None  None  "
      ]
     },
     "execution_count": 74,
     "metadata": {},
     "output_type": "execute_result"
    }
   ],
   "source": [
    "df_depremler.query(\"Yer == 'MARMARA'\")"
   ]
  },
  {
   "cell_type": "code",
   "execution_count": 75,
   "id": "37066354-08ed-43c5-9fbd-3b4daa44dad8",
   "metadata": {},
   "outputs": [
    {
     "name": "stdout",
     "output_type": "stream",
     "text": [
      "<class 'pandas.core.frame.DataFrame'>\n",
      "RangeIndex: 501 entries, 0 to 500\n",
      "Data columns (total 15 columns):\n",
      " #   Column        Non-Null Count  Dtype \n",
      "---  ------        --------------  ----- \n",
      " 0   Tarih         501 non-null    object\n",
      " 1   Saat          500 non-null    object\n",
      " 2   Enlem(N)      500 non-null    object\n",
      " 3   Boylam(E)     500 non-null    object\n",
      " 4   Derinlik(km)  500 non-null    object\n",
      " 5   MD            500 non-null    object\n",
      " 6   ML            500 non-null    object\n",
      " 7   Mw            500 non-null    object\n",
      " 8   Yer           500 non-null    object\n",
      " 9   Çözüm         500 non-null    object\n",
      " 10  Niteliği      410 non-null    object\n",
      " 11  col_0         116 non-null    object\n",
      " 12  col_1         55 non-null     object\n",
      " 13  col_2         3 non-null      object\n",
      " 14  col_3         2 non-null      object\n",
      "dtypes: object(15)\n",
      "memory usage: 58.8+ KB\n"
     ]
    }
   ],
   "source": [
    "df_depremler.info()"
   ]
  },
  {
   "cell_type": "code",
   "execution_count": null,
   "id": "eb2360e7-d3c0-475e-974a-1b9850e89e12",
   "metadata": {},
   "outputs": [],
   "source": []
  },
  {
   "cell_type": "code",
   "execution_count": null,
   "id": "3cea9de2-8e6b-4afb-93cb-11110c78a7d2",
   "metadata": {},
   "outputs": [],
   "source": []
  }
 ],
 "metadata": {
  "kernelspec": {
   "display_name": "Python 3 (ipykernel)",
   "language": "python",
   "name": "python3"
  },
  "language_info": {
   "codemirror_mode": {
    "name": "ipython",
    "version": 3
   },
   "file_extension": ".py",
   "mimetype": "text/x-python",
   "name": "python",
   "nbconvert_exporter": "python",
   "pygments_lexer": "ipython3",
   "version": "3.9.5"
  }
 },
 "nbformat": 4,
 "nbformat_minor": 5
}
