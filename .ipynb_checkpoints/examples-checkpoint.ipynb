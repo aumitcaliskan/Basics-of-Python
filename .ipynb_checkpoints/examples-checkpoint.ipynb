{
 "cells": [
  {
   "cell_type": "markdown",
   "metadata": {},
   "source": [
    "- Given `empires_extended` dictionary from Mod 3, and using the function you implemented to convert dates in Mod 5, parse the `From` and `To` fields into integers for all empires.\n",
    "\n",
    ">Before:  \n",
    "`'Han Dynasty':        {'Origin': 'China', 'From': '206 BC', 'To': '220'}`\n",
    "\n",
    ">After:  \n",
    "`'Han Dynasty':        {'Origin': 'China', 'From': -206, 'To': 220}`"
   ]
  },
  {
   "cell_type": "code",
   "execution_count": 63,
   "metadata": {},
   "outputs": [],
   "source": [
    "empires_extended = {'Han Dynasty':        {'Origin': 'China', 'From': '206 BC', 'To': '220'},\n",
    "                    'Empire of Harsha':   {'Origin': 'Northern India', 'From': '606', 'To': '647'},\n",
    "                    'Hephthalite Empire': {'Origin': 'Afghanistan', 'From': '420', 'To': '567'},\n",
    "                    'Hittite Empire':     {'Origin': 'Anatolia', 'From': '1460 BC', 'To': '1180 BC'},\n",
    "                    'Holy Roman Empire':  {'Origin': 'Central Europe', 'From': '962', 'To': '1806'},\n",
    "                    'Hotaki Dynasty':     {'Origin': 'Persia', 'From': '1709', 'To': '1738'},\n",
    "                    'Hoysala Empire':     {'Origin': 'India', 'From': '1026', 'To': '1343'},\n",
    "                    'Hunnic Empire':      {'Origin': 'Eurasia', 'From': '370', 'To': '469'},\n",
    "                    'Idrisid dynasty':    {'Origin': 'Morocco', 'From': '788', 'To': '974'},\n",
    "                    'Ilkhanate':          {'Origin': 'Persia', 'From': '1256', 'To': '1335'}}"
   ]
  },
  {
   "cell_type": "code",
   "execution_count": 52,
   "metadata": {},
   "outputs": [
    {
     "data": {
      "text/plain": [
       "'206 BC'"
      ]
     },
     "execution_count": 52,
     "metadata": {},
     "output_type": "execute_result"
    }
   ],
   "source": [
    "empires_extended['Han Dynasty']['From']"
   ]
  },
  {
   "cell_type": "code",
   "execution_count": 53,
   "metadata": {},
   "outputs": [
    {
     "data": {
      "text/plain": [
       "'606'"
      ]
     },
     "execution_count": 53,
     "metadata": {},
     "output_type": "execute_result"
    }
   ],
   "source": [
    "empires_extended['Empire of Harsha']['From']"
   ]
  },
  {
   "cell_type": "code",
   "execution_count": 54,
   "metadata": {},
   "outputs": [],
   "source": [
    "for i in empires_extended:\n",
    "    if empires_extended[i]['From'].endswith(\"BC\"):\n",
    "        empires_extended[i]['From'] = int(empires_extended[i]['From'].split()[0])*-1\n",
    "    if empires_extended[i]['To'].endswith(\"BC\"):\n",
    "        empires_extended[i]['To'] = int(empires_extended[i]['To'].split()[0])*-1    \n",
    "        \n",
    "        \n",
    "    \n",
    "    "
   ]
  },
  {
   "cell_type": "code",
   "execution_count": 55,
   "metadata": {},
   "outputs": [
    {
     "data": {
      "text/plain": [
       "{'Han Dynasty': {'Origin': 'China', 'From': -206, 'To': '220'},\n",
       " 'Empire of Harsha': {'Origin': 'Northern India', 'From': '606', 'To': '647'},\n",
       " 'Hephthalite Empire': {'Origin': 'Afghanistan', 'From': '420', 'To': '567'},\n",
       " 'Hittite Empire': {'Origin': 'Anatolia', 'From': -1460, 'To': -1180},\n",
       " 'Holy Roman Empire': {'Origin': 'Central Europe',\n",
       "  'From': '962',\n",
       "  'To': '1806'},\n",
       " 'Hotaki Dynasty': {'Origin': 'Persia', 'From': '1709', 'To': '1738'},\n",
       " 'Hoysala Empire': {'Origin': 'India', 'From': '1026', 'To': '1343'},\n",
       " 'Hunnic Empire': {'Origin': 'Eurasia', 'From': '370', 'To': '469'},\n",
       " 'Idrisid dynasty': {'Origin': 'Morocco', 'From': '788', 'To': '974'},\n",
       " 'Ilkhanate': {'Origin': 'Persia', 'From': '1256', 'To': '1335'}}"
      ]
     },
     "execution_count": 55,
     "metadata": {},
     "output_type": "execute_result"
    }
   ],
   "source": [
    "empires_extended"
   ]
  },
  {
   "cell_type": "code",
   "execution_count": 56,
   "metadata": {},
   "outputs": [],
   "source": [
    "s = \"asfasfd qqq\""
   ]
  },
  {
   "cell_type": "code",
   "execution_count": 57,
   "metadata": {},
   "outputs": [
    {
     "data": {
      "text/plain": [
       "'asfasfd'"
      ]
     },
     "execution_count": 57,
     "metadata": {},
     "output_type": "execute_result"
    }
   ],
   "source": [
    "s.split()[0]"
   ]
  },
  {
   "cell_type": "code",
   "execution_count": 64,
   "metadata": {},
   "outputs": [
    {
     "data": {
      "text/plain": [
       "{'Han Dynasty': {'Origin': 'China', 'From': -206, 'To': '220'},\n",
       " 'Empire of Harsha': {'Origin': 'Northern India', 'From': '606', 'To': '647'},\n",
       " 'Hephthalite Empire': {'Origin': 'Afghanistan', 'From': '420', 'To': '567'},\n",
       " 'Hittite Empire': {'Origin': 'Anatolia', 'From': -1460, 'To': -1180},\n",
       " 'Holy Roman Empire': {'Origin': 'Central Europe',\n",
       "  'From': '962',\n",
       "  'To': '1806'},\n",
       " 'Hotaki Dynasty': {'Origin': 'Persia', 'From': '1709', 'To': '1738'},\n",
       " 'Hoysala Empire': {'Origin': 'India', 'From': '1026', 'To': '1343'},\n",
       " 'Hunnic Empire': {'Origin': 'Eurasia', 'From': '370', 'To': '469'},\n",
       " 'Idrisid dynasty': {'Origin': 'Morocco', 'From': '788', 'To': '974'},\n",
       " 'Ilkhanate': {'Origin': 'Persia', 'From': '1256', 'To': '1335'}}"
      ]
     },
     "execution_count": 64,
     "metadata": {},
     "output_type": "execute_result"
    }
   ],
   "source": [
    "for i in empires_extended:\n",
    "    for k,v in empires_extended[i].items():\n",
    "        if ' BC' in v:\n",
    "            v = v[:-3]\n",
    "            v = -1 * int(v)\n",
    "            empires_extended[i][k] = v\n",
    "\n",
    "empires_extended\n"
   ]
  },
  {
   "cell_type": "markdown",
   "metadata": {},
   "source": [
    "- Implemt the function to calculate the factorial of a given integer.  \n",
    "\n",
    "Sample Input:\n",
    "```\n",
    "factorial(3)  # Calculates 3*2*1\n",
    "```\n",
    "Sample Output:\n",
    "```\n",
    "6\n",
    "```"
   ]
  },
  {
   "cell_type": "code",
   "execution_count": 1,
   "metadata": {},
   "outputs": [],
   "source": [
    "def factorial(n):\n",
    "    # Write your code here\n",
    "    return None\n",
    "\n",
    "n = 5\n",
    "factorial(5)"
   ]
  },
  {
   "cell_type": "markdown",
   "metadata": {},
   "source": [
    "- Implement a function to calculate sine of given angle.\n",
    "\n",
    "Sine can be calculated to desired precision as follows:\n",
    "$$ sin(x) = \\sum^\\infty_{i=0}{\\frac{(-1)^i}{(2i+1)!}x^{2i+1}}$$\n",
    "$$ = x - \\frac{x^3}{3!} + \\frac{x^5}{5!} - \\frac{x^7}{7!} + ...$$\n",
    "\n",
    "Sample Input:\n",
    "```\n",
    "result = sin(3.14159/2)\n",
    "round(result, 4)\n",
    "```\n",
    "Sample Output:\n",
    "```\n",
    "1.0\n",
    "```"
   ]
  },
  {
   "cell_type": "code",
   "execution_count": 11,
   "metadata": {},
   "outputs": [
    {
     "data": {
      "text/plain": [
       "0.9999999999991197"
      ]
     },
     "execution_count": 11,
     "metadata": {},
     "output_type": "execute_result"
    }
   ],
   "source": [
    "x = 3.14159/2\n",
    "sinx=0\n",
    "for i in range(0,120):\n",
    "    sinx += (((-1)**i) / fakt(2*i +1)) * (x **(2*i+1))\n",
    "sinx"
   ]
  },
  {
   "cell_type": "code",
   "execution_count": 4,
   "metadata": {},
   "outputs": [],
   "source": [
    "def fakt(n):\n",
    "   if n == 1:\n",
    "       return n\n",
    "   else:\n",
    "       return n*fakt(n-1)"
   ]
  },
  {
   "cell_type": "code",
   "execution_count": 4,
   "metadata": {},
   "outputs": [],
   "source": [
    "def sin(x):\n",
    "    # Write your code here\n",
    "    return None\n",
    "\n",
    "x = 3.14159\n",
    "sin(x)"
   ]
  }
 ],
 "metadata": {
  "kernelspec": {
   "display_name": "Python 3",
   "language": "python",
   "name": "python3"
  },
  "language_info": {
   "codemirror_mode": {
    "name": "ipython",
    "version": 3
   },
   "file_extension": ".py",
   "mimetype": "text/x-python",
   "name": "python",
   "nbconvert_exporter": "python",
   "pygments_lexer": "ipython3",
   "version": "3.8.5"
  }
 },
 "nbformat": 4,
 "nbformat_minor": 2
}
