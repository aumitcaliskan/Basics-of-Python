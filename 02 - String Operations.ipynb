{
 "cells": [
  {
   "cell_type": "markdown",
   "metadata": {},
   "source": [
    "# Strings and String Operations\n",
    "\n",
    "String data type is very similar to lists in terms of behavior (indexing, slicing, concatenation, etc.)  \n",
    "String variables can be single or multiple characters.\n",
    "\n",
    "- Define two string variables, `a = 'abc'` and `b = 'd'`."
   ]
  },
  {
   "cell_type": "code",
   "execution_count": 6,
   "metadata": {},
   "outputs": [
    {
     "name": "stdout",
     "output_type": "stream",
     "text": [
      "adam adam\n"
     ]
    }
   ],
   "source": [
    "print(\"adam\", \"adam\")"
   ]
  },
  {
   "cell_type": "code",
   "execution_count": 7,
   "metadata": {},
   "outputs": [
    {
     "name": "stdout",
     "output_type": "stream",
     "text": [
      "adam \n",
      "adam\n"
     ]
    }
   ],
   "source": [
    "print(\"adam \\nadam\")"
   ]
  },
  {
   "cell_type": "code",
   "execution_count": 8,
   "metadata": {},
   "outputs": [
    {
     "name": "stdout",
     "output_type": "stream",
     "text": [
      "adam\n",
      "adam\n"
     ]
    }
   ],
   "source": [
    "print(\"adam\" \"\\n\" \"adam\")"
   ]
  },
  {
   "cell_type": "markdown",
   "metadata": {},
   "source": [
    "String literals are surrounded by either single or double quotation marks.\n",
    "- Run the example below:"
   ]
  },
  {
   "cell_type": "code",
   "execution_count": 11,
   "metadata": {},
   "outputs": [
    {
     "ename": "SyntaxError",
     "evalue": "invalid syntax (<ipython-input-11-a576b26bf772>, line 3)",
     "output_type": "error",
     "traceback": [
      "\u001b[1;36m  File \u001b[1;32m\"<ipython-input-11-a576b26bf772>\"\u001b[1;36m, line \u001b[1;32m3\u001b[0m\n\u001b[1;33m    print(\"\"Hello World\"\")\u001b[0m\n\u001b[1;37m                ^\u001b[0m\n\u001b[1;31mSyntaxError\u001b[0m\u001b[1;31m:\u001b[0m invalid syntax\n"
     ]
    }
   ],
   "source": [
    "print(\"Hello World\")\n",
    "print('Hello World')\n",
    "print(\"\"Hello World\"\")"
   ]
  },
  {
   "cell_type": "markdown",
   "metadata": {},
   "source": [
    "Multiline strings can be defined using **three** quotation marks.\n",
    "- Run the example cell below:"
   ]
  },
  {
   "cell_type": "code",
   "execution_count": 14,
   "metadata": {},
   "outputs": [
    {
     "name": "stdout",
     "output_type": "stream",
     "text": [
      "ben istanbul'a geldim\n"
     ]
    }
   ],
   "source": [
    "# çift tırnak ile print\n",
    "print(\"ben istanbul'a geldim\")"
   ]
  },
  {
   "cell_type": "code",
   "execution_count": 2,
   "metadata": {},
   "outputs": [
    {
     "name": "stdout",
     "output_type": "stream",
     "text": [
      "Ali \"baş ve sondakini çift tırnak yap\" dedi\n"
     ]
    }
   ],
   "source": [
    "# tek tırnak örneği\n",
    "print('Ali \"baş ve sondakini çift tırnak yap\" dedi')"
   ]
  },
  {
   "cell_type": "code",
   "execution_count": 3,
   "metadata": {},
   "outputs": [
    {
     "ename": "SyntaxError",
     "evalue": "invalid syntax (<ipython-input-3-f8a3ddab6fa0>, line 1)",
     "output_type": "error",
     "traceback": [
      "\u001b[1;36m  File \u001b[1;32m\"<ipython-input-3-f8a3ddab6fa0>\"\u001b[1;36m, line \u001b[1;32m1\u001b[0m\n\u001b[1;33m    print(\"Ali \"baş ve sondakini çift tırnak yap\" dedi\")\u001b[0m\n\u001b[1;37m                ^\u001b[0m\n\u001b[1;31mSyntaxError\u001b[0m\u001b[1;31m:\u001b[0m invalid syntax\n"
     ]
    }
   ],
   "source": [
    "print(\"Ali \"baş ve sondakini çift tırnak yap\" dedi\")"
   ]
  },
  {
   "cell_type": "code",
   "execution_count": 4,
   "metadata": {},
   "outputs": [
    {
     "ename": "SyntaxError",
     "evalue": "invalid syntax (<ipython-input-4-67f9177c7106>, line 1)",
     "output_type": "error",
     "traceback": [
      "\u001b[1;36m  File \u001b[1;32m\"<ipython-input-4-67f9177c7106>\"\u001b[1;36m, line \u001b[1;32m1\u001b[0m\n\u001b[1;33m    print('Ali \"baş ve sondakini İstanbul'da çift tırnak yap\" dedi')\u001b[0m\n\u001b[1;37m                                          ^\u001b[0m\n\u001b[1;31mSyntaxError\u001b[0m\u001b[1;31m:\u001b[0m invalid syntax\n"
     ]
    }
   ],
   "source": [
    "print('Ali \"baş ve sondakini İstanbul'da çift tırnak yap\" dedi')"
   ]
  },
  {
   "cell_type": "code",
   "execution_count": 5,
   "metadata": {},
   "outputs": [
    {
     "name": "stdout",
     "output_type": "stream",
     "text": [
      "Ali \"baş ve sondakini İstanbul'da çift tırnak yap\" dedi\n"
     ]
    }
   ],
   "source": [
    "print(\"\"\"Ali \"baş ve sondakini İstanbul'da çift tırnak yap\" dedi\"\"\")"
   ]
  },
  {
   "cell_type": "code",
   "execution_count": 2,
   "metadata": {},
   "outputs": [
    {
     "name": "stdout",
     "output_type": "stream",
     "text": [
      "This is a\n",
      "multiline string.\n"
     ]
    }
   ],
   "source": [
    "multi = \"\"\"This is a\n",
    "multiline string.\"\"\"\n",
    "print(multi)"
   ]
  },
  {
   "cell_type": "code",
   "execution_count": 25,
   "metadata": {},
   "outputs": [
    {
     "data": {
      "text/plain": [
       "'This is a\\nmultiline string.'"
      ]
     },
     "execution_count": 25,
     "metadata": {},
     "output_type": "execute_result"
    }
   ],
   "source": [
    "\"\"\"This is a\n",
    "multiline string.\"\"\"\n"
   ]
  },
  {
   "cell_type": "markdown",
   "metadata": {},
   "source": [
    "String variables can be concatenated using `+` operator.  \n",
    "- Concatenate `a` and `b` variables to obtain `\"abcd\"` as `d` variable."
   ]
  },
  {
   "cell_type": "code",
   "execution_count": 28,
   "metadata": {},
   "outputs": [
    {
     "data": {
      "text/plain": [
       "'marhaba'"
      ]
     },
     "execution_count": 28,
     "metadata": {},
     "output_type": "execute_result"
    }
   ],
   "source": [
    "a=\"merhaba\"\n",
    "b=a.replace(\"e\",\"a\")\n",
    "b"
   ]
  },
  {
   "cell_type": "code",
   "execution_count": 30,
   "metadata": {},
   "outputs": [
    {
     "data": {
      "text/plain": [
       "'merhiba'"
      ]
     },
     "execution_count": 30,
     "metadata": {},
     "output_type": "execute_result"
    }
   ],
   "source": [
    "a=\"merhaba\"\n",
    "b=a.replace(\"a\", \"i\", 1)\n",
    "b"
   ]
  },
  {
   "cell_type": "markdown",
   "metadata": {},
   "source": [
    "Strings can be multiplied to create longer strings.\n",
    "- Create a variable of all `\"a\"`'s, 27 characters long."
   ]
  },
  {
   "cell_type": "code",
   "execution_count": 17,
   "metadata": {},
   "outputs": [
    {
     "data": {
      "text/plain": [
       "'aaaaaaaaaaaaaaaaaaaaaaaaaaa'"
      ]
     },
     "execution_count": 17,
     "metadata": {},
     "output_type": "execute_result"
    }
   ],
   "source": [
    "new= \"a\" * 27\n",
    "new"
   ]
  },
  {
   "cell_type": "markdown",
   "metadata": {},
   "source": [
    "Indexing can be used for string variables just as in lists.\n",
    "- Select the first character of `d`.\n",
    "- Select the last character of `d`."
   ]
  },
  {
   "cell_type": "code",
   "execution_count": 53,
   "metadata": {},
   "outputs": [
    {
     "data": {
      "text/plain": [
       "16"
      ]
     },
     "execution_count": 53,
     "metadata": {},
     "output_type": "execute_result"
    }
   ],
   "source": [
    "c=\"alnfalnflsakdnfd\"\n",
    "len(c)"
   ]
  },
  {
   "cell_type": "code",
   "execution_count": 42,
   "metadata": {},
   "outputs": [
    {
     "data": {
      "text/plain": [
       "'a'"
      ]
     },
     "execution_count": 42,
     "metadata": {},
     "output_type": "execute_result"
    }
   ],
   "source": [
    "c[0]"
   ]
  },
  {
   "cell_type": "code",
   "execution_count": 68,
   "metadata": {},
   "outputs": [
    {
     "data": {
      "text/plain": [
       "'f'"
      ]
     },
     "execution_count": 68,
     "metadata": {},
     "output_type": "execute_result"
    }
   ],
   "source": [
    "c[-1]"
   ]
  },
  {
   "cell_type": "code",
   "execution_count": 45,
   "metadata": {},
   "outputs": [
    {
     "data": {
      "text/plain": [
       "'a'"
      ]
     },
     "execution_count": 45,
     "metadata": {},
     "output_type": "execute_result"
    }
   ],
   "source": [
    "c[-15]"
   ]
  },
  {
   "cell_type": "code",
   "execution_count": 54,
   "metadata": {},
   "outputs": [
    {
     "ename": "TypeError",
     "evalue": "string indices must be integers",
     "output_type": "error",
     "traceback": [
      "\u001b[1;31m---------------------------------------------------------------------------\u001b[0m",
      "\u001b[1;31mTypeError\u001b[0m                                 Traceback (most recent call last)",
      "\u001b[1;32m<ipython-input-54-8c5c6fa43dae>\u001b[0m in \u001b[0;36m<module>\u001b[1;34m\u001b[0m\n\u001b[1;32m----> 1\u001b[1;33m \u001b[0mc\u001b[0m\u001b[1;33m[\u001b[0m\u001b[0mlen\u001b[0m\u001b[1;33m(\u001b[0m\u001b[0mc\u001b[0m\u001b[1;33m)\u001b[0m\u001b[1;33m/\u001b[0m\u001b[1;36m2\u001b[0m\u001b[1;33m]\u001b[0m\u001b[1;33m\u001b[0m\u001b[1;33m\u001b[0m\u001b[0m\n\u001b[0m",
      "\u001b[1;31mTypeError\u001b[0m: string indices must be integers"
     ]
    }
   ],
   "source": [
    "c[len(c)/2]"
   ]
  },
  {
   "cell_type": "code",
   "execution_count": 55,
   "metadata": {},
   "outputs": [
    {
     "data": {
      "text/plain": [
       "float"
      ]
     },
     "execution_count": 55,
     "metadata": {},
     "output_type": "execute_result"
    }
   ],
   "source": [
    "type(len(c)/2)"
   ]
  },
  {
   "cell_type": "code",
   "execution_count": 49,
   "metadata": {},
   "outputs": [
    {
     "data": {
      "text/plain": [
       "'l'"
      ]
     },
     "execution_count": 49,
     "metadata": {},
     "output_type": "execute_result"
    }
   ],
   "source": [
    "c[round(len(c)/2)]"
   ]
  },
  {
   "cell_type": "code",
   "execution_count": 50,
   "metadata": {},
   "outputs": [
    {
     "data": {
      "text/plain": [
       "'f'"
      ]
     },
     "execution_count": 50,
     "metadata": {},
     "output_type": "execute_result"
    }
   ],
   "source": [
    "c[int(len(c)/2)]"
   ]
  },
  {
   "cell_type": "code",
   "execution_count": 48,
   "metadata": {},
   "outputs": [
    {
     "data": {
      "text/plain": [
       "7.5"
      ]
     },
     "execution_count": 48,
     "metadata": {},
     "output_type": "execute_result"
    }
   ],
   "source": [
    "len(c)/2"
   ]
  },
  {
   "cell_type": "code",
   "execution_count": 52,
   "metadata": {},
   "outputs": [
    {
     "data": {
      "text/plain": [
       "7"
      ]
     },
     "execution_count": 52,
     "metadata": {},
     "output_type": "execute_result"
    }
   ],
   "source": [
    "int(7.99999)"
   ]
  },
  {
   "cell_type": "markdown",
   "metadata": {},
   "source": [
    "- Select first three characters of `d`."
   ]
  },
  {
   "cell_type": "code",
   "execution_count": 77,
   "metadata": {},
   "outputs": [
    {
     "data": {
      "text/plain": [
       "'cal'"
      ]
     },
     "execution_count": 77,
     "metadata": {},
     "output_type": "execute_result"
    }
   ],
   "source": [
    "c[:3]"
   ]
  },
  {
   "cell_type": "code",
   "execution_count": 80,
   "metadata": {},
   "outputs": [
    {
     "data": {
      "text/plain": [
       "'nfalnflsakdnf'"
      ]
     },
     "execution_count": 80,
     "metadata": {},
     "output_type": "execute_result"
    }
   ],
   "source": [
    "c[3:]"
   ]
  },
  {
   "cell_type": "code",
   "execution_count": 81,
   "metadata": {},
   "outputs": [
    {
     "data": {
      "text/plain": [
       "'dnf'"
      ]
     },
     "execution_count": 81,
     "metadata": {},
     "output_type": "execute_result"
    }
   ],
   "source": [
    "c[-3:]"
   ]
  },
  {
   "cell_type": "code",
   "execution_count": 85,
   "metadata": {},
   "outputs": [
    {
     "data": {
      "text/plain": [
       "'nanl'"
      ]
     },
     "execution_count": 85,
     "metadata": {},
     "output_type": "execute_result"
    }
   ],
   "source": [
    "c[3:10:2]"
   ]
  },
  {
   "cell_type": "code",
   "execution_count": 6,
   "metadata": {},
   "outputs": [
    {
     "data": {
      "text/plain": [
       "'ila'"
      ]
     },
     "execution_count": 6,
     "metadata": {},
     "output_type": "execute_result"
    }
   ],
   "source": [
    "a = \"ali\"\n",
    "a[::-1]"
   ]
  },
  {
   "cell_type": "code",
   "execution_count": 8,
   "metadata": {},
   "outputs": [
    {
     "data": {
      "text/plain": [
       "'iiiaaaaaaaaaaaaaaaaaaaaa'"
      ]
     },
     "execution_count": 8,
     "metadata": {},
     "output_type": "execute_result"
    }
   ],
   "source": [
    "a = \"aaaaaaaaaaaaaaaaaaaaaaaa\"\n",
    "b = a.replace(\"a\", \"i\",3)\n",
    "b"
   ]
  },
  {
   "cell_type": "code",
   "execution_count": 9,
   "metadata": {},
   "outputs": [
    {
     "data": {
      "text/plain": [
       "'aaaaaaai'"
      ]
     },
     "execution_count": 9,
     "metadata": {},
     "output_type": "execute_result"
    }
   ],
   "source": [
    "b[::-3]"
   ]
  },
  {
   "cell_type": "code",
   "execution_count": 1,
   "metadata": {},
   "outputs": [
    {
     "data": {
      "text/plain": [
       "[9, 8, 7, 6, 5, 4, 3, 2, 1]"
      ]
     },
     "execution_count": 1,
     "metadata": {},
     "output_type": "execute_result"
    }
   ],
   "source": [
    "liste= [1,2,3,4,5,6,7,8,9]\n",
    "liste[::-1]"
   ]
  },
  {
   "cell_type": "markdown",
   "metadata": {},
   "source": [
    "- Change the last character of `d` into `\"e\"` to obtain `\"abce\"`."
   ]
  },
  {
   "cell_type": "code",
   "execution_count": 2,
   "metadata": {},
   "outputs": [],
   "source": [
    "p = \"abcd\""
   ]
  },
  {
   "cell_type": "code",
   "execution_count": 4,
   "metadata": {},
   "outputs": [
    {
     "data": {
      "text/plain": [
       "'abce'"
      ]
     },
     "execution_count": 4,
     "metadata": {},
     "output_type": "execute_result"
    }
   ],
   "source": [
    "p.replace(\"d\",\"e\")"
   ]
  },
  {
   "cell_type": "markdown",
   "metadata": {},
   "source": [
    "Membership tests can be performed on strings.\n",
    "- Check if word `\"Python\"` occurrs in the following string:"
   ]
  },
  {
   "cell_type": "code",
   "execution_count": 6,
   "metadata": {},
   "outputs": [],
   "source": [
    "paragraph = \"\"\"Like many other popular programming languages, strings in Python are arrays of bytes representing unicode characters.\n",
    "However, Python does not have a character data type, a single character is simply a string with a length of 1.\n",
    "Square brackets can be used to access elements of the string.\"\"\"\n",
    "\n",
    "# \"Python\" ? paragraph"
   ]
  },
  {
   "cell_type": "code",
   "execution_count": 11,
   "metadata": {},
   "outputs": [
    {
     "data": {
      "text/plain": [
       "False"
      ]
     },
     "execution_count": 11,
     "metadata": {},
     "output_type": "execute_result"
    }
   ],
   "source": [
    "\"Yasin\" in paragraph #???"
   ]
  },
  {
   "cell_type": "code",
   "execution_count": 12,
   "metadata": {},
   "outputs": [
    {
     "data": {
      "text/plain": [
       "True"
      ]
     },
     "execution_count": 12,
     "metadata": {},
     "output_type": "execute_result"
    }
   ],
   "source": [
    "\"Like\" in paragraph #???"
   ]
  },
  {
   "cell_type": "code",
   "execution_count": 13,
   "metadata": {},
   "outputs": [
    {
     "data": {
      "text/plain": [
       "'i'"
      ]
     },
     "execution_count": 13,
     "metadata": {},
     "output_type": "execute_result"
    }
   ],
   "source": [
    "paragraph[100]"
   ]
  },
  {
   "cell_type": "markdown",
   "metadata": {},
   "source": [
    "- What is the length of the `paragraph`?"
   ]
  },
  {
   "cell_type": "code",
   "execution_count": 7,
   "metadata": {},
   "outputs": [
    {
     "data": {
      "text/plain": [
       "290"
      ]
     },
     "execution_count": 7,
     "metadata": {},
     "output_type": "execute_result"
    }
   ],
   "source": [
    "len(paragraph)"
   ]
  },
  {
   "cell_type": "markdown",
   "metadata": {},
   "source": [
    "- Turn the string `\"Python\"` into all lowercase characters.\n",
    "Hint:\n",
    "```\n",
    "p = \"UPPER\"\n",
    "p.lower()\n",
    "```"
   ]
  },
  {
   "cell_type": "code",
   "execution_count": 8,
   "metadata": {},
   "outputs": [
    {
     "data": {
      "text/plain": [
       "'python'"
      ]
     },
     "execution_count": 8,
     "metadata": {},
     "output_type": "execute_result"
    }
   ],
   "source": [
    "p = \"Python\"\n",
    "p.lower()\n",
    "# p.?()"
   ]
  },
  {
   "cell_type": "markdown",
   "metadata": {},
   "source": [
    "- Turn the string `\"Python\"` into all uppercase characters."
   ]
  },
  {
   "cell_type": "code",
   "execution_count": 19,
   "metadata": {},
   "outputs": [
    {
     "data": {
      "text/plain": [
       "'PYTHON'"
      ]
     },
     "execution_count": 19,
     "metadata": {},
     "output_type": "execute_result"
    }
   ],
   "source": [
    "p.upper()"
   ]
  },
  {
   "cell_type": "markdown",
   "metadata": {},
   "source": [
    "Characters or sequences in a string can be replaced using `str.replace(old, new)`.\n",
    "- Replace \"y\" characters in p with \"i\"."
   ]
  },
  {
   "cell_type": "code",
   "execution_count": 20,
   "metadata": {},
   "outputs": [
    {
     "data": {
      "text/plain": [
       "'Pithon'"
      ]
     },
     "execution_count": 20,
     "metadata": {},
     "output_type": "execute_result"
    }
   ],
   "source": [
    "p = \"Python\"\n",
    "p.replace(\"y\",\"i\")\n",
    "\n",
    "# p.?(?, ?)"
   ]
  },
  {
   "cell_type": "markdown",
   "metadata": {},
   "source": [
    "- Replace \"on\" sequence with \"off\"."
   ]
  },
  {
   "cell_type": "code",
   "execution_count": 21,
   "metadata": {},
   "outputs": [
    {
     "data": {
      "text/plain": [
       "'Pythoff'"
      ]
     },
     "execution_count": 21,
     "metadata": {},
     "output_type": "execute_result"
    }
   ],
   "source": [
    "p = \"Python\"\n",
    "p.replace(\"on\",\"off\")\n",
    "\n",
    "# p.?(?, ?)"
   ]
  },
  {
   "cell_type": "markdown",
   "metadata": {},
   "source": [
    "Strings can be split to create a list by passing the delimiter character into `split()` method.\n",
    "- Split the following data:"
   ]
  },
  {
   "cell_type": "code",
   "execution_count": 22,
   "metadata": {},
   "outputs": [
    {
     "data": {
      "text/plain": [
       "['3325900,8675099,16004112,6000000']"
      ]
     },
     "execution_count": 22,
     "metadata": {},
     "output_type": "execute_result"
    }
   ],
   "source": [
    "cities = 'Chesapeake,Guangzhou,Bengal,Rio'\n",
    "population = '3325900,8675099,16004112,6000000'\n",
    "\n",
    "# cities.split(?)\n",
    "# population.split(?)\n",
    "cities.split()\n",
    "population.split()"
   ]
  },
  {
   "cell_type": "code",
   "execution_count": 92,
   "metadata": {},
   "outputs": [
    {
     "data": {
      "text/plain": [
       "['333325900,8675099,16004112,6000000']"
      ]
     },
     "execution_count": 92,
     "metadata": {},
     "output_type": "execute_result"
    }
   ],
   "source": [
    "spl=population.split()\n",
    "d= [4,7,1,0,4,8]\n",
    "sorted(spl)"
   ]
  },
  {
   "cell_type": "code",
   "execution_count": 95,
   "metadata": {},
   "outputs": [
    {
     "data": {
      "text/plain": [
       "['A', 'E', 'a', 'e', 'f', 'y']"
      ]
     },
     "execution_count": 95,
     "metadata": {},
     "output_type": "execute_result"
    }
   ],
   "source": [
    "e= [\"f\",\"e\",\"y\",\"a\", \"A\", \"E\"]\n",
    "sorted(e)"
   ]
  },
  {
   "cell_type": "markdown",
   "metadata": {},
   "source": [
    "List or tuple elements can be joined together into a string.\n",
    "- Join the following list with spaces in between.  \n",
    "Sample input: `t = [\"3\",\"tunc\",\"tas\",\"kayisi\",\"hosafi\"]`  \n",
    "`\" \".join(t)`  \n",
    "Sample output: `\"3 tunc tas kayisi hosafi\""
   ]
  },
  {
   "cell_type": "code",
   "execution_count": 23,
   "metadata": {},
   "outputs": [
    {
     "data": {
      "text/plain": [
       "'This,is,split,text.'"
      ]
     },
     "execution_count": 23,
     "metadata": {},
     "output_type": "execute_result"
    }
   ],
   "source": [
    "split_text = [\"This\",\"is\",\"split\",\"text.\"]\n",
    "# joined_text = ?\n",
    "\",\".join(split_text)"
   ]
  },
  {
   "cell_type": "markdown",
   "metadata": {},
   "source": [
    "If you want no characters in between list elements, just join on an empty string, i.e `\"\".join(your_list)`\n",
    "- Join the following list:"
   ]
  },
  {
   "cell_type": "code",
   "execution_count": 24,
   "metadata": {},
   "outputs": [
    {
     "data": {
      "text/plain": [
       "'P,y,t,h,o,n'"
      ]
     },
     "execution_count": 24,
     "metadata": {},
     "output_type": "execute_result"
    }
   ],
   "source": [
    "p = ['P','y','t','h','o','n']\n",
    "\",\".join(p)\n",
    "\n",
    "# joined = ?"
   ]
  },
  {
   "cell_type": "markdown",
   "metadata": {},
   "source": [
    "Creating a list using a string splits each character.\n",
    "\n",
    "```\n",
    "s = \"string\"\n",
    "list(s)\n",
    ">>> ['s','t','r','i','n','g']\n",
    "```\n",
    "- Convert the string below into a list:"
   ]
  },
  {
   "cell_type": "code",
   "execution_count": 33,
   "metadata": {},
   "outputs": [],
   "source": [
    "p = \"Python\"\n",
    "a=list(p)\n",
    "b=a.reverse()\n",
    "b"
   ]
  },
  {
   "cell_type": "code",
   "execution_count": 38,
   "metadata": {},
   "outputs": [
    {
     "data": {
      "text/plain": [
       "['n', 'o', 'h', 't', 'y', 'P']"
      ]
     },
     "execution_count": 38,
     "metadata": {},
     "output_type": "execute_result"
    }
   ],
   "source": [
    "p = \"Python\"\n",
    "a=list(p)\n",
    "a.reverse()\n",
    "a"
   ]
  },
  {
   "cell_type": "markdown",
   "metadata": {},
   "source": [
    "String formatting is useful for automated texts.\n",
    "- Observe the following snippet of code."
   ]
  },
  {
   "cell_type": "code",
   "execution_count": 27,
   "metadata": {},
   "outputs": [
    {
     "name": "stdout",
     "output_type": "stream",
     "text": [
      "ben sen 5\n"
     ]
    }
   ],
   "source": [
    "x=\"ben\"\n",
    "y=\"sen\"\n",
    "sayı=5\n",
    "print(x,y , sayı)"
   ]
  },
  {
   "cell_type": "code",
   "execution_count": 28,
   "metadata": {},
   "outputs": [
    {
     "name": "stdout",
     "output_type": "stream",
     "text": [
      "ben sen 5\n"
     ]
    }
   ],
   "source": [
    "x=\"ben\"\n",
    "y=\"sen\"\n",
    "sayı=5\n",
    "print(x,y, str(sayı))"
   ]
  },
  {
   "cell_type": "code",
   "execution_count": 38,
   "metadata": {},
   "outputs": [
    {
     "name": "stdout",
     "output_type": "stream",
     "text": [
      "Rota 45, gemi rotada.\n",
      "Rota 45 gemi rotada\n",
      "Rota 0045, gemi rotada.\n",
      "Rota 45, gemi rotada.\n"
     ]
    }
   ],
   "source": [
    "route = 45\n",
    "\n",
    "print(f\"Rota {route}, gemi rotada.\")\n",
    "print(\"Rota {} gemi rotada\".format(route))\n",
    "print(\"Rota %04d, gemi rotada.\" % route)\n",
    "print(\"Rota %s, gemi rotada.\" % route)"
   ]
  },
  {
   "cell_type": "code",
   "execution_count": 39,
   "metadata": {},
   "outputs": [
    {
     "name": "stdout",
     "output_type": "stream",
     "text": [
      "sancak 10 Rota 45, gemi rotada.\n",
      "sancak 45, Rota 10 gemi rotada\n",
      "Rota 0045, gemi rotada.\n",
      "Rota 45, gemi rotada.\n"
     ]
    }
   ],
   "source": [
    "dümen_acisi = 10\n",
    "route = 45\n",
    "\n",
    "print(f\"sancak {dümen_acisi} Rota {route}, gemi rotada.\")\n",
    "print(\"sancak {}, Rota {} gemi rotada\".format(route, dümen_acisi))\n",
    "print(\"Rota %04d, gemi rotada.\" % route)\n",
    "print(\"Rota %s, gemi rotada.\" % route)"
   ]
  },
  {
   "cell_type": "code",
   "execution_count": 11,
   "metadata": {},
   "outputs": [
    {
     "name": "stdout",
     "output_type": "stream",
     "text": [
      " ben geldim helloooo\n"
     ]
    }
   ],
   "source": [
    "kim = \"ben\"\n",
    "print(f\" {kim} geldim helloooo\")"
   ]
  },
  {
   "cell_type": "markdown",
   "metadata": {},
   "source": [
    "**Bonus Question**\n",
    "\n",
    "Reverse the word `Python` into `nothyP`.\n",
    "\n",
    "- Alternative 1: Split the characters using `list`, use `reversed()` method and join back the string.\n",
    "\n",
    "- Alternative 2: Use slicing. \n",
    "\n",
    "\n",
    "\n"
   ]
  },
  {
   "cell_type": "code",
   "execution_count": 113,
   "metadata": {},
   "outputs": [
    {
     "data": {
      "text/plain": [
       "[0, 1, 2, 3, 4, 5, 6, 7, 8, 9, 10, 11, 12, 13, 14, 15, 16, 17, 18, 19]"
      ]
     },
     "execution_count": 113,
     "metadata": {},
     "output_type": "execute_result"
    }
   ],
   "source": [
    "a=list(range(20))\n",
    "a"
   ]
  },
  {
   "cell_type": "code",
   "execution_count": 116,
   "metadata": {},
   "outputs": [
    {
     "data": {
      "text/plain": [
       "[19, 18, 17, 16, 15, 14, 13, 12, 11, 10, 9, 8, 7, 6, 5, 4, 3, 2, 1, 0]"
      ]
     },
     "execution_count": 116,
     "metadata": {},
     "output_type": "execute_result"
    }
   ],
   "source": [
    "a[::-1]"
   ]
  },
  {
   "cell_type": "code",
   "execution_count": 122,
   "metadata": {},
   "outputs": [
    {
     "data": {
      "text/plain": [
       "['ben', 'biz', 'sen']"
      ]
     },
     "execution_count": 122,
     "metadata": {},
     "output_type": "execute_result"
    }
   ],
   "source": [
    "a= [\"ben\", \"sen\", \"biz\"]\n",
    "sorted(a)"
   ]
  },
  {
   "cell_type": "markdown",
   "metadata": {},
   "source": [
    "### Freestyle Section\n",
    "\n",
    "Explore the string methods using\n",
    "```\n",
    "a = 'string'\n",
    "dir(a)\n",
    "```\n",
    "\n",
    "There are lots of useful methods to deal with text data.\n",
    "\n",
    "Try `.find`, `strip`, `.count` and `.index` methods on longer strings to see what they do."
   ]
  },
  {
   "cell_type": "code",
   "execution_count": null,
   "metadata": {},
   "outputs": [],
   "source": [
    "a = 'string'\n",
    "dir(a)"
   ]
  },
  {
   "cell_type": "code",
   "execution_count": 45,
   "metadata": {},
   "outputs": [],
   "source": [
    "import numpy as np"
   ]
  },
  {
   "cell_type": "code",
   "execution_count": 49,
   "metadata": {},
   "outputs": [],
   "source": [
    "a=\"asdfghjkl\"\n",
    "def letter(x):\n",
    "    x=list(x)\n",
    "    num=np.random.choice(range(len(x)))\n",
    "    return x[num]\n",
    "    \n",
    "    "
   ]
  },
  {
   "cell_type": "code",
   "execution_count": 50,
   "metadata": {},
   "outputs": [
    {
     "data": {
      "text/plain": [
       "'k'"
      ]
     },
     "execution_count": 50,
     "metadata": {},
     "output_type": "execute_result"
    }
   ],
   "source": [
    "letter(a)"
   ]
  },
  {
   "cell_type": "code",
   "execution_count": 62,
   "metadata": {},
   "outputs": [],
   "source": [
    "a=\"asdfghjkl\"\n",
    "def letters(x):\n",
    "    x=list(x)\n",
    "    c=x[np.random.choice(range(len(x)))]\n",
    "    return c"
   ]
  },
  {
   "cell_type": "code",
   "execution_count": 65,
   "metadata": {},
   "outputs": [
    {
     "name": "stdout",
     "output_type": "stream",
     "text": [
      "g\n"
     ]
    }
   ],
   "source": [
    "print(letters(['a', 'b', 'c', 'd', 'e', 'f', 'g']))"
   ]
  },
  {
   "cell_type": "code",
   "execution_count": 51,
   "metadata": {},
   "outputs": [],
   "source": [
    "d = {'a':0, 'b':24, 'c':3, 'd':12, 'e':1}\n",
    "\n",
    "def get_highest_char(z):\n",
    "    q=max(sorted(z.values()))\n",
    "    w= [i for i,j in z.items() if j==q][0]\n",
    "    return w"
   ]
  },
  {
   "cell_type": "code",
   "execution_count": 52,
   "metadata": {},
   "outputs": [
    {
     "data": {
      "text/plain": [
       "'b'"
      ]
     },
     "execution_count": 52,
     "metadata": {},
     "output_type": "execute_result"
    }
   ],
   "source": [
    "e = {'a':19, 'b':70}\n",
    "d = {'a':40, 'b':9, 'c':50, 'd':12, 'e':1}\n",
    "\n",
    "get_highest_char(e)"
   ]
  },
  {
   "cell_type": "code",
   "execution_count": null,
   "metadata": {},
   "outputs": [],
   "source": []
  },
  {
   "cell_type": "code",
   "execution_count": 54,
   "metadata": {},
   "outputs": [
    {
     "data": {
      "text/plain": [
       "'e'"
      ]
     },
     "execution_count": 54,
     "metadata": {},
     "output_type": "execute_result"
    }
   ],
   "source": [
    "d = {'a':40, 'b':9, 'c':30, 'd':12, 'e':1}\n",
    "max(d, key=lambda x: x[0])"
   ]
  },
  {
   "cell_type": "code",
   "execution_count": 140,
   "metadata": {},
   "outputs": [
    {
     "data": {
      "text/plain": [
       "'f'"
      ]
     },
     "execution_count": 140,
     "metadata": {},
     "output_type": "execute_result"
    }
   ],
   "source": [
    "letters(a)"
   ]
  },
  {
   "cell_type": "code",
   "execution_count": 40,
   "metadata": {},
   "outputs": [],
   "source": [
    "a = \"a\""
   ]
  },
  {
   "cell_type": "code",
   "execution_count": null,
   "metadata": {},
   "outputs": [],
   "source": [
    "a."
   ]
  },
  {
   "cell_type": "code",
   "execution_count": 71,
   "metadata": {},
   "outputs": [
    {
     "data": {
      "text/plain": [
       "12"
      ]
     },
     "execution_count": 71,
     "metadata": {},
     "output_type": "execute_result"
    }
   ],
   "source": [
    "d = {'a':0, 'b':9, 'c':3, 'd':12, 'e':1}\n",
    "max(d.values())"
   ]
  },
  {
   "cell_type": "code",
   "execution_count": null,
   "metadata": {},
   "outputs": [],
   "source": [
    "assert get_highest_char(d) == 'd'"
   ]
  },
  {
   "cell_type": "code",
   "execution_count": 195,
   "metadata": {},
   "outputs": [
    {
     "name": "stdout",
     "output_type": "stream",
     "text": [
      "Random player average score: 15.67\n"
     ]
    },
    {
     "ename": "NameError",
     "evalue": "name 'MyPlayer' is not defined",
     "output_type": "error",
     "traceback": [
      "\u001b[1;31m---------------------------------------------------------------------------\u001b[0m",
      "\u001b[1;31mNameError\u001b[0m                                 Traceback (most recent call last)",
      "\u001b[1;32m<ipython-input-195-e213336fd87d>\u001b[0m in \u001b[0;36m<module>\u001b[1;34m\u001b[0m\n\u001b[0;32m     92\u001b[0m     \u001b[1;32mfor\u001b[0m \u001b[0mgames\u001b[0m \u001b[1;32min\u001b[0m \u001b[0mrange\u001b[0m\u001b[1;33m(\u001b[0m\u001b[1;36m100\u001b[0m\u001b[1;33m)\u001b[0m\u001b[1;33m:\u001b[0m\u001b[1;33m\u001b[0m\u001b[1;33m\u001b[0m\u001b[0m\n\u001b[0;32m     93\u001b[0m         \u001b[0mbandits\u001b[0m \u001b[1;33m=\u001b[0m \u001b[0mKBandit\u001b[0m\u001b[1;33m(\u001b[0m\u001b[1;33m)\u001b[0m\u001b[1;33m\u001b[0m\u001b[1;33m\u001b[0m\u001b[0m\n\u001b[1;32m---> 94\u001b[1;33m         \u001b[0mplayer\u001b[0m \u001b[1;33m=\u001b[0m \u001b[0mMyPlayer\u001b[0m\u001b[1;33m(\u001b[0m\u001b[0mbandits\u001b[0m\u001b[1;33m=\u001b[0m\u001b[0mbandits\u001b[0m\u001b[1;33m)\u001b[0m\u001b[1;33m\u001b[0m\u001b[1;33m\u001b[0m\u001b[0m\n\u001b[0m\u001b[0;32m     95\u001b[0m         \u001b[1;32mfor\u001b[0m \u001b[0m_\u001b[0m \u001b[1;32min\u001b[0m \u001b[0mrange\u001b[0m\u001b[1;33m(\u001b[0m\u001b[1;36m100\u001b[0m\u001b[1;33m)\u001b[0m\u001b[1;33m:\u001b[0m\u001b[1;33m\u001b[0m\u001b[1;33m\u001b[0m\u001b[0m\n\u001b[0;32m     96\u001b[0m             \u001b[0mplayer\u001b[0m\u001b[1;33m.\u001b[0m\u001b[0mplay\u001b[0m\u001b[1;33m(\u001b[0m\u001b[1;33m)\u001b[0m\u001b[1;33m\u001b[0m\u001b[1;33m\u001b[0m\u001b[0m\n",
      "\u001b[1;31mNameError\u001b[0m: name 'MyPlayer' is not defined"
     ]
    }
   ],
   "source": [
    "import numpy as np\n",
    "\n",
    "\n",
    "class BanditError(AttributeError):\n",
    "    pass\n",
    "\n",
    "class KBandit:\n",
    "    \"\"\"K-armed bandit, with each arm having a different probability of payout.\"\"\"\n",
    "    def __init__(self, bandit_names=None, bandit_probas=None, shuffle=True):\n",
    "        if bandit_names is None:\n",
    "            bandit_names = ['a', 'b', 'c', 'd', 'e', 'f', 'g']\n",
    "        if bandit_probas is None:\n",
    "            bandit_probas = [0.333, 0.1, 0.2, 0.05, 0.15, 0.25, 0.01]\n",
    "        self.bandit_names = tuple(bandit_names)\n",
    "        if shuffle:\n",
    "            np.random.shuffle(bandit_names)\n",
    "            np.random.shuffle(bandit_probas)\n",
    "        self.__bandits = dict(zip(bandit_names.copy(), bandit_probas.copy()))\n",
    "\n",
    "    def pull(self, arm):\n",
    "        \"\"\"Pull an arm and observe the payout.\n",
    "\n",
    "        Args:\n",
    "        --------\n",
    "        arm : str, arm name\n",
    "\n",
    "        Returns:\n",
    "        payout  : int, {0, 1}\n",
    "\n",
    "        \"\"\"\n",
    "        if arm not in self.bandit_names:\n",
    "            raise BanditError(f\"Invalid arm: '{arm}'. Valid arm names are {set(self.bandit_names)}\")\n",
    "        proba = self.__bandits[arm]\n",
    "        return np.random.choice([0, 1], p=[1 - proba, proba])\n",
    "\n",
    "    def get_arm_names(self):\n",
    "        return self.bandit_names\n",
    "\n",
    "\n",
    "class Player:\n",
    "    def __init__(self, bandits):\n",
    "        self.bandits = bandits\n",
    "        self.payouts = {k: 0 for k in self.bandits.get_arm_names()}\n",
    "        self.trials = {k: 0 for k in self.bandits.get_arm_names()}\n",
    "\n",
    "    def play(self):\n",
    "        arm_name = self.strategy()\n",
    "        payout = self.bandits.pull(arm_name)\n",
    "        self.payouts[arm_name] += payout\n",
    "        self.trials[arm_name] += 1\n",
    "\n",
    "    def strategy(self):\n",
    "        # abstract method. leave this empty\n",
    "        pass\n",
    "\n",
    "    def score(self):\n",
    "        return sum(self.payouts.values())\n",
    "\n",
    "\n",
    "class RandomPlayer(Player):\n",
    "    def strategy(self):\n",
    "        return np.random.choice(self.bandits.bandit_names)\n",
    "\n",
    "\n",
    "class CustomPlayer(Player):\n",
    "    def strategy(self):\n",
    "        \"\"\"Evaluate the situation based on payouts and trials,\n",
    "        and return an arm name.\n",
    "\n",
    "        Returns:\n",
    "        -----------\n",
    "        arm_name : str\n",
    "        \"\"\"\n",
    "        payouts = self.payouts  # kac tane kazandirdi: {a:5, b:7, c:3, d:1}\n",
    "        pulls = self.trials  # kac kere oynandi: {a:15, b:24, c:30, d:10}\n",
    "        # TODO: Complete thus function\n",
    "        arm_name = None\n",
    "        return arm_name\n",
    "\n",
    "\n",
    "\n",
    "if __name__ == '__main__':\n",
    "    random_scores = []\n",
    "    for games in range(100):\n",
    "        bandits = KBandit()\n",
    "        player = RandomPlayer(bandits=bandits)\n",
    "        for _ in range(100):\n",
    "            player.play()\n",
    "        random_scores.append(player.score())\n",
    "    print('Random player average score:', np.mean(random_scores))\n",
    "    player_scores = []\n",
    "    for games in range(100):\n",
    "        bandits = KBandit()\n",
    "        player = MyPlayer(bandits=bandits)\n",
    "        for _ in range(100):\n",
    "            player.play()\n",
    "        player_scores.append(player.score())\n",
    "    print('Custom Player average score:', np.mean(player_scores))\n",
    "    assert not np.mean(random_scores) > np.mean(player_scores), \"Custom player score worse than Random player\"\n"
   ]
  },
  {
   "cell_type": "code",
   "execution_count": 198,
   "metadata": {},
   "outputs": [],
   "source": [
    "import numpy as np"
   ]
  },
  {
   "cell_type": "code",
   "execution_count": 219,
   "metadata": {},
   "outputs": [],
   "source": [
    "def gaussian_prob(x, mu, sigma):\n",
    "    return (1/(sigma * (2*np.pi)**0.5)) * np.exp((-(x-mu)**2)/ (2*(sigma)**2))"
   ]
  },
  {
   "cell_type": "code",
   "execution_count": 220,
   "metadata": {},
   "outputs": [
    {
     "data": {
      "text/plain": [
       "0.0044318484119380075"
      ]
     },
     "execution_count": 220,
     "metadata": {},
     "output_type": "execute_result"
    }
   ],
   "source": [
    "gaussian_prob(3,0,1)"
   ]
  },
  {
   "cell_type": "code",
   "execution_count": 221,
   "metadata": {},
   "outputs": [
    {
     "data": {
      "text/plain": [
       "0.12098536225957168"
      ]
     },
     "execution_count": 221,
     "metadata": {},
     "output_type": "execute_result"
    }
   ],
   "source": [
    "gaussian_prob(2,0,2)"
   ]
  },
  {
   "cell_type": "code",
   "execution_count": 215,
   "metadata": {},
   "outputs": [
    {
     "data": {
      "text/plain": [
       "0.19952172111690555"
      ]
     },
     "execution_count": 215,
     "metadata": {},
     "output_type": "execute_result"
    }
   ],
   "source": [
    "sigma=2\n",
    "kök= 1/(sigma * (2*3.14)**0.5)\n",
    "kök"
   ]
  },
  {
   "cell_type": "code",
   "execution_count": 200,
   "metadata": {},
   "outputs": [
    {
     "data": {
      "text/plain": [
       "2.718281828459045"
      ]
     },
     "execution_count": 200,
     "metadata": {},
     "output_type": "execute_result"
    }
   ],
   "source": [
    "np.exp(1)"
   ]
  },
  {
   "cell_type": "code",
   "execution_count": null,
   "metadata": {},
   "outputs": [],
   "source": [
    "def somun(tip1, tip2, yeni):\n",
    "    \"\"\"Args:\n",
    "    tip1 : array of type 1 class values, e.g. [6,7,5,4,6,7]\n",
    "    tip2 : array of type 2 class values, e.g. [8,6,3,7,9,6,5]\n",
    "    yeni : new value, e.g. 5\n",
    "    \"\"\"\n",
    "    # TODO: Replace None's\n",
    "    mu1 = None\n",
    "    std1 = None\n",
    "\n",
    "    mu2 = None\n",
    "    std2 = None\n",
    "\n",
    "    prior1 = None\n",
    "    prior2 = None\n",
    "\n",
    "    p1 = gaussian_prob(yeni, mu1, std1) * prior1\n",
    "    p2 = gaussian_prob(yeni, mu2, std2) * prior2\n",
    "\n",
    "    return p1/(p1 + p2), p2/(p1 + p2)"
   ]
  },
  {
   "cell_type": "code",
   "execution_count": 225,
   "metadata": {},
   "outputs": [],
   "source": [
    "def somun(tip1, tip2, yeni):\n",
    "    mu1= np.mean(tip1)\n",
    "    std1=np.std(tip1)\n",
    "    mu2= np.mean(tip2)\n",
    "    std2=np.std(tip2)\n",
    "    prior1= len(tip1) / (len(tip1)+ len(tip2))\n",
    "    prior2= len(tip2) / (len(tip1)+ len(tip2))\n",
    "    p1= gaussian_prob(yeni,mu1,std1)* prior1\n",
    "    p2= gaussian_prob(yeni,mu2,std2)* prior2\n",
    "    return p1/(p1 + p2), p2/(p1 + p2)\n",
    "    "
   ]
  },
  {
   "cell_type": "code",
   "execution_count": 226,
   "metadata": {},
   "outputs": [
    {
     "data": {
      "text/plain": [
       "(0.4288214224874051, 0.5711785775125949)"
      ]
     },
     "execution_count": 226,
     "metadata": {},
     "output_type": "execute_result"
    }
   ],
   "source": [
    "tip1= [3,4,9,1,2,4,5,5,6,3,4,10]\n",
    "tip2= [12,11,10,9]\n",
    "somun(tip1, tip2,9)"
   ]
  },
  {
   "cell_type": "code",
   "execution_count": null,
   "metadata": {},
   "outputs": [],
   "source": []
  },
  {
   "cell_type": "code",
   "execution_count": 224,
   "metadata": {},
   "outputs": [
    {
     "data": {
      "text/plain": [
       "1.707825127659933"
      ]
     },
     "execution_count": 224,
     "metadata": {},
     "output_type": "execute_result"
    }
   ],
   "source": [
    "a=[4,5,6,7,8,9]\n",
    "np.std(a)"
   ]
  },
  {
   "cell_type": "code",
   "execution_count": null,
   "metadata": {},
   "outputs": [],
   "source": []
  }
 ],
 "metadata": {
  "kernelspec": {
   "display_name": "Python 3",
   "language": "python",
   "name": "python3"
  },
  "language_info": {
   "codemirror_mode": {
    "name": "ipython",
    "version": 3
   },
   "file_extension": ".py",
   "mimetype": "text/x-python",
   "name": "python",
   "nbconvert_exporter": "python",
   "pygments_lexer": "ipython3",
   "version": "3.8.5"
  }
 },
 "nbformat": 4,
 "nbformat_minor": 2
}
