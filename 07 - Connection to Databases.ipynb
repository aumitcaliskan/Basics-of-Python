{
 "cells": [
  {
   "cell_type": "markdown",
   "id": "f8221c80-224c-40c4-9ecb-6110f9b97243",
   "metadata": {},
   "source": [
    "## DBAPI\n",
    "* Tüm RDBMS kütüphanelerinin temelini oluşturur.\n",
    "* Amaç farklı veritabanları ile benzer şekilde çalışabilmeyi sağlamak.\n",
    "* https://www.python.org/dev/peps/pep-0249/\n",
    "* Bağlantı kurulacak servera özel kütüphane tercih edilmeldir. Bir server için birden fazla kütüphane olabilir.\n",
    "    * `pyodbc`, `pymssql`, `cx_oracle`, `sqlite3` vs.\n",
    "\n",
    "**Not:** İlişkisel veritabanlarında SQL dili kullanımı farklı olabilir. ANSI/ISO standartlarına göre büyük oranda benzerdir. Firmalar kendi kitlelerine göre eklemeler yapar. SQL, T-SQL, PL/SQL, SQL-PL."
   ]
  },
  {
   "cell_type": "markdown",
   "id": "175a79dd-3bd5-4fdc-b46a-78fdd33e80ef",
   "metadata": {
    "tags": []
   },
   "source": [
    "### Klasor ve dosya ile çalışma"
   ]
  },
  {
   "cell_type": "code",
   "execution_count": 1,
   "id": "59aabbf9",
   "metadata": {},
   "outputs": [
    {
     "data": {
      "text/plain": [
       "'C:\\\\Users\\\\ahmet\\\\Desktop\\\\Getir Python Bootcamp\\\\new_file'"
      ]
     },
     "execution_count": 1,
     "metadata": {},
     "output_type": "execute_result"
    }
   ],
   "source": [
    "import os\n",
    "\n",
    "os.getcwd()\n",
    "#!cd #shell komutları kullanabiliriz."
   ]
  },
  {
   "cell_type": "code",
   "execution_count": 2,
   "id": "ea9d9e34",
   "metadata": {},
   "outputs": [],
   "source": [
    "\"\"\"\n",
    "    . çalıştığımız yol\n",
    "    .. bir  önceki yol\n",
    "    \n",
    "    linux -> /\n",
    "    windows -> / veya \\\\ veya raw string ile r\"c:\\nalbur\", repr(\"C:\\nalbur\")\n",
    "    \n",
    "    relative path ./klasor/dosya.txt\n",
    "    absolute path c:\\\\klasor\\\\dosya.txt gibi.\n",
    "\"\"\"\n",
    "\n",
    "os.makedirs(\"./databases\", exist_ok=True)"
   ]
  },
  {
   "cell_type": "code",
   "execution_count": 4,
   "id": "0dafff13",
   "metadata": {},
   "outputs": [
    {
     "data": {
      "text/plain": [
       "True"
      ]
     },
     "execution_count": 4,
     "metadata": {},
     "output_type": "execute_result"
    }
   ],
   "source": [
    "os.path.exists(\"./databases\")"
   ]
  },
  {
   "cell_type": "code",
   "execution_count": 5,
   "id": "055ff59d",
   "metadata": {},
   "outputs": [
    {
     "data": {
      "text/plain": [
       "True"
      ]
     },
     "execution_count": 5,
     "metadata": {},
     "output_type": "execute_result"
    }
   ],
   "source": [
    "\"databases\" in os.listdir()"
   ]
  },
  {
   "cell_type": "code",
   "execution_count": 6,
   "id": "37be6c51",
   "metadata": {},
   "outputs": [
    {
     "data": {
      "text/plain": [
       "True"
      ]
     },
     "execution_count": 6,
     "metadata": {},
     "output_type": "execute_result"
    }
   ],
   "source": [
    "os.path.isdir(\"./databases\")"
   ]
  },
  {
   "cell_type": "code",
   "execution_count": 7,
   "id": "02aa8b73",
   "metadata": {},
   "outputs": [
    {
     "data": {
      "text/plain": [
       "False"
      ]
     },
     "execution_count": 7,
     "metadata": {},
     "output_type": "execute_result"
    }
   ],
   "source": [
    "os.path.isfile(\"./databases\")"
   ]
  },
  {
   "cell_type": "code",
   "execution_count": 9,
   "id": "23308666",
   "metadata": {},
   "outputs": [
    {
     "name": "stdout",
     "output_type": "stream",
     "text": [
      "1_1_OrnekSorular.ipynb\n",
      "1_2_VeriTabanlarinaBaglanma.ipynb\n"
     ]
    }
   ],
   "source": [
    "# list(os.scandir(\".\"))\n",
    "\n",
    "for e in os.scandir(\".\"): # DirEntry\n",
    "    if e.is_file():\n",
    "        print(e.name)"
   ]
  },
  {
   "cell_type": "code",
   "execution_count": 3,
   "id": "b596c02d-71eb-4047-afc0-bd33dc37fbfb",
   "metadata": {},
   "outputs": [
    {
     "name": "stdout",
     "output_type": "stream",
     "text": [
      "1_1_OrnekSorular.ipynb\n",
      "1_2_VeriTabanlarinaBaglanma.ipynb\n",
      "1_3_urlretrieve_urlopen_request_BeautifulSoup.ipynb\n",
      "1_1_OrnekSorular-checkpoint.ipynb\n",
      "1_2_VeriTabanlarinaBaglanma-checkpoint.ipynb\n",
      "1_3_urlretrieve_urlopen_request_BeautifulSoup-checkpoint.ipynb\n",
      "loglarim.csv\n",
      "mesajDB.db\n",
      "pylogo2.png\n",
      "1_2_VeritabanlarinaBaglanma.html\n",
      "1_2_VeritabanlarinaBaglanma.ipynb\n",
      "1_3_urlretrieve_urlopen_request_BeautifulSoup.html\n",
      "1_3_urlretrieve_urlopen_request_BeautifulSoup.ipynb\n",
      "Regex.png\n",
      "1_1_SoruCevap-checkpoint.ipynb\n",
      "1_2_VeritabanlarinaBaglanma-checkpoint.html\n",
      "1_2_VeritabanlarinaBaglanma-checkpoint.ipynb\n",
      "1_3_urlretrieve_urlopen_request_BeautifulSoup-checkpoint.ipynb\n",
      "loglarim.csv\n",
      "mesajDB.db\n",
      "pylogo.png\n",
      "pylogo2.png\n",
      "loglarim-checkpoint.csv\n",
      "pylogo-checkpoint.png\n",
      "pylogo2-checkpoint.png\n"
     ]
    }
   ],
   "source": [
    "#alt yollara gitmek için walk\n",
    "list(os.walk(\".\")) #[(root, folders, files), (root, folders, files) .... ]\n",
    "\n",
    "\n",
    "for kok, klasorler, dosyalar in os.walk(\".\"):\n",
    "    for dsy in dosyalar:\n",
    "        print(dsy)"
   ]
  },
  {
   "cell_type": "markdown",
   "id": "e0224722-f317-4791-8721-4a0d1378f3a1",
   "metadata": {
    "tags": []
   },
   "source": [
    "### sqlite3 ile çalışmak\n",
    "* sqlite3 ayrı bir service kurmadan çalışılan light bir veritabanı programıdır. (RDBMS)\n",
    "* sqlite3 engine indirip kurulabilir. https://www.sqlite.org/download.html\n",
    "* SQL komutları ile çalışır. Ücretli bir RDBMS lisansına sahip olmadan çalışma imkanı tanır. (Oracle, MSSQL, MYSQL vs.)\n",
    "* sqlitestudio ile bağlanıp nesneleri yönetebiliriz. Sorgular oluşturabiliriz. https://sqlitestudio.pl/\n",
    "\n",
    "**Not:** Serverlara bağlanmak için bir bağlantı cümlesine ihtiyaç duyarız. [Tüm bağlantı cümleleri](https://www.connectionstrings.com/)"
   ]
  },
  {
   "cell_type": "code",
   "execution_count": 3,
   "id": "d49c5006",
   "metadata": {},
   "outputs": [],
   "source": [
    "import sqlite3\n",
    "\n",
    "import pandas as pd"
   ]
  },
  {
   "cell_type": "code",
   "execution_count": 2,
   "id": "3efe64d0",
   "metadata": {},
   "outputs": [],
   "source": [
    "con = sqlite3.connect(\"C://Users/ahmet/Desktop/Data Science/SQLite/chinook.db\")"
   ]
  },
  {
   "cell_type": "code",
   "execution_count": 5,
   "id": "38e2cc1d",
   "metadata": {},
   "outputs": [],
   "source": [
    "df = pd.read_sql_query(\"SELECT * FROM albums\", con=con)"
   ]
  },
  {
   "cell_type": "code",
   "execution_count": 6,
   "id": "a70b1000",
   "metadata": {},
   "outputs": [
    {
     "data": {
      "text/html": [
       "<div>\n",
       "<style scoped>\n",
       "    .dataframe tbody tr th:only-of-type {\n",
       "        vertical-align: middle;\n",
       "    }\n",
       "\n",
       "    .dataframe tbody tr th {\n",
       "        vertical-align: top;\n",
       "    }\n",
       "\n",
       "    .dataframe thead th {\n",
       "        text-align: right;\n",
       "    }\n",
       "</style>\n",
       "<table border=\"1\" class=\"dataframe\">\n",
       "  <thead>\n",
       "    <tr style=\"text-align: right;\">\n",
       "      <th></th>\n",
       "      <th>AlbumId</th>\n",
       "      <th>Title</th>\n",
       "      <th>ArtistId</th>\n",
       "    </tr>\n",
       "  </thead>\n",
       "  <tbody>\n",
       "    <tr>\n",
       "      <th>0</th>\n",
       "      <td>1</td>\n",
       "      <td>For Those About To Rock We Salute You</td>\n",
       "      <td>1</td>\n",
       "    </tr>\n",
       "    <tr>\n",
       "      <th>1</th>\n",
       "      <td>2</td>\n",
       "      <td>Balls to the Wall</td>\n",
       "      <td>2</td>\n",
       "    </tr>\n",
       "    <tr>\n",
       "      <th>2</th>\n",
       "      <td>3</td>\n",
       "      <td>Restless and Wild</td>\n",
       "      <td>2</td>\n",
       "    </tr>\n",
       "    <tr>\n",
       "      <th>3</th>\n",
       "      <td>4</td>\n",
       "      <td>Let There Be Rock</td>\n",
       "      <td>1</td>\n",
       "    </tr>\n",
       "    <tr>\n",
       "      <th>4</th>\n",
       "      <td>5</td>\n",
       "      <td>Big Ones</td>\n",
       "      <td>3</td>\n",
       "    </tr>\n",
       "    <tr>\n",
       "      <th>...</th>\n",
       "      <td>...</td>\n",
       "      <td>...</td>\n",
       "      <td>...</td>\n",
       "    </tr>\n",
       "    <tr>\n",
       "      <th>342</th>\n",
       "      <td>343</td>\n",
       "      <td>Respighi:Pines of Rome</td>\n",
       "      <td>226</td>\n",
       "    </tr>\n",
       "    <tr>\n",
       "      <th>343</th>\n",
       "      <td>344</td>\n",
       "      <td>Schubert: The Late String Quartets &amp; String Qu...</td>\n",
       "      <td>272</td>\n",
       "    </tr>\n",
       "    <tr>\n",
       "      <th>344</th>\n",
       "      <td>345</td>\n",
       "      <td>Monteverdi: L'Orfeo</td>\n",
       "      <td>273</td>\n",
       "    </tr>\n",
       "    <tr>\n",
       "      <th>345</th>\n",
       "      <td>346</td>\n",
       "      <td>Mozart: Chamber Music</td>\n",
       "      <td>274</td>\n",
       "    </tr>\n",
       "    <tr>\n",
       "      <th>346</th>\n",
       "      <td>347</td>\n",
       "      <td>Koyaanisqatsi (Soundtrack from the Motion Pict...</td>\n",
       "      <td>275</td>\n",
       "    </tr>\n",
       "  </tbody>\n",
       "</table>\n",
       "<p>347 rows × 3 columns</p>\n",
       "</div>"
      ],
      "text/plain": [
       "     AlbumId                                              Title  ArtistId\n",
       "0          1              For Those About To Rock We Salute You         1\n",
       "1          2                                  Balls to the Wall         2\n",
       "2          3                                  Restless and Wild         2\n",
       "3          4                                  Let There Be Rock         1\n",
       "4          5                                           Big Ones         3\n",
       "..       ...                                                ...       ...\n",
       "342      343                             Respighi:Pines of Rome       226\n",
       "343      344  Schubert: The Late String Quartets & String Qu...       272\n",
       "344      345                                Monteverdi: L'Orfeo       273\n",
       "345      346                              Mozart: Chamber Music       274\n",
       "346      347  Koyaanisqatsi (Soundtrack from the Motion Pict...       275\n",
       "\n",
       "[347 rows x 3 columns]"
      ]
     },
     "execution_count": 6,
     "metadata": {},
     "output_type": "execute_result"
    }
   ],
   "source": [
    "df"
   ]
  },
  {
   "cell_type": "code",
   "execution_count": 10,
   "id": "bf89e4dc",
   "metadata": {},
   "outputs": [
    {
     "ename": "OperationalError",
     "evalue": "table mesaj already exists",
     "output_type": "error",
     "traceback": [
      "\u001b[1;31m---------------------------------------------------------------------------\u001b[0m",
      "\u001b[1;31mOperationalError\u001b[0m                          Traceback (most recent call last)",
      "\u001b[1;32m~\\AppData\\Local\\Temp/ipykernel_10292/3302545696.py\u001b[0m in \u001b[0;36m<module>\u001b[1;34m\u001b[0m\n\u001b[0;32m      1\u001b[0m \u001b[1;31m# tablo oluşturma\u001b[0m\u001b[1;33m\u001b[0m\u001b[1;33m\u001b[0m\u001b[1;33m\u001b[0m\u001b[0m\n\u001b[0;32m      2\u001b[0m \u001b[1;33m\u001b[0m\u001b[0m\n\u001b[1;32m----> 3\u001b[1;33m con.execute(\"\"\"\n\u001b[0m\u001b[0;32m      4\u001b[0m \u001b[0mCREATE\u001b[0m \u001b[0mTABLE\u001b[0m \u001b[0mmesaj\u001b[0m\u001b[1;33m\u001b[0m\u001b[1;33m\u001b[0m\u001b[0m\n\u001b[0;32m      5\u001b[0m (\n",
      "\u001b[1;31mOperationalError\u001b[0m: table mesaj already exists"
     ]
    }
   ],
   "source": [
    "# tablo oluşturma\n",
    "\n",
    "con.execute(\"\"\"\n",
    "CREATE TABLE mesaj\n",
    "(\n",
    "    Id INT,\n",
    "    Metin VARCHAR(100)\n",
    ")\n",
    "\"\"\")"
   ]
  },
  {
   "cell_type": "code",
   "execution_count": null,
   "id": "b5c92e2b",
   "metadata": {},
   "outputs": [],
   "source": [
    "# tablo silmek için\n",
    "\n",
    "# con.execute(\"DROP TABLE mesaj\")"
   ]
  },
  {
   "cell_type": "code",
   "execution_count": 11,
   "id": "fedb9ce7",
   "metadata": {},
   "outputs": [],
   "source": [
    "# Kayıt girelim\n",
    "\n",
    "con.execute(\" INSERT INTO mesaj VALUES(1,'1. Kayıt')\")\n",
    "con.execute(\" INSERT INTO mesaj VALUES(2,'2. Kayıt')\")\n",
    "con.execute(\" INSERT INTO mesaj VALUES(3,'3. Kayıt')\")\n",
    "con.execute(\" INSERT INTO mesaj VALUES(4,'4. Kayıt')\")\n",
    "con.execute(\" INSERT INTO mesaj VALUES(5,'5. Kayıt')\")\n",
    "\n",
    "con.commit() # auto  commit yoksa işlemler geri alınır."
   ]
  },
  {
   "cell_type": "code",
   "execution_count": 24,
   "id": "7541019b",
   "metadata": {},
   "outputs": [],
   "source": [
    "# Kayıtları okuyalım\n",
    "# bağlantı üzerinden komut çalıştırılabilir geriye dönen cursor yakalanabilir. \n",
    "# baglantı üzerinden cursor oluşturulabilir. Cursoru ile sorgu çalıştırılabilir.\n",
    "\n",
    "# 1.Yöntem\n",
    "\"\"\"\n",
    "imlec = con.cursor()\n",
    "imlec.execute(\"SELECT * FROM mesaj LIMIT 3\")\n",
    "\"\"\"\n",
    "\n",
    "# 2.Yöntem\n",
    "imlec = con.execute(\"SELECT * FROM mesaj LIMIT 3\")"
   ]
  },
  {
   "cell_type": "code",
   "execution_count": 25,
   "id": "48d134a7",
   "metadata": {},
   "outputs": [
    {
     "data": {
      "text/plain": [
       "['Id', 'Metin']"
      ]
     },
     "execution_count": 25,
     "metadata": {},
     "output_type": "execute_result"
    }
   ],
   "source": [
    "# kolon bilgisi\n",
    "\n",
    "imlec.description\n",
    "\n",
    "kolonlar = [c[0] for c in imlec.description]\n",
    "kolonlar"
   ]
  },
  {
   "cell_type": "code",
   "execution_count": 26,
   "id": "4589dc53",
   "metadata": {},
   "outputs": [
    {
     "data": {
      "text/plain": [
       "[(1, '1. Kayıt'), (2, '2. Kayıt'), (3, '3. Kayıt')]"
      ]
     },
     "execution_count": 26,
     "metadata": {},
     "output_type": "execute_result"
    }
   ],
   "source": [
    "# satır bilgisi\n",
    "\n",
    "satirlar = imlec.fetchall() # imlec sonuna kadar okur. sona geldiğinde boş döner.\n",
    "satirlar"
   ]
  },
  {
   "cell_type": "code",
   "execution_count": 27,
   "id": "3b0ba857",
   "metadata": {},
   "outputs": [
    {
     "name": "stdout",
     "output_type": "stream",
     "text": [
      "| Id  |       Metin        |\n",
      "----------------------------\n",
      "|  1  |      1. Kayıt      \n",
      "|  2  |      2. Kayıt      \n",
      "|  3  |      3. Kayıt      \n"
     ]
    }
   ],
   "source": [
    "# ekrana yazdıralım\n",
    "\n",
    "print(f\"|{kolonlar[0]:^5}|{kolonlar[1]:^20}|\")\n",
    "\n",
    "print(\"-\"*28)\n",
    "\n",
    "for s in satirlar:\n",
    "    print(f\"|{s[0]:^5}|{s[1]:^20}\")"
   ]
  },
  {
   "cell_type": "code",
   "execution_count": 16,
   "id": "d5891d60",
   "metadata": {},
   "outputs": [
    {
     "name": "stdout",
     "output_type": "stream",
     "text": [
      "Id:1 Metin:1. Kayıt \n",
      "Id:2 Metin:2. Kayıt \n",
      "Id:3 Metin:3. Kayıt \n"
     ]
    }
   ],
   "source": [
    "# zip ile paralel loop yapıyoruz.\n",
    "# print(kolonlar)\n",
    "# print(satirlar)\n",
    "\n",
    "for satir in satirlar:\n",
    "    for c_r in zip(kolonlar, satir): # unpacking ile kolon ve satırı alabiliriz\n",
    "        # print(\"{}:{}\".format(c_r[0], c_r[1]), end=' ')\n",
    "        print(\"{}:{}\".format(*c_r), end=\" \")\n",
    "    print(\"\")"
   ]
  },
  {
   "cell_type": "code",
   "execution_count": 28,
   "id": "3bd4518b",
   "metadata": {
    "tags": []
   },
   "outputs": [],
   "source": [
    "con.close() # kaynakları serbest"
   ]
  },
  {
   "cell_type": "code",
   "execution_count": 41,
   "id": "4ef5ac5c-c655-4f8f-b59e-441b7b1ec0e4",
   "metadata": {},
   "outputs": [],
   "source": [
    "a = [1,2,3]\n",
    "b = [4,5,6]\n",
    "c = [7,8,9]"
   ]
  },
  {
   "cell_type": "code",
   "execution_count": 33,
   "id": "a047458f-1f80-4244-970d-598db3002884",
   "metadata": {},
   "outputs": [
    {
     "data": {
      "text/plain": [
       "[1, 2, 3, [4, 5, 6]]"
      ]
     },
     "execution_count": 33,
     "metadata": {},
     "output_type": "execute_result"
    }
   ],
   "source": [
    "a.append(b) #olduğu gibi ekler\n",
    "a"
   ]
  },
  {
   "cell_type": "code",
   "execution_count": 37,
   "id": "4266278c-3a04-416d-a1c0-0a53d0ef786e",
   "metadata": {},
   "outputs": [
    {
     "data": {
      "text/plain": [
       "[1, 2, 3, 4, 5, 6]"
      ]
     },
     "execution_count": 37,
     "metadata": {},
     "output_type": "execute_result"
    }
   ],
   "source": [
    "a.extend(b)  #elemanları açarak ekler.\n",
    "a"
   ]
  },
  {
   "cell_type": "code",
   "execution_count": 38,
   "id": "94af437c-a15a-4c87-ade3-881bc044a28c",
   "metadata": {},
   "outputs": [
    {
     "ename": "AttributeError",
     "evalue": "'NoneType' object has no attribute 'extend'",
     "output_type": "error",
     "traceback": [
      "\u001b[1;31m---------------------------------------------------------------------------\u001b[0m",
      "\u001b[1;31mAttributeError\u001b[0m                            Traceback (most recent call last)",
      "\u001b[1;32m~\\AppData\\Local\\Temp/ipykernel_10292/3983982614.py\u001b[0m in \u001b[0;36m<module>\u001b[1;34m\u001b[0m\n\u001b[1;32m----> 1\u001b[1;33m \u001b[0ma\u001b[0m\u001b[1;33m.\u001b[0m\u001b[0mextend\u001b[0m\u001b[1;33m(\u001b[0m\u001b[0mb\u001b[0m\u001b[1;33m)\u001b[0m\u001b[1;33m.\u001b[0m\u001b[0mextend\u001b[0m\u001b[1;33m(\u001b[0m\u001b[0mc\u001b[0m\u001b[1;33m)\u001b[0m \u001b[1;31m#HATA\u001b[0m\u001b[1;33m\u001b[0m\u001b[1;33m\u001b[0m\u001b[0m\n\u001b[0m",
      "\u001b[1;31mAttributeError\u001b[0m: 'NoneType' object has no attribute 'extend'"
     ]
    }
   ],
   "source": [
    "a.extend(b).extend(c) #HATA"
   ]
  },
  {
   "cell_type": "code",
   "execution_count": 39,
   "id": "179332b9-374d-4b03-aa21-7a7eb4c604b3",
   "metadata": {},
   "outputs": [
    {
     "data": {
      "text/plain": [
       "[1, 2, 3, 4, 5, 6, 4, 5, 6, 7, 8, 9]"
      ]
     },
     "execution_count": 39,
     "metadata": {},
     "output_type": "execute_result"
    }
   ],
   "source": [
    "a.extend(c)\n",
    "a"
   ]
  },
  {
   "cell_type": "code",
   "execution_count": 42,
   "id": "9eb86dfa-d343-4914-8b37-5cb61a084e51",
   "metadata": {},
   "outputs": [
    {
     "data": {
      "text/plain": [
       "[[1, 2, 3], [4, 5, 6], [7, 8, 9]]"
      ]
     },
     "execution_count": 42,
     "metadata": {},
     "output_type": "execute_result"
    }
   ],
   "source": [
    "#unpackign yöntemi\n",
    "[a,b,c]    #append"
   ]
  },
  {
   "cell_type": "code",
   "execution_count": 43,
   "id": "28bdb5a0-2394-4b64-b5fd-4495df4cf58b",
   "metadata": {},
   "outputs": [
    {
     "data": {
      "text/plain": [
       "[1, 2, 3, 4, 5, 6, 7, 8, 9]"
      ]
     },
     "execution_count": 43,
     "metadata": {},
     "output_type": "execute_result"
    }
   ],
   "source": [
    "[*a,*b,*c] #extend"
   ]
  },
  {
   "cell_type": "markdown",
   "id": "be3f08b6",
   "metadata": {},
   "source": [
    "### Commit ve Rollback"
   ]
  },
  {
   "cell_type": "code",
   "execution_count": 44,
   "id": "185fe8d2",
   "metadata": {},
   "outputs": [],
   "source": [
    "import sqlite3\n",
    "\n",
    "con = sqlite3.connect(\"databases/mesajDB.db\")"
   ]
  },
  {
   "cell_type": "code",
   "execution_count": 45,
   "id": "ffb6450e",
   "metadata": {},
   "outputs": [
    {
     "data": {
      "text/plain": [
       "<sqlite3.Cursor at 0x1a10e9c5880>"
      ]
     },
     "execution_count": 45,
     "metadata": {},
     "output_type": "execute_result"
    }
   ],
   "source": [
    "con.execute(\"DELETE FROM mesaj WHERE Id IN(1,3)\") # 1 ve 3 Idli satırları silelim\n",
    "con.execute(\"DELETE FROM mesaj WHERE Id IN(2,4)\") # 2 ve 4 Idli satırları silelim"
   ]
  },
  {
   "cell_type": "code",
   "execution_count": 47,
   "id": "47915484",
   "metadata": {},
   "outputs": [
    {
     "data": {
      "text/plain": [
       "[(5, '5. Kayıt'), (5, '5. Kayıt')]"
      ]
     },
     "execution_count": 47,
     "metadata": {},
     "output_type": "execute_result"
    }
   ],
   "source": [
    "con.execute(\"SELECT * FROM mesaj\").fetchall()"
   ]
  },
  {
   "cell_type": "code",
   "execution_count": 48,
   "id": "783c1b78",
   "metadata": {},
   "outputs": [],
   "source": [
    "con.rollback() # commit edilmediği sürece oturumdaki tüm işlemler geri alınır."
   ]
  },
  {
   "cell_type": "code",
   "execution_count": 49,
   "id": "646e4bfb",
   "metadata": {},
   "outputs": [
    {
     "data": {
      "text/plain": [
       "[(1, '1. Kayıt'),\n",
       " (2, '2. Kayıt'),\n",
       " (3, '3. Kayıt'),\n",
       " (4, '4. Kayıt'),\n",
       " (5, '5. Kayıt'),\n",
       " (1, '1. Kayıt'),\n",
       " (2, '2. Kayıt'),\n",
       " (3, '3. Kayıt'),\n",
       " (4, '4. Kayıt'),\n",
       " (5, '5. Kayıt')]"
      ]
     },
     "execution_count": 49,
     "metadata": {},
     "output_type": "execute_result"
    }
   ],
   "source": [
    "con.execute(\"SELECT * FROM mesaj\").fetchall()"
   ]
  },
  {
   "cell_type": "code",
   "execution_count": 50,
   "id": "d8eb00fe",
   "metadata": {},
   "outputs": [],
   "source": [
    "con.commit() # işlemler kalıcı hale gelir"
   ]
  },
  {
   "cell_type": "markdown",
   "id": "b08713bc",
   "metadata": {},
   "source": [
    "### Pandas ile Okuma"
   ]
  },
  {
   "cell_type": "code",
   "execution_count": 48,
   "id": "8277de88",
   "metadata": {},
   "outputs": [],
   "source": [
    "import sqlite3\n",
    "\n",
    "con = sqlite3.connect(\"databases/mesajDB.db\")"
   ]
  },
  {
   "cell_type": "code",
   "execution_count": 49,
   "id": "7a89f7d1",
   "metadata": {},
   "outputs": [],
   "source": [
    "import pandas as pd\n",
    "\n",
    "df = pd.read_sql(\"SELECT * FROM mesaj\", con)"
   ]
  },
  {
   "cell_type": "code",
   "execution_count": 50,
   "id": "7c3e91b1",
   "metadata": {},
   "outputs": [
    {
     "data": {
      "text/html": [
       "<div>\n",
       "<style scoped>\n",
       "    .dataframe tbody tr th:only-of-type {\n",
       "        vertical-align: middle;\n",
       "    }\n",
       "\n",
       "    .dataframe tbody tr th {\n",
       "        vertical-align: top;\n",
       "    }\n",
       "\n",
       "    .dataframe thead th {\n",
       "        text-align: right;\n",
       "    }\n",
       "</style>\n",
       "<table border=\"1\" class=\"dataframe\">\n",
       "  <thead>\n",
       "    <tr style=\"text-align: right;\">\n",
       "      <th></th>\n",
       "      <th>Id</th>\n",
       "      <th>Metin</th>\n",
       "    </tr>\n",
       "  </thead>\n",
       "  <tbody>\n",
       "    <tr>\n",
       "      <th>0</th>\n",
       "      <td>1</td>\n",
       "      <td>1. Kayıt</td>\n",
       "    </tr>\n",
       "    <tr>\n",
       "      <th>1</th>\n",
       "      <td>2</td>\n",
       "      <td>2. Kayıt</td>\n",
       "    </tr>\n",
       "    <tr>\n",
       "      <th>2</th>\n",
       "      <td>3</td>\n",
       "      <td>3. Kayıt</td>\n",
       "    </tr>\n",
       "    <tr>\n",
       "      <th>3</th>\n",
       "      <td>4</td>\n",
       "      <td>4. Kayıt</td>\n",
       "    </tr>\n",
       "    <tr>\n",
       "      <th>4</th>\n",
       "      <td>5</td>\n",
       "      <td>5. Kayıt</td>\n",
       "    </tr>\n",
       "  </tbody>\n",
       "</table>\n",
       "</div>"
      ],
      "text/plain": [
       "   Id     Metin\n",
       "0   1  1. Kayıt\n",
       "1   2  2. Kayıt\n",
       "2   3  3. Kayıt\n",
       "3   4  4. Kayıt\n",
       "4   5  5. Kayıt"
      ]
     },
     "execution_count": 50,
     "metadata": {},
     "output_type": "execute_result"
    }
   ],
   "source": [
    "df"
   ]
  },
  {
   "cell_type": "code",
   "execution_count": 53,
   "id": "b1d7d5e8",
   "metadata": {},
   "outputs": [
    {
     "data": {
      "text/html": [
       "<div>\n",
       "<style scoped>\n",
       "    .dataframe tbody tr th:only-of-type {\n",
       "        vertical-align: middle;\n",
       "    }\n",
       "\n",
       "    .dataframe tbody tr th {\n",
       "        vertical-align: top;\n",
       "    }\n",
       "\n",
       "    .dataframe thead th {\n",
       "        text-align: right;\n",
       "    }\n",
       "</style>\n",
       "<table border=\"1\" class=\"dataframe\">\n",
       "  <thead>\n",
       "    <tr style=\"text-align: right;\">\n",
       "      <th></th>\n",
       "      <th>Metin</th>\n",
       "    </tr>\n",
       "  </thead>\n",
       "  <tbody>\n",
       "    <tr>\n",
       "      <th>0</th>\n",
       "      <td>1. Kayıt</td>\n",
       "    </tr>\n",
       "    <tr>\n",
       "      <th>1</th>\n",
       "      <td>2. Kayıt</td>\n",
       "    </tr>\n",
       "    <tr>\n",
       "      <th>2</th>\n",
       "      <td>3. Kayıt</td>\n",
       "    </tr>\n",
       "  </tbody>\n",
       "</table>\n",
       "</div>"
      ],
      "text/plain": [
       "      Metin\n",
       "0  1. Kayıt\n",
       "1  2. Kayıt\n",
       "2  3. Kayıt"
      ]
     },
     "execution_count": 53,
     "metadata": {},
     "output_type": "execute_result"
    }
   ],
   "source": [
    "df.loc[:2, [\"Metin\"]]"
   ]
  },
  {
   "cell_type": "markdown",
   "id": "9efd36fc-7dae-4c52-9771-56f21f72b640",
   "metadata": {
    "tags": []
   },
   "source": [
    "### MSSQL (veya Orale) ile Çalışmak\n",
    "\n",
    "* MSSQL'e bağlanmak için farklı kütüphaneler kullanabiliriz. `pyodbc`, `pymssql`\n",
    "* Microsoft `pyodbc` kütüphanesini test takip ediyor\n",
    "* `pip install pyodbc` ile indirelim. `import pyodbc` çalışma alanına alınır.\n",
    "* Sonra seçtiğimiz drivera özel bağlantı cümlesini belirterek bağlanırız.\n",
    "\n",
    "\n",
    "* **Oracle** için:\n",
    "    * `pip install cx-Oracle`\n",
    "    * `ìmport cx_Oracle`\n",
    "    * `cx_Oracle.connect(\"username/password@localhost\")`\n",
    "    * Bağlanılacak makinede `Oracle Client` kurulu olmalıdır."
   ]
  },
  {
   "cell_type": "code",
   "execution_count": 56,
   "id": "1b06afa2",
   "metadata": {},
   "outputs": [],
   "source": [
    "# pip install pyodbc"
   ]
  },
  {
   "cell_type": "code",
   "execution_count": 51,
   "id": "6e49ee44",
   "metadata": {},
   "outputs": [],
   "source": [
    "import pyodbc"
   ]
  },
  {
   "cell_type": "code",
   "execution_count": 52,
   "id": "72ee869e",
   "metadata": {},
   "outputs": [
    {
     "data": {
      "text/plain": [
       "['SQL Server',\n",
       " 'Microsoft Access Driver (*.mdb, *.accdb)',\n",
       " 'Microsoft Excel Driver (*.xls, *.xlsx, *.xlsm, *.xlsb)',\n",
       " 'Microsoft Access Text Driver (*.txt, *.csv)']"
      ]
     },
     "execution_count": 52,
     "metadata": {},
     "output_type": "execute_result"
    }
   ],
   "source": [
    "pyodbc.drivers() # yüklü olan driverları listeler."
   ]
  },
  {
   "cell_type": "code",
   "execution_count": 100,
   "id": "e0bce83a-b256-458f-a9b4-507939bf1db4",
   "metadata": {
    "tags": []
   },
   "outputs": [
    {
     "data": {
      "text/plain": [
       "'Driver={ODBC Driver 17 for SQL Server};Server=localhost;Database=master;UID=sa;PWD=123;'"
      ]
     },
     "execution_count": 100,
     "metadata": {},
     "output_type": "execute_result"
    }
   ],
   "source": [
    "#bağlantı cümlesi oluşturalım.\n",
    "#Driver={ODBC Driver 17 for SQL Server};Server=myServerAddress;Database=myDataBase;UID=myUsername;PWD=myPassword;\n",
    "#Driver={ODBC Driver 17 for SQL Server};Server=myServerAddress;Database=myDataBase;Trusted_Connection=yes;\n",
    "\n",
    "driver   = \"ODBC Driver 17 for SQL Server\"\n",
    "server   = \"localhost\"\n",
    "database = \"master\"\n",
    "username = \"sa\"\n",
    "password = \"123\"\n",
    "#driver   = \"{ODBC Driver 17 for SQL Server}\"\n",
    "#\"Driver={};Server={};Database={};UID={};PWD={};\".format(driver, server,database, username, password)\n",
    "\n",
    "#{{}} ile {} üretiyoruz.\n",
    "\"Driver={{{}}};Server={};Database={};UID={};PWD={};\".format(driver, server,database, username, password)"
   ]
  },
  {
   "cell_type": "code",
   "execution_count": 105,
   "id": "34a4bcad-4586-4419-85c1-a86bce0a7596",
   "metadata": {},
   "outputs": [],
   "source": [
    "#con = pyodbc.connect(\"Driver={};Server={};Database={};UID={};PWD={};\".format(driver, server,database, username, password))\n",
    "\n",
    "dict_cntstr = {\n",
    "            \"driver\":\"{ODBC Driver 17 for SQL Server}\",\n",
    "            \"server\":\"localhost\",\n",
    "            \"database\":\"master\",\n",
    "            \"username\":\"sa\",\n",
    "            \"password\":\"123\"\n",
    "         }\n",
    "\n",
    "cntstr = \"Driver={driver};Server={server};Database={database};UID={username};PWD={password};\".format_map(dict_cntstr)\n",
    "cntstr\n",
    "\n",
    "con = pyodbc.connect(cntstr)"
   ]
  },
  {
   "cell_type": "code",
   "execution_count": 107,
   "id": "39b0266f-4a65-48dd-852d-2b49138ccdc8",
   "metadata": {},
   "outputs": [],
   "source": [
    "imlec = con.execute(\"SELECT @@VERSION\")"
   ]
  },
  {
   "cell_type": "code",
   "execution_count": 108,
   "id": "b3c1ff1f-1892-4c92-b894-4488fa9e1ac0",
   "metadata": {},
   "outputs": [
    {
     "data": {
      "text/plain": [
       "('Microsoft SQL Server 2019 (RTM-CU9) (KB5000642) - 15.0.4102.2 (X64) \\n\\tJan 25 2021 20:16:12 \\n\\tCopyright (C) 2019 Microsoft Corporation\\n\\tEnterprise Edition (64-bit) on Windows 10 Pro 10.0 <X64> (Build 19044: )\\n', )"
      ]
     },
     "execution_count": 108,
     "metadata": {},
     "output_type": "execute_result"
    }
   ],
   "source": [
    "tekSatirSutun = imlec.fetchone() #tek hücre olduğu için\n",
    "tekSatirSutun #sonuç tuple (version, )"
   ]
  },
  {
   "cell_type": "code",
   "execution_count": 110,
   "id": "26a43b6a-08fe-4287-a727-663869a96c76",
   "metadata": {},
   "outputs": [
    {
     "name": "stdout",
     "output_type": "stream",
     "text": [
      "Microsoft SQL Server 2019 (RTM-CU9) (KB5000642) - 15.0.4102.2 (X64) \n",
      "\tJan 25 2021 20:16:12 \n",
      "\tCopyright (C) 2019 Microsoft Corporation\n",
      "\tEnterprise Edition (64-bit) on Windows 10 Pro 10.0 <X64> (Build 19044: )\n",
      "\n"
     ]
    }
   ],
   "source": [
    "print(tekSatirSutun[0])"
   ]
  },
  {
   "cell_type": "code",
   "execution_count": 111,
   "id": "15940fad-c6b6-49aa-9afd-4055fbd06f2d",
   "metadata": {},
   "outputs": [],
   "source": [
    "con.close()"
   ]
  },
  {
   "cell_type": "code",
   "execution_count": null,
   "id": "eb74377b",
   "metadata": {},
   "outputs": [],
   "source": []
  }
 ],
 "metadata": {
  "kernelspec": {
   "display_name": "Python 3 (ipykernel)",
   "language": "python",
   "name": "python3"
  },
  "language_info": {
   "codemirror_mode": {
    "name": "ipython",
    "version": 3
   },
   "file_extension": ".py",
   "mimetype": "text/x-python",
   "name": "python",
   "nbconvert_exporter": "python",
   "pygments_lexer": "ipython3",
   "version": "3.9.5"
  }
 },
 "nbformat": 4,
 "nbformat_minor": 5
}
